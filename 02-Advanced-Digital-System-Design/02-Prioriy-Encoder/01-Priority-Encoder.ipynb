{
 "cells": [
  {
   "cell_type": "markdown",
   "id": "41a0125b",
   "metadata": {
    "slideshow": {
     "slide_type": "slide"
    }
   },
   "source": [
    "# Advanced Digital System Design with Chisel\n",
    "### Priority Encoder\n",
    "\n",
    "## Dongho Park"
   ]
  },
  {
   "cell_type": "markdown",
   "id": "30f167d0",
   "metadata": {
    "slideshow": {
     "slide_type": "slide"
    }
   },
   "source": [
    "# Priority Encoder\n",
    "- A priority encoder is a circuit or algorithm that compresses multiple binary inputs into a smaller number of outputs. \n",
    "- The output of a priority encoder is the binary representation of the index of the most significant activated line, starting from zero. \n",
    "- They are often used to control interrupt requests by acting on the highest priority interrupt input.\n",
    "\n"
   ]
  },
  {
   "cell_type": "markdown",
   "id": "5b5b0406",
   "metadata": {
    "slideshow": {
     "slide_type": "slide"
    }
   },
   "source": [
    "# Operation"
   ]
  },
  {
   "cell_type": "markdown",
   "id": "534de460",
   "metadata": {
    "cell_style": "split"
   },
   "source": [
    "- If two or more inputs are given at the same time, the input having the highest priority will take precedence.\n",
    "- An example of a single bit 4 to 2 encoder is shown, where highest-priority inputs are to the left and \"x\" indicates an irrelevant value - i.e. any input value there yields the same output since it is superseded by higher-priority input. \n",
    "- The output V indicates if the input is valid."
   ]
  },
  {
   "cell_type": "markdown",
   "id": "a55b05b9",
   "metadata": {
    "cell_style": "split"
   },
   "source": [
    "![priority encoder](../../svg/Priority_Encoder/priority_encoder.svg)"
   ]
  },
  {
   "cell_type": "markdown",
   "id": "3499df18",
   "metadata": {
    "slideshow": {
     "slide_type": "slide"
    }
   },
   "source": [
    "# Use Case 1"
   ]
  },
  {
   "cell_type": "markdown",
   "id": "ea2938e1",
   "metadata": {
    "cell_style": "split",
    "slideshow": {
     "slide_type": "-"
    }
   },
   "source": [
    "### Arbiter\n",
    "- "
   ]
  },
  {
   "cell_type": "markdown",
   "id": "1c1991c7",
   "metadata": {
    "cell_style": "split"
   },
   "source": [
    "![priority encoder](../../svg/Arbiter/arbiter_impl.svg)"
   ]
  },
  {
   "cell_type": "code",
   "execution_count": null,
   "id": "a7e5a2aa",
   "metadata": {},
   "outputs": [],
   "source": []
  },
  {
   "cell_type": "markdown",
   "id": "0c0cf83a",
   "metadata": {},
   "source": [
    "# Use Case 2"
   ]
  },
  {
   "cell_type": "markdown",
   "id": "f8623f86",
   "metadata": {
    "cell_style": "split"
   },
   "source": [
    "### Interrupt Controller"
   ]
  },
  {
   "cell_type": "code",
   "execution_count": null,
   "id": "26eadb76",
   "metadata": {
    "cell_style": "split"
   },
   "outputs": [],
   "source": []
  },
  {
   "cell_type": "markdown",
   "id": "c7ec896c",
   "metadata": {
    "slideshow": {
     "slide_type": "slide"
    }
   },
   "source": [
    "# Golden Model"
   ]
  },
  {
   "cell_type": "markdown",
   "id": "e25a06a5",
   "metadata": {},
   "source": []
  },
  {
   "cell_type": "markdown",
   "id": "3d59954d",
   "metadata": {
    "slideshow": {
     "slide_type": "slide"
    }
   },
   "source": [
    "# Testbench"
   ]
  },
  {
   "cell_type": "markdown",
   "id": "107fa9ef",
   "metadata": {},
   "source": []
  },
  {
   "cell_type": "markdown",
   "id": "5eec861a",
   "metadata": {
    "slideshow": {
     "slide_type": "slide"
    }
   },
   "source": [
    "# Reference"
   ]
  },
  {
   "cell_type": "markdown",
   "id": "4026b313",
   "metadata": {},
   "source": [
    "- asdasd\n",
    "- asdasd"
   ]
  }
 ],
 "metadata": {
  "celltoolbar": "Slideshow",
  "kernelspec": {
   "display_name": "Python 3",
   "language": "python",
   "name": "python3"
  },
  "language_info": {
   "codemirror_mode": {
    "name": "ipython",
    "version": 3
   },
   "file_extension": ".py",
   "mimetype": "text/x-python",
   "name": "python",
   "nbconvert_exporter": "python",
   "pygments_lexer": "ipython3",
   "version": "3.6.8"
  }
 },
 "nbformat": 4,
 "nbformat_minor": 5
}
