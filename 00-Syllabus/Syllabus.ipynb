{
 "cells": [
  {
   "cell_type": "markdown",
   "id": "6971edf5",
   "metadata": {
    "slideshow": {
     "slide_type": "slide"
    }
   },
   "source": [
    "# Digital System Design with Chisel\n",
    "\n",
    "### Syllabus\n",
    "\n",
    "##### Dongho Park"
   ]
  },
  {
   "cell_type": "markdown",
   "id": "5ec016d2",
   "metadata": {
    "slideshow": {
     "slide_type": "slide"
    }
   },
   "source": [
    "# 사전 지식"
   ]
  },
  {
   "cell_type": "markdown",
   "id": "78af4139",
   "metadata": {
    "cell_style": "split"
   },
   "source": [
    "### 필수\n",
    "- **Verilog HDL** or VHDL\n",
    "- **논리 회로 관련 지식**\n",
    "- 컴퓨터 구조\n",
    "- 기본적인 디지털 시스템 관련 지식\n",
    "- 객체 지향 및 함수형 프로그래밍 관련 지식"
   ]
  },
  {
   "cell_type": "markdown",
   "id": "27a0ff3f",
   "metadata": {
    "cell_style": "split"
   },
   "source": [
    "### 권장\n",
    "- System Verilog\n",
    "- Scala 프로그래밍\n",
    "- SoC 설계 관련 지식"
   ]
  },
  {
   "cell_type": "markdown",
   "id": "ffc0519c",
   "metadata": {
    "slideshow": {
     "slide_type": "slide"
    }
   },
   "source": [
    "# Scala는 어떻게 공부해야하나요?\n",
    "- 본 강의의 목적은 스칼라 프로그래밍 언어를 교육하는것이 아님\n",
    "    - Chisel이라는 Scala에 임베디드된 DSL의 학습을 목표로 함\n",
    "- 따라서 Scala는 각자 학습할 필요가 있음"
   ]
  },
  {
   "cell_type": "markdown",
   "id": "f9e725ff",
   "metadata": {
    "slideshow": {
     "slide_type": "slide"
    }
   },
   "source": [
    "# Syllabus"
   ]
  },
  {
   "cell_type": "markdown",
   "id": "2a4a8e9e",
   "metadata": {
    "slideshow": {
     "slide_type": "slide"
    }
   },
   "source": [
    "## Part A : Chisel 문법 및 디지털 회로 설계\n",
    "### Chapter 1 : Chisel 기본 문법\n",
    "### Chapter 2 : Combinational Logic\n",
    "### Chapter 3 : Sequential Logic\n",
    "### Chapter 4 : Finite State Machine\n",
    "### Chapter 5 : Finite State Machine with Datapath"
   ]
  },
  {
   "cell_type": "markdown",
   "id": "d5dbf5de",
   "metadata": {
    "slideshow": {
     "slide_type": "slide"
    }
   },
   "source": [
    "## Part B : 디지털 시스템 설계\n",
    "### Chapter 1 : Chisel Standard Library\n",
    "### Chapter 2 : ReadyValid Handshake & FIFO\n",
    "### Chapter 3 : Arbiter & CrossBar\n",
    "### Chapter 4 : AXI Protocol Basic\n",
    "### Chapter 5 : AXI DMA\n",
    "### Chapter 6 : Bus Network"
   ]
  },
  {
   "cell_type": "markdown",
   "id": "3e291d2c",
   "metadata": {
    "slideshow": {
     "slide_type": "slide"
    }
   },
   "source": [
    "## Part C : Testbench\n",
    "### Chpater 1 : \n",
    "### Chpater 2 : \n",
    "### Chpater 3 : \n",
    "### Chpater 4 : "
   ]
  },
  {
   "cell_type": "markdown",
   "id": "d4b39f3f",
   "metadata": {
    "slideshow": {
     "slide_type": "slide"
    }
   },
   "source": [
    "## Part D : 하드웨어 생성기 만들기\n",
    "### Chpater 1 : 하드웨어 생성기란?\n",
    "### Chapter 2 : OOP 활용하기\n",
    "### Chapter 3 : FP 활용하기\n",
    "### Chapter 4 : 타입\n",
    "### Chapter 5 : 암시적 변수"
   ]
  },
  {
   "cell_type": "markdown",
   "id": "3bd3476e",
   "metadata": {
    "slideshow": {
     "slide_type": "slide"
    }
   },
   "source": [
    "## 번외 : 코드 리뷰\n",
    "### Chisel Util \n",
    "### Rocket Chip \n",
    "### Boom \n",
    "### DSP Tool "
   ]
  },
  {
   "cell_type": "markdown",
   "id": "e8e00232",
   "metadata": {
    "slideshow": {
     "slide_type": "slide"
    }
   },
   "source": [
    "# Reference"
   ]
  },
  {
   "cell_type": "code",
   "execution_count": null,
   "id": "969d195d",
   "metadata": {},
   "outputs": [],
   "source": []
  }
 ],
 "metadata": {
  "celltoolbar": "Slideshow",
  "kernelspec": {
   "display_name": "Python 3",
   "language": "python",
   "name": "python3"
  },
  "language_info": {
   "codemirror_mode": {
    "name": "ipython",
    "version": 3
   },
   "file_extension": ".py",
   "mimetype": "text/x-python",
   "name": "python",
   "nbconvert_exporter": "python",
   "pygments_lexer": "ipython3",
   "version": "3.6.8"
  }
 },
 "nbformat": 4,
 "nbformat_minor": 5
}
