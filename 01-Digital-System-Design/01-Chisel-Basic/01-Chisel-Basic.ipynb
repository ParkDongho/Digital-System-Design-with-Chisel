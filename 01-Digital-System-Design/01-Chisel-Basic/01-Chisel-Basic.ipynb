{
 "cells": [
  {
   "cell_type": "markdown",
   "id": "6aef4afb",
   "metadata": {
    "cell_style": "center",
    "slideshow": {
     "slide_type": "slide"
    }
   },
   "source": [
    "# Digital System Design with Chisel\n",
    "\n",
    "### Chapter 1 : Chisel 문법 기초\n",
    "\n",
    "##### Dongho Park"
   ]
  },
  {
   "cell_type": "markdown",
   "id": "f73ca714",
   "metadata": {
    "slideshow": {
     "slide_type": "slide"
    }
   },
   "source": [
    "# Chisel 문법 기초\n",
    "## 1. Chisel Type System\n",
    "## 2. Chisel Hardware\n",
    "## 3. Conditional \n",
    "## 4. Operators"
   ]
  },
  {
   "cell_type": "markdown",
   "id": "b9aee1c3",
   "metadata": {
    "slideshow": {
     "slide_type": "slide"
    }
   },
   "source": [
    "# Loading The Chisel Library Into a Notebook"
   ]
  },
  {
   "cell_type": "code",
   "execution_count": 21,
   "id": "b2cf3279",
   "metadata": {},
   "outputs": [
    {
     "data": {
      "text/plain": [
       "\u001b[36mpath\u001b[39m: \u001b[32mString\u001b[39m = \u001b[32m\"/home/parkdongho/dev/Digital-System-Design-with-Chisel/01-Chisel-Basic-and-Digital-CIrcuit-Design/01-Chisel-Basic/../../resource/chisel_deps.sc\"\u001b[39m"
      ]
     },
     "execution_count": 21,
     "metadata": {},
     "output_type": "execute_result"
    }
   ],
   "source": [
    "val path = System.getProperty(\"user.dir\") + \"/../../resource/chisel_deps.sc\"\n",
    "interp.load.module(ammonite.ops.Path(java.nio.file.FileSystems.getDefault().getPath(path)))"
   ]
  },
  {
   "cell_type": "code",
   "execution_count": 22,
   "id": "9457cf27",
   "metadata": {},
   "outputs": [
    {
     "data": {
      "text/plain": [
       "\u001b[32mimport \u001b[39m\u001b[36mchisel3._\n",
       "\u001b[39m\n",
       "\u001b[32mimport \u001b[39m\u001b[36mchisel3.util._\n",
       "\u001b[39m\n",
       "\u001b[32mimport \u001b[39m\u001b[36mchisel3.tester._\n",
       "\u001b[39m\n",
       "\u001b[32mimport \u001b[39m\u001b[36mchisel3.tester.RawTester.test\u001b[39m"
      ]
     },
     "execution_count": 22,
     "metadata": {},
     "output_type": "execute_result"
    }
   ],
   "source": [
    "import chisel3._\n",
    "import chisel3.util._\n",
    "import chisel3.tester._\n",
    "import chisel3.tester.RawTester.test"
   ]
  },
  {
   "cell_type": "markdown",
   "id": "8fba995b",
   "metadata": {
    "slideshow": {
     "slide_type": "slide"
    }
   },
   "source": [
    "# Scala Type"
   ]
  },
  {
   "cell_type": "code",
   "execution_count": 23,
   "id": "f2a1138a",
   "metadata": {
    "cell_style": "center"
   },
   "outputs": [
    {
     "data": {
      "text/plain": [
       "\u001b[36mres22_0\u001b[39m: \u001b[32mInt\u001b[39m = \u001b[32m1\u001b[39m\n",
       "\u001b[36mres22_1\u001b[39m: \u001b[32mDouble\u001b[39m = \u001b[32m1.0\u001b[39m\n",
       "\u001b[36mres22_2\u001b[39m: \u001b[32mBoolean\u001b[39m = true\n",
       "\u001b[36mres22_3\u001b[39m: \u001b[32mInt\u001b[39m = \u001b[32m1\u001b[39m\n",
       "\u001b[36mres22_4\u001b[39m: \u001b[32mLong\u001b[39m = \u001b[32m1L\u001b[39m\n",
       "\u001b[36mres22_5\u001b[39m: \u001b[32mDouble\u001b[39m = \u001b[32m1.0\u001b[39m\n",
       "\u001b[36mres22_6\u001b[39m: \u001b[32mFloat\u001b[39m = \u001b[32m1.0F\u001b[39m\n",
       "\u001b[36mres22_7\u001b[39m: \u001b[32mBoolean\u001b[39m = true\n",
       "\u001b[36ma\u001b[39m: \u001b[32mLong\u001b[39m = \u001b[32m1L\u001b[39m\n",
       "\u001b[36mres22_9\u001b[39m: \u001b[32mLong\u001b[39m = \u001b[32m1L\u001b[39m\n",
       "\u001b[36mres22_10\u001b[39m: \u001b[32mString\u001b[39m = \u001b[32m\"asdasda\"\u001b[39m"
      ]
     },
     "execution_count": 23,
     "metadata": {},
     "output_type": "execute_result"
    }
   ],
   "source": [
    "//scala literal\n",
    "1\n",
    "1.0\n",
    "true\n",
    "\n",
    "1 : Int\n",
    "1 : Long\n",
    "1 : Double\n",
    "1 : Float\n",
    "\n",
    "true : Boolean\n",
    "val a = 1 : Long\n",
    "a\n",
    "\"asdasda\" : String"
   ]
  },
  {
   "cell_type": "markdown",
   "id": "c192d24e",
   "metadata": {
    "slideshow": {
     "slide_type": "slide"
    }
   },
   "source": [
    "# 1. Chisel Type System"
   ]
  },
  {
   "cell_type": "markdown",
   "id": "969e0df3",
   "metadata": {
    "slideshow": {
     "slide_type": "slide"
    }
   },
   "source": [
    "## Chisel Type Overview"
   ]
  },
  {
   "cell_type": "markdown",
   "id": "fdf07fbe",
   "metadata": {
    "cell_style": "split",
    "slideshow": {
     "slide_type": "-"
    }
   },
   "source": [
    "![](img/type_hierarchy.svg)"
   ]
  },
  {
   "cell_type": "markdown",
   "id": "044f338b",
   "metadata": {
    "cell_style": "split"
   },
   "source": [
    "- Element\n",
    "    - Bool\n",
    "    - UInt\n",
    "    - SInt\n",
    "    - FixedPoint <- Next Time\n",
    "- Aggregate\n",
    "    - Vec\n",
    "    - Bundle\n",
    "        - UserType"
   ]
  },
  {
   "cell_type": "markdown",
   "id": "952ca2ec",
   "metadata": {
    "slideshow": {
     "slide_type": "slide"
    }
   },
   "source": [
    "## `Bool`"
   ]
  },
  {
   "cell_type": "markdown",
   "id": "de6507c6",
   "metadata": {
    "cell_style": "split",
    "slideshow": {
     "slide_type": "-"
    }
   },
   "source": [
    "##### Bool\n",
    "- single-bit logic signal\n",
    "- constructor : `Bool()`\n",
    "\n",
    "##### Bool Literal\n",
    "- constructor : `<Boolean>.B`\n",
    "- examples: `true.B`, `false.B`\n",
    "\n",
    "---\n",
    "* `<Bool>` : Chisel `Bool` Type\n",
    "* `<Boolean>` : Scala `Boolean` Type"
   ]
  },
  {
   "cell_type": "code",
   "execution_count": 4,
   "id": "8ec2c378",
   "metadata": {
    "cell_style": "split"
   },
   "outputs": [
    {
     "data": {
      "text/plain": [
       "\u001b[36mres3_0\u001b[39m: \u001b[32mBool\u001b[39m = Bool\n",
       "\u001b[36mboolImplicit\u001b[39m: \u001b[32mBool\u001b[39m = Bool\n",
       "\u001b[36mboolExplicit\u001b[39m: \u001b[32mBool\u001b[39m = Bool"
      ]
     },
     "execution_count": 4,
     "metadata": {},
     "output_type": "execute_result"
    }
   ],
   "source": [
    "// Bool\n",
    "Bool()\n",
    "val boolImplicit = Bool()\n",
    "val boolExplicit: Bool = Bool()"
   ]
  },
  {
   "cell_type": "code",
   "execution_count": 5,
   "id": "ec21a493",
   "metadata": {
    "cell_style": "split"
   },
   "outputs": [
    {
     "data": {
      "text/plain": [
       "\u001b[36mres4_0\u001b[39m: \u001b[32mBoolean\u001b[39m = true\n",
       "\u001b[36mres4_1\u001b[39m: \u001b[32mBoolean\u001b[39m = false\n",
       "\u001b[36mres4_2\u001b[39m: \u001b[32mBool\u001b[39m = Bool(true)\n",
       "\u001b[36mres4_3\u001b[39m: \u001b[32mBool\u001b[39m = Bool(false)\n",
       "\u001b[36mbooleanFoo\u001b[39m: \u001b[32mBoolean\u001b[39m = true\n",
       "\u001b[36mres4_5\u001b[39m: \u001b[32mBool\u001b[39m = Bool(true)\n",
       "\u001b[36mboolLiteral\u001b[39m: \u001b[32mBool\u001b[39m = Bool(true)"
      ]
     },
     "execution_count": 5,
     "metadata": {},
     "output_type": "execute_result"
    }
   ],
   "source": [
    "//Scala Boolean Literal\n",
    "true\n",
    "false\n",
    "\n",
    "// Bool Literal\n",
    "true.B //Bool literal\n",
    "false.B\n",
    "\n",
    "val booleanFoo : Boolean = true //Scala Boolean Type\n",
    "booleanFoo.B //Bool literal\n",
    "\n",
    "val boolLiteral: Bool = booleanFoo.B"
   ]
  },
  {
   "cell_type": "markdown",
   "id": "5d14fe27",
   "metadata": {
    "slideshow": {
     "slide_type": "slide"
    }
   },
   "source": [
    "## `UInt`"
   ]
  },
  {
   "cell_type": "markdown",
   "id": "f9609094",
   "metadata": {
    "cell_style": "split",
    "slideshow": {
     "slide_type": "-"
    }
   },
   "source": [
    "##### UInt\n",
    "- single-bit logic signal\n",
    "- constructor : \n",
    "  + `UInt()`\n",
    "  + `UInt(<Width>)`\n",
    "\n",
    "##### UInt Literal\n",
    "- constructor : \n",
    "  + `<Int>.U`\n",
    "  + `<Int>.U(<Width>)`\n",
    "  \n",
    " \n",
    "---\n",
    "* `<UInt>` : Chisel `UInt` Type\n",
    "* `<Int>` : Scala `Int` Type\n",
    "* `<Width>` : FIRRTL `Width` Type"
   ]
  },
  {
   "cell_type": "code",
   "execution_count": 6,
   "id": "3ec7dd6b",
   "metadata": {
    "cell_style": "split"
   },
   "outputs": [
    {
     "data": {
      "text/plain": [
       "\u001b[36mres5_0\u001b[39m: \u001b[32mUInt\u001b[39m = UInt\n",
       "\u001b[36mres5_1\u001b[39m: \u001b[32mUInt\u001b[39m = UInt<32>\n",
       "\u001b[32mimport \u001b[39m\u001b[36mchisel3.internal.firrtl._\n",
       "\u001b[39m\n",
       "\u001b[36mfooWidth\u001b[39m: \u001b[32mWidth\u001b[39m = \u001b[33mKnownWidth\u001b[39m(value = \u001b[32m64\u001b[39m)\n",
       "\u001b[36mfooUInt\u001b[39m: \u001b[32mUInt\u001b[39m = UInt<64>"
      ]
     },
     "execution_count": 6,
     "metadata": {},
     "output_type": "execute_result"
    }
   ],
   "source": [
    "//UInt\n",
    "UInt()     //UInt, width inferred\n",
    "UInt(32.W) //32bit UInt\n",
    "\n",
    "//Width constructor : <Int>.W\n",
    "import chisel3.internal.firrtl._\n",
    "val fooWidth = 64.W //firrtl Width Literal\n",
    "val fooUInt = UInt(fooWidth)"
   ]
  },
  {
   "cell_type": "code",
   "execution_count": 7,
   "id": "56761359",
   "metadata": {
    "cell_style": "split"
   },
   "outputs": [
    {
     "data": {
      "text/plain": [
       "\u001b[36mres6_0\u001b[39m: \u001b[32mUInt\u001b[39m = UInt<3>(4)\n",
       "\u001b[36mres6_1\u001b[39m: \u001b[32mUInt\u001b[39m = UInt<32>(4)\n",
       "\u001b[36mres6_2\u001b[39m: \u001b[32mUInt\u001b[39m = UInt<64>(4)\n",
       "\u001b[36mfooLiteral\u001b[39m: \u001b[32mUInt\u001b[39m = UInt<64>(4)"
      ]
     },
     "execution_count": 7,
     "metadata": {},
     "output_type": "execute_result"
    }
   ],
   "source": [
    "//UInt Literal\n",
    "4.U\n",
    "4.U(32.W)\n",
    "4.U(fooWidth)\n",
    "val fooLiteral = 4.U(fooWidth)"
   ]
  },
  {
   "cell_type": "markdown",
   "id": "d459dfab",
   "metadata": {
    "slideshow": {
     "slide_type": "slide"
    }
   },
   "source": [
    "## `SInt`"
   ]
  },
  {
   "cell_type": "markdown",
   "id": "ff0f35bb",
   "metadata": {
    "cell_style": "split"
   },
   "source": [
    "##### SInt\n",
    "- single-bit logic signal\n",
    "- constructor : \n",
    "  + `SInt()`\n",
    "  + `SInt(<Width>)`\n",
    "\n",
    "##### SInt Literal\n",
    "- constructor : \n",
    "  + `<Int>.S`\n",
    "  + `<Int>.S(<Width>)`\n",
    "  \n",
    "---\n",
    "* `<SInt>` : Chisel `SInt` Type\n",
    "* `<Int>` : Scala `Int` Type\n",
    "* `<Width>` : FIRRTL `Width` Type"
   ]
  },
  {
   "cell_type": "code",
   "execution_count": 8,
   "id": "3013b7ac",
   "metadata": {
    "cell_style": "split"
   },
   "outputs": [
    {
     "data": {
      "text/plain": [
       "\u001b[36mres7_0\u001b[39m: \u001b[32mSInt\u001b[39m = SInt\n",
       "\u001b[36mres7_1\u001b[39m: \u001b[32mSInt\u001b[39m = SInt<32>\n",
       "\u001b[32mimport \u001b[39m\u001b[36mchisel3.internal.firrtl._\n",
       "\u001b[39m\n",
       "\u001b[36mfooWidth\u001b[39m: \u001b[32mWidth\u001b[39m = \u001b[33mKnownWidth\u001b[39m(value = \u001b[32m64\u001b[39m)\n",
       "\u001b[36mfooUInt\u001b[39m: \u001b[32mSInt\u001b[39m = SInt<64>"
      ]
     },
     "execution_count": 8,
     "metadata": {},
     "output_type": "execute_result"
    }
   ],
   "source": [
    "//UInt\n",
    "SInt()     //UInt, width inferred\n",
    "SInt(32.W) //32bit UInt\n",
    "\n",
    "//Width constructor : <Int>.W\n",
    "import chisel3.internal.firrtl._\n",
    "val fooWidth = 64.W //firrtl Width Literal\n",
    "val fooUInt = SInt(fooWidth)"
   ]
  },
  {
   "cell_type": "code",
   "execution_count": 9,
   "id": "56f50dd4",
   "metadata": {
    "cell_style": "split"
   },
   "outputs": [
    {
     "data": {
      "text/plain": [
       "\u001b[36mres8_0\u001b[39m: \u001b[32mSInt\u001b[39m = SInt<4>(4)\n",
       "\u001b[36mres8_1\u001b[39m: \u001b[32mSInt\u001b[39m = SInt<32>(4)\n",
       "\u001b[36mres8_2\u001b[39m: \u001b[32mSInt\u001b[39m = SInt<64>(4)\n",
       "\u001b[36mfooLiteral\u001b[39m: \u001b[32mSInt\u001b[39m = SInt<64>(4)"
      ]
     },
     "execution_count": 9,
     "metadata": {},
     "output_type": "execute_result"
    }
   ],
   "source": [
    "//SInt Literal\n",
    "4.S\n",
    "4.S(32.W)\n",
    "4.S(fooWidth)\n",
    "val fooLiteral = 4.S(fooWidth)"
   ]
  },
  {
   "cell_type": "markdown",
   "id": "50b66e50",
   "metadata": {
    "slideshow": {
     "slide_type": "slide"
    }
   },
   "source": [
    "# Bundle and Vec\n",
    "\n",
    "\n",
    "- Chisel은 관련 신호를 그룹화하기 위해 `Bundle` 및 `Vec`을 제공함\n",
    "    - `Bundle` : 서로 다른 type의 신호를 명명된 필드로 그룹화\n",
    "    - `Vec` : **같은 type**의 신호(요소)의 색인화 가능한 모음을 나타냄\n",
    "- `Bundle` 및 `Vec`는 새로운 사용자 정의 Chisel type을 생성하고 임의로 중첩될 수 있음"
   ]
  },
  {
   "cell_type": "markdown",
   "id": "faf30e6f",
   "metadata": {
    "slideshow": {
     "slide_type": "slide"
    }
   },
   "source": [
    "## Bundle"
   ]
  },
  {
   "cell_type": "markdown",
   "id": "a798d08d",
   "metadata": {
    "cell_style": "split"
   },
   "source": [
    "- 여러 신호를 그룹화\n",
    "- 전체로서 참조되거나\n",
    "- 이름으로 개별필드에 엑세스 할수 있음\n",
    "- Bundle를 extend(상속)하고 생성자(constructor) 블록 내에서 \n",
    "- 필드를 val로 나열하는 클래스를 정의하여 번들(신호 모음)을 정의할 수 있음\n",
    "- 커스텀 타입을 기술"
   ]
  },
  {
   "cell_type": "markdown",
   "id": "68fd41ac",
   "metadata": {
    "cell_style": "center",
    "slideshow": {
     "slide_type": "slide"
    }
   },
   "source": [
    "## User Defined Type with Bundle"
   ]
  },
  {
   "cell_type": "code",
   "execution_count": 10,
   "id": "3202a6af",
   "metadata": {
    "cell_style": "split"
   },
   "outputs": [
    {
     "data": {
      "text/plain": [
       "defined \u001b[32mclass\u001b[39m \u001b[36mMyBundle\u001b[39m\n",
       "defined \u001b[32mobject\u001b[39m \u001b[36mMyBundle\u001b[39m"
      ]
     },
     "execution_count": 10,
     "metadata": {},
     "output_type": "execute_result"
    }
   ],
   "source": [
    "//custom type\n",
    "class MyBundle(width: Int) extends Bundle{\n",
    "  val a = Bool()\n",
    "  val b = UInt(width.W)\n",
    "  val c = UInt(width.W)\n",
    "}\n",
    "\n",
    "object MyBundle{\n",
    "  def apply(width: Int): MyBundle = {\n",
    "    new MyBundle(width)\n",
    "  }\n",
    "}"
   ]
  },
  {
   "cell_type": "code",
   "execution_count": 11,
   "id": "3931b8b4",
   "metadata": {
    "cell_style": "split"
   },
   "outputs": [
    {
     "data": {
      "text/plain": [
       "\u001b[32mimport \u001b[39m\u001b[36mMyBundle._\n",
       "//custom type with Direction\n",
       "\u001b[39m\n",
       "defined \u001b[32mclass\u001b[39m \u001b[36mMyBundleIO\u001b[39m\n",
       "defined \u001b[32mobject\u001b[39m \u001b[36mMyBundleIO\u001b[39m"
      ]
     },
     "execution_count": 11,
     "metadata": {},
     "output_type": "execute_result"
    }
   ],
   "source": [
    "import MyBundle._\n",
    "//custom type with Direction\n",
    "class MyBundleIO(width: Int) extends Bundle{\n",
    "  val data = Input(MyBundle(width))\n",
    "  val valid = Input(Bool())\n",
    "  val ready = Output(Bool())\n",
    "}\n",
    "\n",
    "object MyBundleIO{\n",
    "  def apply(width: Int): MyBundleIO = {\n",
    "    new MyBundleIO(width)\n",
    "  }\n",
    "}"
   ]
  },
  {
   "cell_type": "code",
   "execution_count": 12,
   "id": "daacf6e9",
   "metadata": {
    "cell_style": "center"
   },
   "outputs": [
    {
     "data": {
      "text/plain": [
       "defined \u001b[32mclass\u001b[39m \u001b[36mCrossBarSwitch\u001b[39m"
      ]
     },
     "execution_count": 12,
     "metadata": {},
     "output_type": "execute_result"
    }
   ],
   "source": [
    "class CrossBarSwitch(width: Int) extends Module{\n",
    "  val ioA = IO(MyBundleIO(width))\n",
    "  val ioB = IO(Flipped(MyBundleIO(width)))\n",
    "  ioB <> ioA\n",
    "}"
   ]
  },
  {
   "cell_type": "code",
   "execution_count": 12,
   "id": "2b49bae1",
   "metadata": {},
   "outputs": [],
   "source": [
    "//println(getVerilog(new CrossBarSwitch(4)))\n",
    "//visualize(() => new CrossBarSwitch(4))"
   ]
  },
  {
   "cell_type": "markdown",
   "id": "9c60d085",
   "metadata": {
    "slideshow": {
     "slide_type": "slide"
    }
   },
   "source": [
    "## Bundle Literal"
   ]
  },
  {
   "cell_type": "code",
   "execution_count": 13,
   "id": "b34d3be7",
   "metadata": {},
   "outputs": [
    {
     "data": {
      "text/plain": [
       "\u001b[32mimport \u001b[39m\u001b[36mchisel3._\n",
       "\u001b[39m\n",
       "\u001b[32mimport \u001b[39m\u001b[36mchisel3.experimental.BundleLiterals._\n",
       "\u001b[39m\n",
       "\u001b[32mimport \u001b[39m\u001b[36mMyBundle._\n",
       "\n",
       "\u001b[39m\n",
       "defined \u001b[32mclass\u001b[39m \u001b[36mCrossBarSwitch\u001b[39m"
      ]
     },
     "execution_count": 13,
     "metadata": {},
     "output_type": "execute_result"
    }
   ],
   "source": [
    "import chisel3._\n",
    "import chisel3.experimental.BundleLiterals._\n",
    "import MyBundle._\n",
    "\n",
    "class CrossBarSwitch(width: Int) extends Module{\n",
    "  val ioA = IO(MyBundleIO(width))\n",
    "  val ioB = IO(Flipped(MyBundleIO(width)))\n",
    "  ioB <> ioA\n",
    "  val ioB_0 = (MyBundle(8)).Lit(_.a -> false.B, _.b -> 0.U, _.c -> 0.U)\n",
    "}"
   ]
  },
  {
   "cell_type": "markdown",
   "id": "23d7301a",
   "metadata": {
    "slideshow": {
     "slide_type": "slide"
    }
   },
   "source": [
    "## Vec"
   ]
  },
  {
   "cell_type": "markdown",
   "id": "9e1e83c1",
   "metadata": {
    "cell_style": "split"
   },
   "source": [
    "- 동일한 type의 Chisel type 모음을 나타냄\n",
    "- 각 요소는 인덱스로 액세스할 수 있음\n",
    "- 다른 프로그래밍 언어의 배열(Array)과 유사\n",
    "    - Scala에는 이미 `Array`가 있음\n",
    "\n",
    "#### `Vec`의 용도\n",
    "1. 멀티플렉서인 하드웨어의 동적 주소 지정 \n",
    "2. 판독을 다중화하고 기록을 위한 enable 신호를 생성하는 것을 포 함하는 레지스터 파일 \n",
    "3. Module의 포트 수인 경우 매개변수화"
   ]
  },
  {
   "cell_type": "code",
   "execution_count": 14,
   "id": "d749705d",
   "metadata": {
    "cell_style": "split"
   },
   "outputs": [
    {
     "data": {
      "text/plain": [
       "defined \u001b[32mclass\u001b[39m \u001b[36mHelloWorld\u001b[39m"
      ]
     },
     "execution_count": 14,
     "metadata": {},
     "output_type": "execute_result"
    }
   ],
   "source": [
    "//CrossBar Example\n",
    "class HelloWorld extends Module{\n",
    "  val io = IO(new Bundle{\n",
    "    val in = Vec(3, MyBundleIO(8))\n",
    "    val out = Flipped(Vec(3, MyBundleIO(8)))\n",
    "  })\n",
    "}"
   ]
  },
  {
   "cell_type": "markdown",
   "id": "34c7718d",
   "metadata": {
    "slideshow": {
     "slide_type": "slide"
    }
   },
   "source": [
    "### `Vec`의 활용 1 : 멀티플렉서"
   ]
  },
  {
   "cell_type": "markdown",
   "id": "1375f07d",
   "metadata": {
    "cell_style": "split"
   },
   "source": [
    "- Vec은 Mux를 기술하기 위한 용도로 사용 할 수 있음"
   ]
  },
  {
   "cell_type": "code",
   "execution_count": 0,
   "id": "ee90371d",
   "metadata": {
    "cell_style": "split"
   },
   "outputs": [
    {
     "name": "stderr",
     "output_type": "stream",
     "text": [
      "cmd0.sc:1: not found: type Module\n",
      "class HelloWorld extends Module{\n",
      "                         ^cmd0.sc:2: not found: value IO\n",
      "  val io = IO(new Bundle{\n",
      "           ^cmd0.sc:2: not found: type Bundle\n",
      "  val io = IO(new Bundle{\n",
      "                  ^cmd0.sc:3: not found: value Vec\n",
      "    val in = Input(Vec(4, UInt(8.W)))\n",
      "                   ^cmd0.sc:3: not found: value UInt\n",
      "    val in = Input(Vec(4, UInt(8.W)))\n",
      "                          ^cmd0.sc:3: value W is not a member of Int\n",
      "    val in = Input(Vec(4, UInt(8.W)))\n",
      "                                 ^cmd0.sc:4: not found: value UInt\n",
      "    val sel = Input(UInt(2.W))\n",
      "                    ^cmd0.sc:4: value W is not a member of Int\n",
      "    val sel = Input(UInt(2.W))\n",
      "                           ^cmd0.sc:5: not found: value Output\n",
      "    val out = Output(UInt(8.W))\n",
      "              ^cmd0.sc:5: not found: value UInt\n",
      "    val out = Output(UInt(8.W))\n",
      "                     ^cmd0.sc:5: value W is not a member of Int\n",
      "    val out = Output(UInt(8.W))\n",
      "                            ^Compilation Failed"
     ]
    },
    {
     "ename": "",
     "evalue": "",
     "output_type": "error",
     "traceback": [
      "Compilation Failed"
     ]
    }
   ],
   "source": [
    "class HelloWorld extends Module{\n",
    "  val io = IO(new Bundle{\n",
    "    val in = Input(Vec(4, UInt(8.W)))\n",
    "    val sel = Input(UInt(2.W))\n",
    "    val out = Output(UInt(8.W))\n",
    "  })\n",
    "  io.out := io.in(io.sel)\n",
    "}"
   ]
  },
  {
   "cell_type": "code",
   "execution_count": null,
   "id": "64710350",
   "metadata": {
    "cell_style": "split"
   },
   "outputs": [],
   "source": [
    "println(getVerilog(new HelloWorld))"
   ]
  },
  {
   "cell_type": "code",
   "execution_count": null,
   "id": "7e27fc40",
   "metadata": {
    "cell_style": "split"
   },
   "outputs": [],
   "source": [
    "visualize(() => new HelloWorld)"
   ]
  },
  {
   "cell_type": "markdown",
   "id": "374c03ab",
   "metadata": {
    "slideshow": {
     "slide_type": "slide"
    }
   },
   "source": [
    "### `Vec`의 활용 2 : 레지스터 파일"
   ]
  },
  {
   "cell_type": "markdown",
   "id": "b1ab698a",
   "metadata": {
    "slideshow": {
     "slide_type": "slide"
    }
   },
   "source": [
    "### `Vec`의 활용 3 : Module 포트 수 매개변수화"
   ]
  },
  {
   "cell_type": "markdown",
   "id": "2c0af8de",
   "metadata": {
    "slideshow": {
     "slide_type": "slide"
    }
   },
   "source": [
    "## `MixedVec` (Chisel 3.2+)"
   ]
  },
  {
   "cell_type": "markdown",
   "id": "7115f579",
   "metadata": {
    "cell_style": "split"
   },
   "source": []
  },
  {
   "cell_type": "code",
   "execution_count": 14,
   "id": "4fd3aa07",
   "metadata": {
    "cell_style": "split"
   },
   "outputs": [
    {
     "data": {
      "text/plain": [
       "\u001b[32mimport \u001b[39m\u001b[36mchisel3.util.MixedVec\n",
       "\u001b[39m\n",
       "defined \u001b[32mclass\u001b[39m \u001b[36mModuleMixedVec\u001b[39m"
      ]
     },
     "execution_count": 14,
     "metadata": {},
     "output_type": "execute_result"
    }
   ],
   "source": [
    "import chisel3.util.MixedVec\n",
    "class ModuleMixedVec extends Module {\n",
    "  val io = IO(new Bundle {\n",
    "    val x = Input(UInt(3.W))\n",
    "    val y = Input(UInt(10.W))\n",
    "    val vec = Output(MixedVec(UInt(3.W), UInt(10.W)))\n",
    "  })\n",
    "  io.vec(0) := io.x\n",
    "  io.vec(1) := io.y\n",
    "}"
   ]
  },
  {
   "cell_type": "markdown",
   "id": "48896807",
   "metadata": {
    "slideshow": {
     "slide_type": "slide"
    }
   },
   "source": [
    "## 고급주제: Type Class를 활용한 User Defined Type System\n",
    "\n",
    "### Part D - 03 Advanced Type"
   ]
  },
  {
   "cell_type": "markdown",
   "id": "739502ca",
   "metadata": {
    "slideshow": {
     "slide_type": "slide"
    }
   },
   "source": [
    "# 2. Chisel Hardware Construct"
   ]
  },
  {
   "cell_type": "markdown",
   "id": "e1404d9e",
   "metadata": {
    "cell_style": "center",
    "slideshow": {
     "slide_type": "-"
    }
   },
   "source": [
    "- Hardware\n",
    "    - Module\n",
    "    - IO\n",
    "    - Wire\n",
    "    - Reg\n",
    "- Conditional\n",
    "    - When\n",
    "    - Switch\n",
    "- Enum"
   ]
  },
  {
   "cell_type": "markdown",
   "id": "57cab388",
   "metadata": {
    "slideshow": {
     "slide_type": "slide"
    }
   },
   "source": [
    "## Module"
   ]
  },
  {
   "cell_type": "markdown",
   "id": "97a80fe4",
   "metadata": {
    "cell_style": "split"
   },
   "source": [
    "- inherits from `Module`\n",
    "- contains at least one interface wrapped in a Module’s `IO()` method \n",
    "    + (traditionally stored in a port field named io)\n",
    "- wires together subcircuits in its constructor."
   ]
  },
  {
   "cell_type": "code",
   "execution_count": 15,
   "id": "507775ec",
   "metadata": {
    "cell_style": "split"
   },
   "outputs": [
    {
     "data": {
      "text/plain": [
       "defined \u001b[32mclass\u001b[39m \u001b[36mhello\u001b[39m"
      ]
     },
     "execution_count": 15,
     "metadata": {},
     "output_type": "execute_result"
    }
   ],
   "source": [
    "class hello extends Module"
   ]
  },
  {
   "cell_type": "code",
   "execution_count": 16,
   "id": "427132dd",
   "metadata": {
    "cell_style": "split"
   },
   "outputs": [
    {
     "name": "stdout",
     "output_type": "stream",
     "text": [
      "module hello(\n",
      "  input   clock,\n",
      "  input   reset\n",
      ");\n",
      "endmodule\n"
     ]
    }
   ],
   "source": [
    "println(getVerilog(new hello))"
   ]
  },
  {
   "cell_type": "code",
   "execution_count": 17,
   "id": "f117dced",
   "metadata": {
    "cell_style": "split"
   },
   "outputs": [
    {
     "data": {
      "text/html": [
       "<div width=\"100%\" height=\"100%\" overflow=\"scroll\"><?xml version=\"1.0\" encoding=\"UTF-8\" standalone=\"no\"?>\n",
       "<?xml-stylesheet href=\"styles.css\" type=\"text/css\"?>\n",
       "<!DOCTYPE svg PUBLIC \"-//W3C//DTD SVG 1.1//EN\"\n",
       " \"http://www.w3.org/Graphics/SVG/1.1/DTD/svg11.dtd\">\n",
       "<!-- Generated by graphviz version 2.40.1 (0)\n",
       " -->\n",
       "<!-- Title: hello Pages: 1 -->\n",
       "<svg width=\"95pt\" height=\"153pt\"\n",
       " viewBox=\"0.00 0.00 95.00 153.00\" xmlns=\"http://www.w3.org/2000/svg\" xmlns:xlink=\"http://www.w3.org/1999/xlink\">\n",
       "<g id=\"graph0\" class=\"graph\" transform=\"scale(1 1) rotate(0) translate(4 149)\">\n",
       "<title>hello</title>\n",
       "<polygon fill=\"#ffffff\" stroke=\"transparent\" points=\"-4,4 -4,-149 91,-149 91,4 -4,4\"/>\n",
       "<g id=\"clust1\" class=\"cluster\">\n",
       "<title>cluster_hello</title>\n",
       "<polygon fill=\"#fff8dc\" stroke=\"#000000\" points=\"8,-8 8,-137 79,-137 79,-8 8,-8\"/>\n",
       "<text text-anchor=\"middle\" x=\"43.5\" y=\"-121.8\" font-family=\"Times,serif\" font-size=\"14.00\" fill=\"#000000\">hello</text>\n",
       "</g>\n",
       "<!-- cluster_hello_clock -->\n",
       "<g id=\"node1\" class=\"node\">\n",
       "<title>cluster_hello_clock</title>\n",
       "<polygon fill=\"#cccccc\" stroke=\"#000000\" points=\"71,-106 16,-106 16,-70 71,-70 71,-106\"/>\n",
       "<text text-anchor=\"middle\" x=\"43.5\" y=\"-84.3\" font-family=\"Times,serif\" font-size=\"14.00\" fill=\"#000000\">clock</text>\n",
       "</g>\n",
       "<!-- cluster_hello_reset -->\n",
       "<g id=\"node2\" class=\"node\">\n",
       "<title>cluster_hello_reset</title>\n",
       "<polygon fill=\"#cccccc\" stroke=\"#000000\" points=\"70.5,-52 16.5,-52 16.5,-16 70.5,-16 70.5,-52\"/>\n",
       "<text text-anchor=\"middle\" x=\"43.5\" y=\"-30.3\" font-family=\"Times,serif\" font-size=\"14.00\" fill=\"#000000\">reset</text>\n",
       "</g>\n",
       "</g>\n",
       "</svg>\n",
       "</div>"
      ]
     },
     "metadata": {},
     "output_type": "display_data"
    }
   ],
   "source": [
    "visualize(() => new hello)"
   ]
  },
  {
   "cell_type": "markdown",
   "id": "f5756e31",
   "metadata": {
    "slideshow": {
     "slide_type": "slide"
    }
   },
   "source": [
    "# `Wire`, `Reg`, `IO`"
   ]
  },
  {
   "cell_type": "markdown",
   "id": "e32f5f1b",
   "metadata": {
    "cell_style": "split"
   },
   "source": [
    "- `UInt`, `SInt`, `Bits`, `Bool`, `Bundle`, `Vec`은 Chisel type이며 그 자체는 하드웨어를 나타내지 않음\n",
    "- Chisel type을 `Wire`, `Reg`, `IO`로 감싸면 하드웨어가 생성됨\n",
    "    - Wire(`<ChiselType>`)\n",
    "    - Reg(`<ChiselType>`)\n",
    "    - IO(Direction(`<ChiselType>`))\n",
    "        - IO(Input(`<ChiselType>`))\n",
    "        - IO(Output(`<ChiselType>`))\n",
    "        - IO(`<BundleIO>`)"
   ]
  },
  {
   "cell_type": "markdown",
   "id": "7ef38fb3",
   "metadata": {
    "cell_style": "split"
   },
   "source": [
    "- `=` : 할당 연산자를 통해 인스턴스를 생성 \n",
    "    - ex) `val foo = Wire(UInt(3.W))`\n",
    "- `:=` : 업데이트 연산자를 통해 값을 업데이트 \n",
    "    - ex) `foo := 2.U(3.W)`\n",
    "- `<>` : bulk connection 연산자를 통해 Bundle을 연결"
   ]
  },
  {
   "cell_type": "markdown",
   "id": "5f447d90",
   "metadata": {
    "slideshow": {
     "slide_type": "slide"
    }
   },
   "source": [
    "## IO"
   ]
  },
  {
   "cell_type": "markdown",
   "id": "a62c9ba3",
   "metadata": {
    "cell_style": "split"
   },
   "source": [
    "- IO method는 `Module` 내부에서**만** 사용가능\n",
    "- 반드시 Chisel Type 이어야 함\n",
    "- Hardware에 바인딩 되지 않아야 함  \n",
    "\n",
    "```scala\n",
    "class ExampleModule extends Module{\n",
    "  val io = IO(Direction(Chisel_Type))\n",
    "  val io = IO(Bundle_with_Direction)\n",
    "}\n",
    "```\n",
    "> Direction : Input( ), Output( )  \n",
    "> Bundle_with_Direction : ExampleIO( ), BundleIO( )  "
   ]
  },
  {
   "cell_type": "code",
   "execution_count": 25,
   "id": "c3531a7c",
   "metadata": {
    "cell_style": "split"
   },
   "outputs": [
    {
     "data": {
      "text/plain": [
       "defined \u001b[32mclass\u001b[39m \u001b[36mAdderInBundle\u001b[39m\n",
       "defined \u001b[32mclass\u001b[39m \u001b[36mAdderOutBundle\u001b[39m\n",
       "defined \u001b[32mclass\u001b[39m \u001b[36mAdderIO\u001b[39m\n",
       "defined \u001b[32mclass\u001b[39m \u001b[36mHelloWorld\u001b[39m"
      ]
     },
     "execution_count": 25,
     "metadata": {},
     "output_type": "execute_result"
    }
   ],
   "source": [
    "class AdderInBundle(width: Int) extends Bundle{\n",
    "  val a = UInt(width.W)\n",
    "  val b = UInt(width.W)\n",
    "}\n",
    "\n",
    "class AdderOutBundle(width: Int) extends Bundle{\n",
    "  val z = UInt(width.W)\n",
    "}\n",
    "\n",
    "//direction은 Bundle 내부에서 정의 가능\n",
    "class AdderIO(width: Int) extends Bundle{\n",
    "  val in = Input(new AdderInBundle(width))\n",
    "  val out = Output(new AdderOutBundle(width))\n",
    "}\n",
    "\n",
    "class HelloWorld(width: Int) extends Module{\n",
    "  val io = IO(new AdderIO(width))\n",
    "  io.out.z := io.in.a + io.in.b\n",
    "}"
   ]
  },
  {
   "cell_type": "code",
   "execution_count": 26,
   "id": "c7401741",
   "metadata": {
    "cell_style": "split"
   },
   "outputs": [
    {
     "name": "stdout",
     "output_type": "stream",
     "text": [
      "module HelloWorld(\n",
      "  input        clock,\n",
      "  input        reset,\n",
      "  input  [7:0] io_in_a,\n",
      "  input  [7:0] io_in_b,\n",
      "  output [7:0] io_out_z\n",
      ");\n",
      "  assign io_out_z = io_in_a + io_in_b;\n",
      "endmodule\n"
     ]
    }
   ],
   "source": [
    "println(getVerilog(new HelloWorld(8)))"
   ]
  },
  {
   "cell_type": "code",
   "execution_count": 27,
   "id": "68a203a2",
   "metadata": {
    "cell_style": "split"
   },
   "outputs": [
    {
     "data": {
      "text/html": [
       "<div width=\"100%\" height=\"100%\" overflow=\"scroll\"><?xml version=\"1.0\" encoding=\"UTF-8\" standalone=\"no\"?>\n",
       "<?xml-stylesheet href=\"styles.css\" type=\"text/css\"?>\n",
       "<!DOCTYPE svg PUBLIC \"-//W3C//DTD SVG 1.1//EN\"\n",
       " \"http://www.w3.org/Graphics/SVG/1.1/DTD/svg11.dtd\">\n",
       "<!-- Generated by graphviz version 2.40.1 (0)\n",
       " -->\n",
       "<!-- Title: HelloWorld Pages: 1 -->\n",
       "<svg width=\"639pt\" height=\"261pt\"\n",
       " viewBox=\"0.00 0.00 639.00 261.00\" xmlns=\"http://www.w3.org/2000/svg\" xmlns:xlink=\"http://www.w3.org/1999/xlink\">\n",
       "<g id=\"graph0\" class=\"graph\" transform=\"scale(1 1) rotate(0) translate(4 257)\">\n",
       "<title>HelloWorld</title>\n",
       "<polygon fill=\"#ffffff\" stroke=\"transparent\" points=\"-4,4 -4,-257 635,-257 635,4 -4,4\"/>\n",
       "<g id=\"clust1\" class=\"cluster\">\n",
       "<title>cluster_HelloWorld</title>\n",
       "<polygon fill=\"#fff8dc\" stroke=\"#000000\" points=\"8,-8 8,-245 623,-245 623,-8 8,-8\"/>\n",
       "<text text-anchor=\"middle\" x=\"315.5\" y=\"-229.8\" font-family=\"Times,serif\" font-size=\"14.00\" fill=\"#000000\">HelloWorld</text>\n",
       "</g>\n",
       "<!-- cluster_HelloWorld_clock -->\n",
       "<g id=\"node1\" class=\"node\">\n",
       "<title>cluster_HelloWorld_clock</title>\n",
       "<polygon fill=\"#cccccc\" stroke=\"#000000\" points=\"77,-214 22,-214 22,-178 77,-178 77,-214\"/>\n",
       "<text text-anchor=\"middle\" x=\"49.5\" y=\"-192.3\" font-family=\"Times,serif\" font-size=\"14.00\" fill=\"#000000\">clock</text>\n",
       "</g>\n",
       "<!-- cluster_HelloWorld_reset -->\n",
       "<g id=\"node2\" class=\"node\">\n",
       "<title>cluster_HelloWorld_reset</title>\n",
       "<polygon fill=\"#cccccc\" stroke=\"#000000\" points=\"76.5,-160 22.5,-160 22.5,-124 76.5,-124 76.5,-160\"/>\n",
       "<text text-anchor=\"middle\" x=\"49.5\" y=\"-138.3\" font-family=\"Times,serif\" font-size=\"14.00\" fill=\"#000000\">reset</text>\n",
       "</g>\n",
       "<!-- cluster_HelloWorld_io_in_a -->\n",
       "<g id=\"node3\" class=\"node\">\n",
       "<title>cluster_HelloWorld_io_in_a</title>\n",
       "<polygon fill=\"#cccccc\" stroke=\"#000000\" points=\"82.5,-106 16.5,-106 16.5,-70 82.5,-70 82.5,-106\"/>\n",
       "<text text-anchor=\"middle\" x=\"49.5\" y=\"-84.3\" font-family=\"Times,serif\" font-size=\"14.00\" fill=\"#000000\">io_in_a</text>\n",
       "</g>\n",
       "<!-- op_add_3 -->\n",
       "<g id=\"node7\" class=\"node\">\n",
       "<title>op_add_3</title>\n",
       "<polygon fill=\"#d8bfd8\" stroke=\"transparent\" points=\"127,-41 127,-91 219,-91 219,-41 127,-41\"/>\n",
       "<polygon fill=\"none\" stroke=\"#000000\" points=\"127,-66 127,-91 150,-91 150,-66 127,-66\"/>\n",
       "<text text-anchor=\"start\" x=\"132\" y=\"-74.8\" font-family=\"Times,serif\" font-size=\"14.00\" fill=\"#000000\">●</text>\n",
       "<polygon fill=\"none\" stroke=\"#000000\" points=\"150,-41 150,-91 196,-91 196,-41 150,-41\"/>\n",
       "<text text-anchor=\"start\" x=\"155\" y=\"-62.3\" font-family=\"Times,serif\" font-size=\"14.00\" fill=\"#000000\"> add </text>\n",
       "<polygon fill=\"none\" stroke=\"#000000\" points=\"196,-41 196,-91 219,-91 219,-41 196,-41\"/>\n",
       "<text text-anchor=\"start\" x=\"201\" y=\"-62.3\" font-family=\"Times,serif\" font-size=\"14.00\" fill=\"#000000\">●</text>\n",
       "<polygon fill=\"none\" stroke=\"#000000\" points=\"127,-41 127,-66 150,-66 150,-41 127,-41\"/>\n",
       "<text text-anchor=\"start\" x=\"132\" y=\"-49.8\" font-family=\"Times,serif\" font-size=\"14.00\" fill=\"#000000\">●</text>\n",
       "</g>\n",
       "<!-- cluster_HelloWorld_io_in_a&#45;&gt;op_add_3 -->\n",
       "<g id=\"edge2\" class=\"edge\">\n",
       "<title>cluster_HelloWorld_io_in_a&#45;&gt;op_add_3:in1</title>\n",
       "<path fill=\"none\" stroke=\"#000000\" d=\"M82.5899,-82.4539C93.1876,-81.0214 105.2073,-79.7387 116.8781,-79.2309\"/>\n",
       "<polygon fill=\"#000000\" stroke=\"#000000\" points=\"117.0825,-82.7273 127,-79 116.9227,-75.7291 117.0825,-82.7273\"/>\n",
       "</g>\n",
       "<!-- cluster_HelloWorld_io_in_b -->\n",
       "<g id=\"node4\" class=\"node\">\n",
       "<title>cluster_HelloWorld_io_in_b</title>\n",
       "<polygon fill=\"#cccccc\" stroke=\"#000000\" points=\"83,-52 16,-52 16,-16 83,-16 83,-52\"/>\n",
       "<text text-anchor=\"middle\" x=\"49.5\" y=\"-30.3\" font-family=\"Times,serif\" font-size=\"14.00\" fill=\"#000000\">io_in_b</text>\n",
       "</g>\n",
       "<!-- cluster_HelloWorld_io_in_b&#45;&gt;op_add_3 -->\n",
       "<g id=\"edge1\" class=\"edge\">\n",
       "<title>cluster_HelloWorld_io_in_b&#45;&gt;op_add_3:in2</title>\n",
       "<path fill=\"none\" stroke=\"#000000\" d=\"M83.0173,-45.9251C93.4487,-48.8776 105.2704,-51.4952 116.8858,-52.5297\"/>\n",
       "<polygon fill=\"#000000\" stroke=\"#000000\" points=\"116.8482,-56.0317 127,-53 117.1734,-49.0392 116.8482,-56.0317\"/>\n",
       "</g>\n",
       "<!-- cluster_HelloWorld_io_out_z -->\n",
       "<g id=\"node5\" class=\"node\">\n",
       "<title>cluster_HelloWorld_io_out_z</title>\n",
       "<polygon fill=\"#e0ffff\" stroke=\"#000000\" points=\"615,-71 540,-71 540,-35 615,-35 615,-71\"/>\n",
       "<text text-anchor=\"middle\" x=\"577.5\" y=\"-49.3\" font-family=\"Times,serif\" font-size=\"14.00\" fill=\"#000000\">io_out_z</text>\n",
       "</g>\n",
       "<!-- cluster_HelloWorld__io_out_z_T -->\n",
       "<g id=\"node6\" class=\"node\">\n",
       "<title>cluster_HelloWorld__io_out_z_T</title>\n",
       "<polygon fill=\"none\" stroke=\"#000000\" points=\"363,-84 263,-84 263,-48 363,-48 363,-84\"/>\n",
       "<text text-anchor=\"middle\" x=\"313\" y=\"-62.3\" font-family=\"Times,serif\" font-size=\"14.00\" fill=\"#000000\">_io_out_z_T</text>\n",
       "</g>\n",
       "<!-- op_tail_4 -->\n",
       "<g id=\"node8\" class=\"node\">\n",
       "<title>op_tail_4</title>\n",
       "<polygon fill=\"#d8bfd8\" stroke=\"transparent\" points=\"407,-28 407,-78 496,-78 496,-28 407,-28\"/>\n",
       "<polygon fill=\"none\" stroke=\"#000000\" points=\"407.5,-53 407.5,-78 430.5,-78 430.5,-53 407.5,-53\"/>\n",
       "<text text-anchor=\"start\" x=\"412.5\" y=\"-61.8\" font-family=\"Times,serif\" font-size=\"14.00\" fill=\"#000000\">●</text>\n",
       "<polygon fill=\"none\" stroke=\"#000000\" points=\"430.5,-28 430.5,-78 473.5,-78 473.5,-28 430.5,-28\"/>\n",
       "<text text-anchor=\"start\" x=\"435.5\" y=\"-49.3\" font-family=\"Times,serif\" font-size=\"14.00\" fill=\"#000000\"> tail </text>\n",
       "<polygon fill=\"none\" stroke=\"#000000\" points=\"473.5,-28 473.5,-78 496.5,-78 496.5,-28 473.5,-28\"/>\n",
       "<text text-anchor=\"start\" x=\"478.5\" y=\"-49.3\" font-family=\"Times,serif\" font-size=\"14.00\" fill=\"#000000\">●</text>\n",
       "<polygon fill=\"none\" stroke=\"#000000\" points=\"407.5,-28 407.5,-53 430.5,-53 430.5,-28 407.5,-28\"/>\n",
       "<text text-anchor=\"start\" x=\"414\" y=\"-36.8\" font-family=\"Times,serif\" font-size=\"14.00\" fill=\"#000000\">1</text>\n",
       "</g>\n",
       "<!-- cluster_HelloWorld__io_out_z_T&#45;&gt;op_tail_4 -->\n",
       "<g id=\"edge4\" class=\"edge\">\n",
       "<title>cluster_HelloWorld__io_out_z_T&#45;&gt;op_tail_4:in1</title>\n",
       "<path fill=\"none\" stroke=\"#000000\" d=\"M363.0243,-66C374.0187,-66 385.7857,-66 397.1771,-66\"/>\n",
       "<polygon fill=\"#000000\" stroke=\"#000000\" points=\"397.5,-69.5001 407.5,-66 397.5,-62.5001 397.5,-69.5001\"/>\n",
       "</g>\n",
       "<!-- op_add_3&#45;&gt;cluster_HelloWorld__io_out_z_T -->\n",
       "<g id=\"edge3\" class=\"edge\">\n",
       "<title>op_add_3:out&#45;&gt;cluster_HelloWorld__io_out_z_T</title>\n",
       "<path fill=\"none\" stroke=\"#000000\" d=\"M219,-66C229.8703,-66 241.4477,-66 252.6282,-66\"/>\n",
       "<polygon fill=\"#000000\" stroke=\"#000000\" points=\"252.7529,-69.5001 262.7529,-66 252.7529,-62.5001 252.7529,-69.5001\"/>\n",
       "</g>\n",
       "<!-- op_tail_4&#45;&gt;cluster_HelloWorld_io_out_z -->\n",
       "<g id=\"edge5\" class=\"edge\">\n",
       "<title>op_tail_4:out&#45;&gt;cluster_HelloWorld_io_out_z</title>\n",
       "<path fill=\"none\" stroke=\"#000000\" d=\"M496.5,-53C507.2633,-53 518.8311,-53 529.7602,-53\"/>\n",
       "<polygon fill=\"#000000\" stroke=\"#000000\" points=\"529.9959,-56.5001 539.9959,-53 529.9958,-49.5001 529.9959,-56.5001\"/>\n",
       "</g>\n",
       "</g>\n",
       "</svg>\n",
       "</div>"
      ]
     },
     "metadata": {},
     "output_type": "display_data"
    }
   ],
   "source": [
    "visualize(() => new HelloWorld(8))"
   ]
  },
  {
   "cell_type": "markdown",
   "id": "e93db4d9",
   "metadata": {
    "slideshow": {
     "slide_type": "slide"
    }
   },
   "source": [
    "## Wire"
   ]
  },
  {
   "cell_type": "markdown",
   "id": "b7de28d0",
   "metadata": {
    "cell_style": "split"
   },
   "source": [
    "##### Wire\n",
    "- constructor: `Wire(t: T)`\n",
    "\n",
    "##### WireDefault\n",
    "- constructor: `WireDefault(t: T)`\n"
   ]
  },
  {
   "cell_type": "code",
   "execution_count": null,
   "id": "373199c2",
   "metadata": {
    "cell_style": "split"
   },
   "outputs": [],
   "source": []
  },
  {
   "cell_type": "markdown",
   "id": "338e706c",
   "metadata": {
    "slideshow": {
     "slide_type": "slide"
    }
   },
   "source": [
    "## Reg"
   ]
  },
  {
   "cell_type": "markdown",
   "id": "44379824",
   "metadata": {
    "cell_style": "split"
   },
   "source": [
    "#### Reg\n",
    "- `Reg(t: T): T`\n",
    "\n",
    "#### RegInit\n",
    "- `RegInit(init: T): T`\n",
    "\n",
    "#### RegNext\n",
    "- `RegNext(next: T): T`\n",
    "- `RegNext(next: T, init: T): T`\n",
    "\n",
    "#### RegEnable\n",
    "- `RegEnable(next: T, enable: Bool): T`\n",
    "- `RegEnable(next: T, init: T, enable: Bool): T`\n"
   ]
  },
  {
   "cell_type": "code",
   "execution_count": 28,
   "id": "280cbe8b",
   "metadata": {
    "cell_style": "split"
   },
   "outputs": [
    {
     "data": {
      "text/plain": [
       "defined \u001b[32mclass\u001b[39m \u001b[36mHelloWorld\u001b[39m"
      ]
     },
     "execution_count": 28,
     "metadata": {},
     "output_type": "execute_result"
    }
   ],
   "source": [
    "class HelloWorld extends Module {\n",
    "  val io = IO(new Bundle{\n",
    "    val en = Input(Bool())\n",
    "    val in = Input(UInt(8.W))\n",
    "    val out = Output(UInt(8.W))\n",
    "  })\n",
    "  io.out := RegNext(Mux(io.en, io.in, io.out))\n",
    "}"
   ]
  },
  {
   "cell_type": "code",
   "execution_count": 29,
   "id": "ad4e2bdf",
   "metadata": {
    "cell_style": "split"
   },
   "outputs": [
    {
     "name": "stdout",
     "output_type": "stream",
     "text": [
      "module HelloWorld(\n",
      "  input        clock,\n",
      "  input        reset,\n",
      "  input        io_en,\n",
      "  input  [7:0] io_in,\n",
      "  output [7:0] io_out\n",
      ");\n",
      "  reg [7:0] io_out_REG;\n",
      "  assign io_out = io_out_REG;\n",
      "  always @(posedge clock) begin\n",
      "    if (io_en) begin\n",
      "      io_out_REG <= io_in;\n",
      "    end else begin\n",
      "      io_out_REG <= io_out;\n",
      "    end\n",
      "  end\n",
      "endmodule\n"
     ]
    }
   ],
   "source": [
    "println(getVerilog(new HelloWorld))"
   ]
  },
  {
   "cell_type": "code",
   "execution_count": 29,
   "id": "05fe555c",
   "metadata": {
    "cell_style": "split"
   },
   "outputs": [],
   "source": [
    "//visualize(() => new HelloWorld)"
   ]
  },
  {
   "cell_type": "markdown",
   "id": "2737256c",
   "metadata": {
    "slideshow": {
     "slide_type": "slide"
    }
   },
   "source": [
    "## When"
   ]
  },
  {
   "cell_type": "markdown",
   "id": "7ce0f31b",
   "metadata": {
    "cell_style": "split"
   },
   "source": [
    "verilog의 if문과 동일\n",
    "```scala\n",
    "when(<Chisel-Bool>) {\n",
    "  // run if condition1 true and skip rest\n",
    "} .elsewhen(<Chisel-Bool>) {\n",
    "  // run if condition2 true and skip rest\n",
    "} .otherwise {\n",
    "  // run if none of the above ran\n",
    "}\n",
    "```"
   ]
  },
  {
   "cell_type": "code",
   "execution_count": 30,
   "id": "e4d7dac2",
   "metadata": {
    "cell_style": "split"
   },
   "outputs": [
    {
     "data": {
      "text/plain": [
       "defined \u001b[32mclass\u001b[39m \u001b[36mHelloWorld\u001b[39m"
      ]
     },
     "execution_count": 30,
     "metadata": {},
     "output_type": "execute_result"
    }
   ],
   "source": [
    "class HelloWorld extends Module {\n",
    "  val io = IO(new Bundle{\n",
    "    val en = Input(Bool())\n",
    "    val in = Input(UInt(8.W))\n",
    "    val out = Output(UInt(8.W))\n",
    "  })\n",
    "  \n",
    "  val outReg = RegInit(0.U(8.W))\n",
    "  io.out := outReg\n",
    "  \n",
    "  when(io.en){\n",
    "    when(outReg === 0.U) {\n",
    "      outReg := io.in\n",
    "    } .otherwise {\n",
    "      outReg := 2.U\n",
    "    }\n",
    "  }\n",
    "  \n",
    "}"
   ]
  },
  {
   "cell_type": "code",
   "execution_count": 31,
   "id": "4d2dc41d",
   "metadata": {
    "cell_style": "split"
   },
   "outputs": [
    {
     "name": "stdout",
     "output_type": "stream",
     "text": [
      "module HelloWorld(\n",
      "  input        clock,\n",
      "  input        reset,\n",
      "  input        io_en,\n",
      "  input  [7:0] io_in,\n",
      "  output [7:0] io_out\n",
      ");\n",
      "  reg [7:0] outReg;\n",
      "  assign io_out = outReg;\n",
      "  always @(posedge clock) begin\n",
      "    if (reset) begin\n",
      "      outReg <= 8'h0;\n",
      "    end else if (io_en) begin\n",
      "      if (outReg == 8'h0) begin\n",
      "        outReg <= io_in;\n",
      "      end else begin\n",
      "        outReg <= 8'h2;\n",
      "      end\n",
      "    end\n",
      "  end\n",
      "endmodule\n"
     ]
    }
   ],
   "source": [
    "println(getVerilog(new HelloWorld))"
   ]
  },
  {
   "cell_type": "code",
   "execution_count": 32,
   "id": "37b1a462",
   "metadata": {
    "cell_style": "split"
   },
   "outputs": [
    {
     "data": {
      "text/html": [
       "<div width=\"100%\" height=\"100%\" overflow=\"scroll\"><?xml version=\"1.0\" encoding=\"UTF-8\" standalone=\"no\"?>\n",
       "<?xml-stylesheet href=\"styles.css\" type=\"text/css\"?>\n",
       "<!DOCTYPE svg PUBLIC \"-//W3C//DTD SVG 1.1//EN\"\n",
       " \"http://www.w3.org/Graphics/SVG/1.1/DTD/svg11.dtd\">\n",
       "<!-- Generated by graphviz version 2.40.1 (0)\n",
       " -->\n",
       "<!-- Title: HelloWorld Pages: 1 -->\n",
       "<svg width=\"852pt\" height=\"255pt\"\n",
       " viewBox=\"0.00 0.00 852.00 255.16\" xmlns=\"http://www.w3.org/2000/svg\" xmlns:xlink=\"http://www.w3.org/1999/xlink\">\n",
       "<g id=\"graph0\" class=\"graph\" transform=\"scale(1 1) rotate(0) translate(4 251.1638)\">\n",
       "<title>HelloWorld</title>\n",
       "<polygon fill=\"#ffffff\" stroke=\"transparent\" points=\"-4,4 -4,-251.1638 848,-251.1638 848,4 -4,4\"/>\n",
       "<g id=\"clust1\" class=\"cluster\">\n",
       "<title>cluster_HelloWorld</title>\n",
       "<polygon fill=\"#fff8dc\" stroke=\"#000000\" points=\"8,-48.1638 8,-239.1638 836,-239.1638 836,-48.1638 8,-48.1638\"/>\n",
       "<text text-anchor=\"middle\" x=\"422\" y=\"-223.9638\" font-family=\"Times,serif\" font-size=\"14.00\" fill=\"#000000\">HelloWorld</text>\n",
       "</g>\n",
       "<!-- cluster_HelloWorld_clock -->\n",
       "<g id=\"node1\" class=\"node\">\n",
       "<title>cluster_HelloWorld_clock</title>\n",
       "<polygon fill=\"#cccccc\" stroke=\"#000000\" points=\"71,-186.1638 16,-186.1638 16,-150.1638 71,-150.1638 71,-186.1638\"/>\n",
       "<text text-anchor=\"middle\" x=\"43.5\" y=\"-164.4638\" font-family=\"Times,serif\" font-size=\"14.00\" fill=\"#000000\">clock</text>\n",
       "</g>\n",
       "<!-- cluster_HelloWorld_reset -->\n",
       "<g id=\"node2\" class=\"node\">\n",
       "<title>cluster_HelloWorld_reset</title>\n",
       "<polygon fill=\"#cccccc\" stroke=\"#000000\" points=\"70.5,-107.1638 16.5,-107.1638 16.5,-71.1638 70.5,-71.1638 70.5,-107.1638\"/>\n",
       "<text text-anchor=\"middle\" x=\"43.5\" y=\"-85.4638\" font-family=\"Times,serif\" font-size=\"14.00\" fill=\"#000000\">reset</text>\n",
       "</g>\n",
       "<!-- mux_34148100 -->\n",
       "<g id=\"node9\" class=\"node\">\n",
       "<title>mux_34148100</title>\n",
       "<polygon fill=\"#afeeee\" stroke=\"transparent\" points=\"115,-64.1638 115,-114.1638 187,-114.1638 187,-64.1638 115,-64.1638\"/>\n",
       "<polygon fill=\"none\" stroke=\"#000000\" points=\"115,-89.1638 115,-114.1638 138,-114.1638 138,-89.1638 115,-89.1638\"/>\n",
       "<text text-anchor=\"start\" x=\"121.5\" y=\"-97.9638\" font-family=\"Times,serif\" font-size=\"14.00\" fill=\"#000000\">0</text>\n",
       "<polygon fill=\"none\" stroke=\"#000000\" points=\"138,-64.1638 138,-114.1638 164,-114.1638 164,-64.1638 138,-64.1638\"/>\n",
       "<text text-anchor=\"start\" x=\"143\" y=\"-85.4638\" font-family=\"Times,serif\" font-size=\"14.00\" fill=\"#000000\">a?</text>\n",
       "<polygon fill=\"none\" stroke=\"#000000\" points=\"164,-64.1638 164,-114.1638 187,-114.1638 187,-64.1638 164,-64.1638\"/>\n",
       "<text text-anchor=\"start\" x=\"169\" y=\"-85.4638\" font-family=\"Times,serif\" font-size=\"14.00\" fill=\"#000000\">●</text>\n",
       "<polygon fill=\"none\" stroke=\"#000000\" points=\"115,-64.1638 115,-89.1638 138,-89.1638 138,-64.1638 115,-64.1638\"/>\n",
       "<text text-anchor=\"start\" x=\"120\" y=\"-72.9638\" font-family=\"Times,serif\" font-size=\"14.00\" fill=\"#000000\">●</text>\n",
       "</g>\n",
       "<!-- cluster_HelloWorld_reset&#45;&gt;mux_34148100 -->\n",
       "<g id=\"edge9\" class=\"edge\">\n",
       "<title>cluster_HelloWorld_reset&#45;&gt;mux_34148100:select</title>\n",
       "<path fill=\"none\" stroke=\"#000000\" d=\"M70.6268,-72.2101C98.492,-56.1196 139.1288,-36.794 148.8526,-54.2929\"/>\n",
       "<polygon fill=\"#000000\" stroke=\"#000000\" points=\"145.4542,-55.1363 151,-64.1638 152.2942,-53.6483 145.4542,-55.1363\"/>\n",
       "</g>\n",
       "<!-- cluster_HelloWorld_io_en -->\n",
       "<g id=\"node3\" class=\"node\">\n",
       "<title>cluster_HelloWorld_io_en</title>\n",
       "<polygon fill=\"#cccccc\" stroke=\"#000000\" points=\"687,-132.1638 633,-132.1638 633,-96.1638 687,-96.1638 687,-132.1638\"/>\n",
       "<text text-anchor=\"middle\" x=\"660\" y=\"-110.4638\" font-family=\"Times,serif\" font-size=\"14.00\" fill=\"#000000\">io_en</text>\n",
       "</g>\n",
       "<!-- mux_1373815236 -->\n",
       "<g id=\"node10\" class=\"node\">\n",
       "<title>mux_1373815236</title>\n",
       "<polygon fill=\"#afeeee\" stroke=\"transparent\" points=\"748,-77.1638 748,-127.1638 820,-127.1638 820,-77.1638 748,-77.1638\"/>\n",
       "<polygon fill=\"none\" stroke=\"#000000\" points=\"748,-102.1638 748,-127.1638 771,-127.1638 771,-102.1638 748,-102.1638\"/>\n",
       "<text text-anchor=\"start\" x=\"753\" y=\"-110.9638\" font-family=\"Times,serif\" font-size=\"14.00\" fill=\"#000000\">●</text>\n",
       "<polygon fill=\"none\" stroke=\"#000000\" points=\"771,-77.1638 771,-127.1638 797,-127.1638 797,-77.1638 771,-77.1638\"/>\n",
       "<text text-anchor=\"start\" x=\"776\" y=\"-98.4638\" font-family=\"Times,serif\" font-size=\"14.00\" fill=\"#000000\">a?</text>\n",
       "<polygon fill=\"none\" stroke=\"#000000\" points=\"797,-77.1638 797,-127.1638 820,-127.1638 820,-77.1638 797,-77.1638\"/>\n",
       "<text text-anchor=\"start\" x=\"802\" y=\"-98.4638\" font-family=\"Times,serif\" font-size=\"14.00\" fill=\"#000000\">●</text>\n",
       "<polygon fill=\"none\" stroke=\"#000000\" points=\"748,-77.1638 748,-102.1638 771,-102.1638 771,-77.1638 748,-77.1638\"/>\n",
       "<text text-anchor=\"start\" x=\"753\" y=\"-85.9638\" font-family=\"Times,serif\" font-size=\"14.00\" fill=\"#000000\">●</text>\n",
       "</g>\n",
       "<!-- cluster_HelloWorld_io_en&#45;&gt;mux_1373815236 -->\n",
       "<g id=\"edge1\" class=\"edge\">\n",
       "<title>cluster_HelloWorld_io_en&#45;&gt;mux_1373815236:select</title>\n",
       "<path fill=\"none\" stroke=\"#000000\" d=\"M687.2123,-127.6399C720.0066,-142.5517 771.9997,-161.4725 782.2225,-137.1415\"/>\n",
       "<polygon fill=\"#000000\" stroke=\"#000000\" points=\"785.6918,-137.6226 784,-127.1638 778.8003,-136.3949 785.6918,-137.6226\"/>\n",
       "</g>\n",
       "<!-- cluster_HelloWorld_io_in -->\n",
       "<g id=\"node4\" class=\"node\">\n",
       "<title>cluster_HelloWorld_io_in</title>\n",
       "<polygon fill=\"#cccccc\" stroke=\"#000000\" points=\"580,-208.1638 526,-208.1638 526,-172.1638 580,-172.1638 580,-208.1638\"/>\n",
       "<text text-anchor=\"middle\" x=\"553\" y=\"-186.4638\" font-family=\"Times,serif\" font-size=\"14.00\" fill=\"#000000\">io_in</text>\n",
       "</g>\n",
       "<!-- mux_568415760 -->\n",
       "<g id=\"node11\" class=\"node\">\n",
       "<title>mux_568415760</title>\n",
       "<polygon fill=\"#afeeee\" stroke=\"transparent\" points=\"624,-154.1638 624,-204.1638 696,-204.1638 696,-154.1638 624,-154.1638\"/>\n",
       "<polygon fill=\"none\" stroke=\"#000000\" points=\"624,-179.1638 624,-204.1638 647,-204.1638 647,-179.1638 624,-179.1638\"/>\n",
       "<text text-anchor=\"start\" x=\"629\" y=\"-187.9638\" font-family=\"Times,serif\" font-size=\"14.00\" fill=\"#000000\">●</text>\n",
       "<polygon fill=\"none\" stroke=\"#000000\" points=\"647,-154.1638 647,-204.1638 673,-204.1638 673,-154.1638 647,-154.1638\"/>\n",
       "<text text-anchor=\"start\" x=\"652\" y=\"-175.4638\" font-family=\"Times,serif\" font-size=\"14.00\" fill=\"#000000\">a?</text>\n",
       "<polygon fill=\"none\" stroke=\"#000000\" points=\"673,-154.1638 673,-204.1638 696,-204.1638 696,-154.1638 673,-154.1638\"/>\n",
       "<text text-anchor=\"start\" x=\"678\" y=\"-175.4638\" font-family=\"Times,serif\" font-size=\"14.00\" fill=\"#000000\">●</text>\n",
       "<polygon fill=\"none\" stroke=\"#000000\" points=\"624,-154.1638 624,-179.1638 647,-179.1638 647,-154.1638 624,-154.1638\"/>\n",
       "<text text-anchor=\"start\" x=\"630.5\" y=\"-162.9638\" font-family=\"Times,serif\" font-size=\"14.00\" fill=\"#000000\">2</text>\n",
       "</g>\n",
       "<!-- cluster_HelloWorld_io_in&#45;&gt;mux_568415760 -->\n",
       "<g id=\"edge4\" class=\"edge\">\n",
       "<title>cluster_HelloWorld_io_in&#45;&gt;mux_568415760:in1</title>\n",
       "<path fill=\"none\" stroke=\"#000000\" d=\"M580.3045,-191.2924C590.5121,-191.6432 602.438,-191.9726 613.9933,-192.1039\"/>\n",
       "<polygon fill=\"#000000\" stroke=\"#000000\" points=\"613.9792,-195.6038 624,-192.1638 614.0212,-188.6039 613.9792,-195.6038\"/>\n",
       "</g>\n",
       "<!-- cluster_HelloWorld_io_out -->\n",
       "<g id=\"node5\" class=\"node\">\n",
       "<title>cluster_HelloWorld_io_out</title>\n",
       "<polygon fill=\"#e0ffff\" stroke=\"#000000\" points=\"470.5,-208.1638 410.5,-208.1638 410.5,-172.1638 470.5,-172.1638 470.5,-208.1638\"/>\n",
       "<text text-anchor=\"middle\" x=\"440.5\" y=\"-186.4638\" font-family=\"Times,serif\" font-size=\"14.00\" fill=\"#000000\">io_out</text>\n",
       "</g>\n",
       "<!-- struct_cluster_HelloWorld_outReg -->\n",
       "<g id=\"node6\" class=\"node\">\n",
       "<title>struct_cluster_HelloWorld_outReg</title>\n",
       "<polygon fill=\"#ffe4b5\" stroke=\"transparent\" points=\"239,-103.6638 239,-128.6638 347,-128.6638 347,-103.6638 239,-103.6638\"/>\n",
       "<polygon fill=\"none\" stroke=\"#000000\" points=\"239,-103.1638 239,-128.1638 262,-128.1638 262,-103.1638 239,-103.1638\"/>\n",
       "<text text-anchor=\"start\" x=\"244\" y=\"-111.9638\" font-family=\"Times,serif\" font-size=\"14.00\" fill=\"#000000\">●</text>\n",
       "<polygon fill=\"none\" stroke=\"#000000\" points=\"262,-103.1638 262,-128.1638 324,-128.1638 324,-103.1638 262,-103.1638\"/>\n",
       "<text text-anchor=\"start\" x=\"267\" y=\"-111.9638\" font-family=\"Times,serif\" font-size=\"14.00\" fill=\"#000000\">outReg</text>\n",
       "<polygon fill=\"none\" stroke=\"#000000\" points=\"324,-103.1638 324,-128.1638 347,-128.1638 347,-103.1638 324,-103.1638\"/>\n",
       "<text text-anchor=\"start\" x=\"329\" y=\"-111.9638\" font-family=\"Times,serif\" font-size=\"14.00\" fill=\"#000000\">●</text>\n",
       "</g>\n",
       "<!-- struct_cluster_HelloWorld_outReg&#45;&gt;cluster_HelloWorld_io_out -->\n",
       "<g id=\"edge2\" class=\"edge\">\n",
       "<title>struct_cluster_HelloWorld_outReg:out&#45;&gt;cluster_HelloWorld_io_out</title>\n",
       "<path fill=\"none\" stroke=\"#000000\" d=\"M347,-115.1638C375.9401,-115.1638 368.2104,-145.3266 391,-163.1638 394.3388,-165.777 397.9647,-168.2789 401.6851,-170.6322\"/>\n",
       "<polygon fill=\"#000000\" stroke=\"#000000\" points=\"400.0616,-173.7387 410.4467,-175.8364 403.6364,-167.7203 400.0616,-173.7387\"/>\n",
       "</g>\n",
       "<!-- op_eq_5 -->\n",
       "<g id=\"node8\" class=\"node\">\n",
       "<title>op_eq_5</title>\n",
       "<polygon fill=\"#d8bfd8\" stroke=\"transparent\" points=\"399,-100.1638 399,-150.1638 482,-150.1638 482,-100.1638 399,-100.1638\"/>\n",
       "<polygon fill=\"none\" stroke=\"#000000\" points=\"399.5,-125.1638 399.5,-150.1638 422.5,-150.1638 422.5,-125.1638 399.5,-125.1638\"/>\n",
       "<text text-anchor=\"start\" x=\"404.5\" y=\"-133.9638\" font-family=\"Times,serif\" font-size=\"14.00\" fill=\"#000000\">●</text>\n",
       "<polygon fill=\"none\" stroke=\"#000000\" points=\"422.5,-100.1638 422.5,-150.1638 459.5,-150.1638 459.5,-100.1638 422.5,-100.1638\"/>\n",
       "<text text-anchor=\"start\" x=\"427.5\" y=\"-121.4638\" font-family=\"Times,serif\" font-size=\"14.00\" fill=\"#000000\"> eq </text>\n",
       "<polygon fill=\"none\" stroke=\"#000000\" points=\"459.5,-100.1638 459.5,-150.1638 482.5,-150.1638 482.5,-100.1638 459.5,-100.1638\"/>\n",
       "<text text-anchor=\"start\" x=\"464.5\" y=\"-121.4638\" font-family=\"Times,serif\" font-size=\"14.00\" fill=\"#000000\">●</text>\n",
       "<polygon fill=\"none\" stroke=\"#000000\" points=\"399.5,-100.1638 399.5,-125.1638 422.5,-125.1638 422.5,-100.1638 399.5,-100.1638\"/>\n",
       "<text text-anchor=\"start\" x=\"406\" y=\"-108.9638\" font-family=\"Times,serif\" font-size=\"14.00\" fill=\"#000000\">0</text>\n",
       "</g>\n",
       "<!-- struct_cluster_HelloWorld_outReg&#45;&gt;op_eq_5 -->\n",
       "<g id=\"edge6\" class=\"edge\">\n",
       "<title>struct_cluster_HelloWorld_outReg:out&#45;&gt;op_eq_5:in1</title>\n",
       "<path fill=\"none\" stroke=\"#000000\" d=\"M347,-115.1638C368.6929,-115.1638 373.038,-131.8424 389.5808,-136.7939\"/>\n",
       "<polygon fill=\"#000000\" stroke=\"#000000\" points=\"389.1152,-140.2627 399.5,-138.1638 390.0729,-133.3285 389.1152,-140.2627\"/>\n",
       "</g>\n",
       "<!-- struct_cluster_HelloWorld_outReg&#45;&gt;mux_1373815236 -->\n",
       "<g id=\"edge7\" class=\"edge\">\n",
       "<title>struct_cluster_HelloWorld_outReg:out&#45;&gt;mux_1373815236:in2</title>\n",
       "<path fill=\"none\" stroke=\"#000000\" d=\"M347,-115.1638C370.1794,-115.1638 368.745,-93.6444 391,-87.1638 524.5634,-48.27 564.9248,-84.0046 704,-87.1638 719.7483,-87.5215 725.9669,-88.5986 737.9953,-89.0056\"/>\n",
       "<polygon fill=\"#000000\" stroke=\"#000000\" points=\"737.9459,-92.5052 748,-89.1638 738.0566,-85.5061 737.9459,-92.5052\"/>\n",
       "</g>\n",
       "<!-- cluster_HelloWorld__T -->\n",
       "<g id=\"node7\" class=\"node\">\n",
       "<title>cluster_HelloWorld__T</title>\n",
       "<polygon fill=\"none\" stroke=\"#000000\" points=\"580,-148.1638 526,-148.1638 526,-112.1638 580,-112.1638 580,-148.1638\"/>\n",
       "<text text-anchor=\"middle\" x=\"553\" y=\"-126.4638\" font-family=\"Times,serif\" font-size=\"14.00\" fill=\"#000000\">_T</text>\n",
       "</g>\n",
       "<!-- cluster_HelloWorld__T&#45;&gt;mux_568415760 -->\n",
       "<g id=\"edge3\" class=\"edge\">\n",
       "<title>cluster_HelloWorld__T&#45;&gt;mux_568415760:select</title>\n",
       "<path fill=\"none\" stroke=\"#000000\" d=\"M580.0006,-134.8979C603.0311,-139.0725 634.8265,-145.1905 650.4927,-149.794\"/>\n",
       "<polygon fill=\"#000000\" stroke=\"#000000\" points=\"649.4521,-153.1677 660,-154.1638 652.3755,-146.8073 649.4521,-153.1677\"/>\n",
       "</g>\n",
       "<!-- op_eq_5&#45;&gt;cluster_HelloWorld__T -->\n",
       "<g id=\"edge10\" class=\"edge\">\n",
       "<title>op_eq_5:out&#45;&gt;cluster_HelloWorld__T</title>\n",
       "<path fill=\"none\" stroke=\"#000000\" d=\"M482.5,-125.1638C493.2672,-125.1638 504.9363,-125.7512 515.6239,-126.5234\"/>\n",
       "<polygon fill=\"#000000\" stroke=\"#000000\" points=\"515.6684,-130.038 525.9146,-127.3423 516.2238,-123.06 515.6684,-130.038\"/>\n",
       "</g>\n",
       "<!-- mux_34148100&#45;&gt;struct_cluster_HelloWorld_outReg -->\n",
       "<g id=\"edge8\" class=\"edge\">\n",
       "<title>mux_34148100:out&#45;&gt;struct_cluster_HelloWorld_outReg:in</title>\n",
       "<path fill=\"none\" stroke=\"#000000\" d=\"M187,-89.1638C209.0035,-89.1638 212.5032,-108.0179 229.0134,-113.6152\"/>\n",
       "<polygon fill=\"#000000\" stroke=\"#000000\" points=\"228.5818,-117.09 239,-115.1638 229.6544,-110.1727 228.5818,-117.09\"/>\n",
       "</g>\n",
       "<!-- mux_1373815236&#45;&gt;mux_34148100 -->\n",
       "<g id=\"edge11\" class=\"edge\">\n",
       "<title>mux_1373815236:out&#45;&gt;mux_34148100:in2</title>\n",
       "<path fill=\"none\" stroke=\"#000000\" d=\"M809,-77.1638C809,36.9607 667.1245,-57.1638 553,-57.1638 440.5,-57.1638 440.5,-57.1638 440.5,-57.1638 304.2375,-57.1638 134.8484,68.9899 126.3344,-54.0346\"/>\n",
       "<polygon fill=\"#000000\" stroke=\"#000000\" points=\"122.832,-54.0537 126,-64.1638 129.8282,-54.2847 122.832,-54.0537\"/>\n",
       "</g>\n",
       "<!-- mux_568415760&#45;&gt;mux_1373815236 -->\n",
       "<g id=\"edge5\" class=\"edge\">\n",
       "<title>mux_568415760:out&#45;&gt;mux_1373815236:in1</title>\n",
       "<path fill=\"none\" stroke=\"#000000\" d=\"M685,-154.1638C685,-152.5719 721.4557,-130.1124 738.927,-120.0172\"/>\n",
       "<polygon fill=\"#000000\" stroke=\"#000000\" points=\"740.8332,-122.9669 748,-115.1638 737.5314,-116.7945 740.8332,-122.9669\"/>\n",
       "</g>\n",
       "</g>\n",
       "</svg>\n",
       "</div>"
      ]
     },
     "metadata": {},
     "output_type": "display_data"
    }
   ],
   "source": [
    "visualize(() => new HelloWorld)"
   ]
  },
  {
   "cell_type": "markdown",
   "id": "7069b37a",
   "metadata": {
    "slideshow": {
     "slide_type": "slide"
    }
   },
   "source": [
    "## Switch"
   ]
  },
  {
   "cell_type": "markdown",
   "id": "5bd9fd53",
   "metadata": {
    "cell_style": "split"
   },
   "source": [
    "verilog의 case문과 동일\n",
    "\n",
    "```scala\n",
    "switch(x) {\n",
    "  is(value1) {\n",
    "    // run if x === value1\n",
    "  } is(value2) {\n",
    "    // run if x === value2\n",
    "  } \n",
    "}\n",
    "```"
   ]
  },
  {
   "cell_type": "markdown",
   "id": "9023cc7a",
   "metadata": {
    "slideshow": {
     "slide_type": "slide"
    }
   },
   "source": [
    "## Enum"
   ]
  },
  {
   "cell_type": "code",
   "execution_count": null,
   "id": "fa81addb",
   "metadata": {},
   "outputs": [],
   "source": []
  },
  {
   "cell_type": "code",
   "execution_count": null,
   "id": "54c07346",
   "metadata": {},
   "outputs": [],
   "source": []
  },
  {
   "cell_type": "code",
   "execution_count": null,
   "id": "1ce1d0d4",
   "metadata": {},
   "outputs": [],
   "source": []
  },
  {
   "cell_type": "code",
   "execution_count": null,
   "id": "74db8832",
   "metadata": {},
   "outputs": [],
   "source": []
  },
  {
   "cell_type": "code",
   "execution_count": null,
   "id": "b3666691",
   "metadata": {},
   "outputs": [],
   "source": []
  },
  {
   "cell_type": "code",
   "execution_count": null,
   "id": "e07ef5b6",
   "metadata": {},
   "outputs": [],
   "source": []
  }
 ],
 "metadata": {
  "celltoolbar": "Slideshow",
  "kernelspec": {
   "display_name": "Scala",
   "language": "scala",
   "name": "scala"
  },
  "language_info": {
   "codemirror_mode": "text/x-scala",
   "file_extension": ".sc",
   "mimetype": "text/x-scala",
   "name": "scala",
   "nbconvert_exporter": "script",
   "version": "2.13.4"
  }
 },
 "nbformat": 4,
 "nbformat_minor": 5
}
