{
 "cells": [
  {
   "cell_type": "markdown",
   "id": "6aef4afb",
   "metadata": {
    "cell_style": "center",
    "slideshow": {
     "slide_type": "slide"
    }
   },
   "source": [
    "# Digital System Design with Chisel\n",
    "\n",
    "### Chapter 2 : Chisel 문법 기초\n",
    "\n",
    "##### Dongho Park"
   ]
  },
  {
   "cell_type": "markdown",
   "id": "f73ca714",
   "metadata": {
    "slideshow": {
     "slide_type": "slide"
    }
   },
   "source": [
    "# Chisel 문법 기초\n",
    "## 1. Chisel Type System\n",
    "## 2. Chisel Hardware\n",
    "## 3. Operators"
   ]
  },
  {
   "cell_type": "markdown",
   "id": "b9aee1c3",
   "metadata": {
    "slideshow": {
     "slide_type": "slide"
    }
   },
   "source": [
    "# Loading The Chisel Library Into a Notebook"
   ]
  },
  {
   "cell_type": "code",
   "execution_count": 2,
   "id": "b2cf3279",
   "metadata": {},
   "outputs": [
    {
     "ename": "",
     "evalue": "",
     "output_type": "error",
     "traceback": [
      "\u001b[31mjava.nio.file.NoSuchFileException: /home/parkdongho/dev/Digital-System-Design-with-Chisel/01-Chisel-Basic-and-Digital-CIrcuit-Design/resource/chisel_deps.sc\u001b[39m\n  sun.nio.fs.UnixException.translateToIOException(\u001b[32mUnixException.java\u001b[39m:\u001b[32m86\u001b[39m)\n  sun.nio.fs.UnixException.rethrowAsIOException(\u001b[32mUnixException.java\u001b[39m:\u001b[32m102\u001b[39m)\n  sun.nio.fs.UnixException.rethrowAsIOException(\u001b[32mUnixException.java\u001b[39m:\u001b[32m107\u001b[39m)\n  sun.nio.fs.UnixFileSystemProvider.newByteChannel(\u001b[32mUnixFileSystemProvider.java\u001b[39m:\u001b[32m214\u001b[39m)\n  java.nio.file.Files.newByteChannel(\u001b[32mFiles.java\u001b[39m:\u001b[32m361\u001b[39m)\n  java.nio.file.Files.newByteChannel(\u001b[32mFiles.java\u001b[39m:\u001b[32m407\u001b[39m)\n  java.nio.file.spi.FileSystemProvider.newInputStream(\u001b[32mFileSystemProvider.java\u001b[39m:\u001b[32m384\u001b[39m)\n  java.nio.file.Files.newInputStream(\u001b[32mFiles.java\u001b[39m:\u001b[32m152\u001b[39m)\n  os.Path.getInputStream(\u001b[32mPath.scala\u001b[39m:\u001b[32m474\u001b[39m)\n  os.read$bytes$.apply(\u001b[32mReadWriteOps.scala\u001b[39m:\u001b[32m258\u001b[39m)\n  os.read$.apply(\u001b[32mReadWriteOps.scala\u001b[39m:\u001b[32m218\u001b[39m)\n  os.read$.apply(\u001b[32mReadWriteOps.scala\u001b[39m:\u001b[32m216\u001b[39m)\n  ammonite.interp.Interpreter$$anon$1$load$.module(\u001b[32mInterpreter.scala\u001b[39m:\u001b[32m687\u001b[39m)\n  ammonite.$sess.cmd1$Helper.<init>(\u001b[32mcmd1.sc\u001b[39m:\u001b[32m2\u001b[39m)\n  ammonite.$sess.cmd1$.<clinit>(\u001b[32mcmd1.sc\u001b[39m:\u001b[32m7\u001b[39m)"
     ]
    }
   ],
   "source": [
    "val path = System.getProperty(\"user.dir\") + \"/../../resource/chisel_deps.sc\"\n",
    "interp.load.module(ammonite.ops.Path(java.nio.file.FileSystems.getDefault().getPath(path)))"
   ]
  },
  {
   "cell_type": "code",
   "execution_count": null,
   "id": "9457cf27",
   "metadata": {},
   "outputs": [],
   "source": [
    "import chisel3._\n",
    "import chisel3.util._\n",
    "import chisel3.tester._\n",
    "import chisel3.tester.RawTester.test"
   ]
  },
  {
   "cell_type": "markdown",
   "id": "8fba995b",
   "metadata": {
    "slideshow": {
     "slide_type": "slide"
    }
   },
   "source": [
    "# Scala Type"
   ]
  },
  {
   "cell_type": "code",
   "execution_count": null,
   "id": "f2a1138a",
   "metadata": {
    "cell_style": "center"
   },
   "outputs": [],
   "source": [
    "//scala literal\n",
    "1\n",
    "1.0\n",
    "true\n",
    "\n",
    "1 : Int\n",
    "1 : Long\n",
    "1 : Double\n",
    "1 : Float\n",
    "\n",
    "true : Boolean\n",
    "val a = 1 : Long\n",
    "a\n",
    "\"asdasda\" : String"
   ]
  },
  {
   "cell_type": "markdown",
   "id": "c192d24e",
   "metadata": {
    "slideshow": {
     "slide_type": "slide"
    }
   },
   "source": [
    "# 1. Chisel Type System"
   ]
  },
  {
   "cell_type": "markdown",
   "id": "969e0df3",
   "metadata": {
    "slideshow": {
     "slide_type": "slide"
    }
   },
   "source": [
    "## Chisel Type Overview"
   ]
  },
  {
   "cell_type": "markdown",
   "id": "fdf07fbe",
   "metadata": {
    "cell_style": "split",
    "slideshow": {
     "slide_type": "-"
    }
   },
   "source": [
    "![](img/type_hierarchy.svg)"
   ]
  },
  {
   "cell_type": "markdown",
   "id": "044f338b",
   "metadata": {
    "cell_style": "split"
   },
   "source": [
    "- Element\n",
    "    - Bool\n",
    "    - UInt\n",
    "    - SInt\n",
    "    - FixedPoint <- Next Time\n",
    "- Aggregate\n",
    "    - Vec\n",
    "    - Bundle\n",
    "        - UserType"
   ]
  },
  {
   "cell_type": "markdown",
   "id": "952ca2ec",
   "metadata": {
    "slideshow": {
     "slide_type": "slide"
    }
   },
   "source": [
    "## `Bool`"
   ]
  },
  {
   "cell_type": "markdown",
   "id": "de6507c6",
   "metadata": {
    "cell_style": "split",
    "slideshow": {
     "slide_type": "-"
    }
   },
   "source": [
    "##### Bool\n",
    "- single-bit logic signal\n",
    "- constructor : `Bool()`\n",
    "\n",
    "##### Bool Literal\n",
    "- constructor : `<Boolean>.B`\n",
    "- examples: `true.B`, `false.B`\n",
    "\n",
    "---\n",
    "* `<Bool>` : Chisel `Bool` Type\n",
    "* `<Boolean>` : Scala `Boolean` Type"
   ]
  },
  {
   "cell_type": "code",
   "execution_count": 113,
   "id": "8ec2c378",
   "metadata": {
    "cell_style": "split"
   },
   "outputs": [
    {
     "data": {
      "text/plain": [
       "\u001b[36mres112_0\u001b[39m: \u001b[32mBool\u001b[39m = Bool\n",
       "\u001b[36mboolImplicit\u001b[39m: \u001b[32mBool\u001b[39m = Bool\n",
       "\u001b[36mboolExplicit\u001b[39m: \u001b[32mBool\u001b[39m = Bool"
      ]
     },
     "execution_count": 113,
     "metadata": {},
     "output_type": "execute_result"
    }
   ],
   "source": [
    "// Bool\n",
    "Bool()\n",
    "val boolImplicit = Bool()\n",
    "val boolExplicit: Bool = Bool()"
   ]
  },
  {
   "cell_type": "code",
   "execution_count": 114,
   "id": "ec21a493",
   "metadata": {
    "cell_style": "split"
   },
   "outputs": [
    {
     "data": {
      "text/plain": [
       "\u001b[36mres113_0\u001b[39m: \u001b[32mBoolean\u001b[39m = true\n",
       "\u001b[36mres113_1\u001b[39m: \u001b[32mBoolean\u001b[39m = false\n",
       "\u001b[36mres113_2\u001b[39m: \u001b[32mBool\u001b[39m = Bool(true)\n",
       "\u001b[36mres113_3\u001b[39m: \u001b[32mBool\u001b[39m = Bool(false)\n",
       "\u001b[36mbooleanFoo\u001b[39m: \u001b[32mBoolean\u001b[39m = true\n",
       "\u001b[36mres113_5\u001b[39m: \u001b[32mBool\u001b[39m = Bool(true)\n",
       "\u001b[36mboolLiteral\u001b[39m: \u001b[32mBool\u001b[39m = Bool(true)"
      ]
     },
     "execution_count": 114,
     "metadata": {},
     "output_type": "execute_result"
    }
   ],
   "source": [
    "//Scala Boolean Literal\n",
    "true\n",
    "false\n",
    "\n",
    "// Bool Literal\n",
    "true.B //Bool literal\n",
    "false.B\n",
    "\n",
    "val booleanFoo : Boolean = true //Scala Boolean Type\n",
    "booleanFoo.B //Bool literal\n",
    "\n",
    "val boolLiteral: Bool = booleanFoo.B"
   ]
  },
  {
   "cell_type": "markdown",
   "id": "5d14fe27",
   "metadata": {
    "slideshow": {
     "slide_type": "slide"
    }
   },
   "source": [
    "## `UInt`"
   ]
  },
  {
   "cell_type": "markdown",
   "id": "f9609094",
   "metadata": {
    "cell_style": "split",
    "slideshow": {
     "slide_type": "-"
    }
   },
   "source": [
    "##### UInt\n",
    "- single-bit logic signal\n",
    "- constructor : \n",
    "  + `UInt()`\n",
    "  + `UInt(<Width>)`\n",
    "\n",
    "##### UInt Literal\n",
    "- constructor : \n",
    "  + `<Int>.U`\n",
    "  + `<Int>.U(<Width>)`\n",
    "  \n",
    " \n",
    "---\n",
    "* `<UInt>` : Chisel `UInt` Type\n",
    "* `<Int>` : Scala `Int` Type\n",
    "* `<Width>` : FIRRTL `Width` Type"
   ]
  },
  {
   "cell_type": "code",
   "execution_count": 122,
   "id": "3ec7dd6b",
   "metadata": {
    "cell_style": "split"
   },
   "outputs": [
    {
     "data": {
      "text/plain": [
       "\u001b[36mres121_0\u001b[39m: \u001b[32mUInt\u001b[39m = UInt\n",
       "\u001b[36mres121_1\u001b[39m: \u001b[32mUInt\u001b[39m = UInt<32>\n",
       "\u001b[32mimport \u001b[39m\u001b[36mchisel3.internal.firrtl._\n",
       "\u001b[39m\n",
       "\u001b[36mfooWidth\u001b[39m: \u001b[32mWidth\u001b[39m = \u001b[33mKnownWidth\u001b[39m(value = \u001b[32m64\u001b[39m)\n",
       "\u001b[36mfooUInt\u001b[39m: \u001b[32mUInt\u001b[39m = UInt<64>"
      ]
     },
     "execution_count": 122,
     "metadata": {},
     "output_type": "execute_result"
    }
   ],
   "source": [
    "//UInt\n",
    "UInt()     //UInt, width inferred\n",
    "UInt(32.W) //32bit UInt\n",
    "\n",
    "//Width constructor : <Int>.W\n",
    "import chisel3.internal.firrtl._\n",
    "val fooWidth = 64.W //firrtl Width Literal\n",
    "val fooUInt = UInt(fooWidth)"
   ]
  },
  {
   "cell_type": "code",
   "execution_count": 123,
   "id": "56761359",
   "metadata": {
    "cell_style": "split"
   },
   "outputs": [
    {
     "data": {
      "text/plain": [
       "\u001b[36mres122_0\u001b[39m: \u001b[32mUInt\u001b[39m = UInt<3>(4)\n",
       "\u001b[36mres122_1\u001b[39m: \u001b[32mUInt\u001b[39m = UInt<32>(4)\n",
       "\u001b[36mres122_2\u001b[39m: \u001b[32mUInt\u001b[39m = UInt<64>(4)\n",
       "\u001b[36mfooLiteral\u001b[39m: \u001b[32mUInt\u001b[39m = UInt<64>(4)"
      ]
     },
     "execution_count": 123,
     "metadata": {},
     "output_type": "execute_result"
    }
   ],
   "source": [
    "//UInt Literal\n",
    "4.U\n",
    "4.U(32.W)\n",
    "4.U(fooWidth)\n",
    "val fooLiteral = 4.U(fooWidth)"
   ]
  },
  {
   "cell_type": "markdown",
   "id": "d459dfab",
   "metadata": {
    "slideshow": {
     "slide_type": "slide"
    }
   },
   "source": [
    "## `SInt`"
   ]
  },
  {
   "cell_type": "markdown",
   "id": "ff0f35bb",
   "metadata": {
    "cell_style": "split"
   },
   "source": [
    "##### SInt\n",
    "- single-bit logic signal\n",
    "- constructor : \n",
    "  + `SInt()`\n",
    "  + `SInt(<Width>)`\n",
    "\n",
    "##### SInt Literal\n",
    "- constructor : \n",
    "  + `<Int>.S`\n",
    "  + `<Int>.S(<Width>)`\n",
    "  \n",
    "---\n",
    "* `<SInt>` : Chisel `SInt` Type\n",
    "* `<Int>` : Scala `Int` Type\n",
    "* `<Width>` : FIRRTL `Width` Type"
   ]
  },
  {
   "cell_type": "code",
   "execution_count": 128,
   "id": "3013b7ac",
   "metadata": {
    "cell_style": "split"
   },
   "outputs": [
    {
     "data": {
      "text/plain": [
       "\u001b[36mres127_0\u001b[39m: \u001b[32mSInt\u001b[39m = SInt\n",
       "\u001b[36mres127_1\u001b[39m: \u001b[32mSInt\u001b[39m = SInt<32>\n",
       "\u001b[32mimport \u001b[39m\u001b[36mchisel3.internal.firrtl._\n",
       "\u001b[39m\n",
       "\u001b[36mfooWidth\u001b[39m: \u001b[32mWidth\u001b[39m = \u001b[33mKnownWidth\u001b[39m(value = \u001b[32m64\u001b[39m)\n",
       "\u001b[36mfooUInt\u001b[39m: \u001b[32mSInt\u001b[39m = SInt<64>"
      ]
     },
     "execution_count": 128,
     "metadata": {},
     "output_type": "execute_result"
    }
   ],
   "source": [
    "//UInt\n",
    "SInt()     //UInt, width inferred\n",
    "SInt(32.W) //32bit UInt\n",
    "\n",
    "//Width constructor : <Int>.W\n",
    "import chisel3.internal.firrtl._\n",
    "val fooWidth = 64.W //firrtl Width Literal\n",
    "val fooUInt = SInt(fooWidth)"
   ]
  },
  {
   "cell_type": "code",
   "execution_count": 129,
   "id": "56f50dd4",
   "metadata": {
    "cell_style": "split"
   },
   "outputs": [
    {
     "data": {
      "text/plain": [
       "\u001b[36mres128_0\u001b[39m: \u001b[32mSInt\u001b[39m = SInt<4>(4)\n",
       "\u001b[36mres128_1\u001b[39m: \u001b[32mSInt\u001b[39m = SInt<32>(4)\n",
       "\u001b[36mres128_2\u001b[39m: \u001b[32mSInt\u001b[39m = SInt<64>(4)\n",
       "\u001b[36mfooLiteral\u001b[39m: \u001b[32mSInt\u001b[39m = SInt<64>(4)"
      ]
     },
     "execution_count": 129,
     "metadata": {},
     "output_type": "execute_result"
    }
   ],
   "source": [
    "//SInt Literal\n",
    "4.S\n",
    "4.S(32.W)\n",
    "4.S(fooWidth)\n",
    "val fooLiteral = 4.S(fooWidth)"
   ]
  },
  {
   "cell_type": "markdown",
   "id": "50b66e50",
   "metadata": {
    "slideshow": {
     "slide_type": "slide"
    }
   },
   "source": [
    "# Bundle and Vec\n",
    "\n",
    "\n",
    "- Chisel은 관련 신호를 그룹화하기 위해 `Bundle` 및 `Vec`을 제공함\n",
    "    - `Bundle` : 서로 다른 type의 신호를 명명된 필드로 그룹화\n",
    "    - `Vec` : **같은 type**의 신호(요소)의 색인화 가능한 모음을 나타냄\n",
    "- `Bundle` 및 `Vec`는 새로운 사용자 정의 Chisel type을 생성하고 임의로 중첩될 수 있음"
   ]
  },
  {
   "cell_type": "markdown",
   "id": "faf30e6f",
   "metadata": {
    "slideshow": {
     "slide_type": "slide"
    }
   },
   "source": [
    "## Bundle"
   ]
  },
  {
   "cell_type": "markdown",
   "id": "a798d08d",
   "metadata": {
    "cell_style": "split"
   },
   "source": [
    "- 여러 신호를 그룹화\n",
    "- 전체로서 참조되거나\n",
    "- 이름으로 개별필드에 엑세스 할수 있음\n",
    "- Bundle를 extend(상속)하고 생성자(constructor) 블록 내에서 \n",
    "- 필드를 val로 나열하는 클래스를 정의하여 번들(신호 모음)을 정의할 수 있음\n",
    "- 커스텀 타입을 기술"
   ]
  },
  {
   "cell_type": "markdown",
   "id": "68fd41ac",
   "metadata": {
    "cell_style": "center",
    "slideshow": {
     "slide_type": "slide"
    }
   },
   "source": [
    "## User Defined Type with Bundle"
   ]
  },
  {
   "cell_type": "code",
   "execution_count": 153,
   "id": "3202a6af",
   "metadata": {
    "cell_style": "split"
   },
   "outputs": [
    {
     "data": {
      "text/plain": [
       "defined \u001b[32mclass\u001b[39m \u001b[36mMyBundle\u001b[39m\n",
       "defined \u001b[32mobject\u001b[39m \u001b[36mMyBundle\u001b[39m"
      ]
     },
     "execution_count": 153,
     "metadata": {},
     "output_type": "execute_result"
    }
   ],
   "source": [
    "//custom type\n",
    "class MyBundle(width: Int) extends Bundle{\n",
    "  val a = Bool()\n",
    "  val b = UInt(width.W)\n",
    "  val c = UInt(width.W)\n",
    "}\n",
    "\n",
    "object MyBundle{\n",
    "  def apply(width: Int): MyBundle = {\n",
    "    new MyBundle(width)\n",
    "  }\n",
    "}"
   ]
  },
  {
   "cell_type": "code",
   "execution_count": 152,
   "id": "3931b8b4",
   "metadata": {
    "cell_style": "split"
   },
   "outputs": [
    {
     "data": {
      "text/plain": [
       "\u001b[32mimport \u001b[39m\u001b[36mMyBundle._\n",
       "//custom type with Direction\n",
       "\u001b[39m\n",
       "defined \u001b[32mclass\u001b[39m \u001b[36mMyBundleIO\u001b[39m\n",
       "defined \u001b[32mobject\u001b[39m \u001b[36mMyBundleIO\u001b[39m"
      ]
     },
     "execution_count": 152,
     "metadata": {},
     "output_type": "execute_result"
    }
   ],
   "source": [
    "import MyBundle._\n",
    "//custom type with Direction\n",
    "class MyBundleIO(width: Int) extends Bundle{\n",
    "  val data = Input(MyBundle(width))\n",
    "  val valid = Input(Bool())\n",
    "  val ready = Output(Bool())\n",
    "}\n",
    "\n",
    "object MyBundleIO{\n",
    "  def apply(width: Int): MyBundleIO = {\n",
    "    new MyBundleIO(width)\n",
    "  }\n",
    "}"
   ]
  },
  {
   "cell_type": "code",
   "execution_count": 151,
   "id": "daacf6e9",
   "metadata": {
    "cell_style": "center"
   },
   "outputs": [
    {
     "data": {
      "text/plain": [
       "defined \u001b[32mclass\u001b[39m \u001b[36mCrossBarSwitch\u001b[39m"
      ]
     },
     "execution_count": 151,
     "metadata": {},
     "output_type": "execute_result"
    }
   ],
   "source": [
    "class CrossBarSwitch(width: Int) extends Module{\n",
    "  val ioA = IO(MyBundleIO(width))\n",
    "  val ioB = IO(Flipped(MyBundleIO(width)))\n",
    "  ioB <> ioA\n",
    "}"
   ]
  },
  {
   "cell_type": "code",
   "execution_count": 140,
   "id": "2b49bae1",
   "metadata": {},
   "outputs": [],
   "source": [
    "//println(getVerilog(new CrossBarSwitch(4)))\n",
    "//visualize(() => new CrossBarSwitch(4))"
   ]
  },
  {
   "cell_type": "markdown",
   "id": "9c60d085",
   "metadata": {
    "slideshow": {
     "slide_type": "slide"
    }
   },
   "source": [
    "## Bundle Literal"
   ]
  },
  {
   "cell_type": "code",
   "execution_count": 154,
   "id": "b34d3be7",
   "metadata": {},
   "outputs": [
    {
     "data": {
      "text/plain": [
       "\u001b[32mimport \u001b[39m\u001b[36mchisel3._\n",
       "\u001b[39m\n",
       "\u001b[32mimport \u001b[39m\u001b[36mchisel3.experimental.BundleLiterals._\n",
       "\u001b[39m\n",
       "\u001b[32mimport \u001b[39m\u001b[36mMyBundle._\n",
       "\n",
       "\u001b[39m\n",
       "defined \u001b[32mclass\u001b[39m \u001b[36mCrossBarSwitch\u001b[39m"
      ]
     },
     "execution_count": 154,
     "metadata": {},
     "output_type": "execute_result"
    }
   ],
   "source": [
    "import chisel3._\n",
    "import chisel3.experimental.BundleLiterals._\n",
    "import MyBundle._\n",
    "\n",
    "class CrossBarSwitch(width: Int) extends Module{\n",
    "  val ioA = IO(MyBundleIO(width))\n",
    "  val ioB = IO(Flipped(MyBundleIO(width)))\n",
    "  ioB <> ioA\n",
    "  val ioB_0 = (MyBundle(8)).Lit(_.a -> false.B, _.b -> 0.U, _.c -> 0.U)\n",
    "}"
   ]
  },
  {
   "cell_type": "markdown",
   "id": "48896807",
   "metadata": {
    "slideshow": {
     "slide_type": "slide"
    }
   },
   "source": [
    "## 고급주제: Type Class를 활용한 User Defined Type System"
   ]
  },
  {
   "cell_type": "markdown",
   "id": "23d7301a",
   "metadata": {
    "slideshow": {
     "slide_type": "slide"
    }
   },
   "source": [
    "## Vec"
   ]
  },
  {
   "cell_type": "code",
   "execution_count": null,
   "id": "53bc636b",
   "metadata": {},
   "outputs": [],
   "source": []
  },
  {
   "cell_type": "markdown",
   "id": "a3410c99",
   "metadata": {
    "slideshow": {
     "slide_type": "slide"
    }
   },
   "source": [
    "### Vec Literal"
   ]
  },
  {
   "cell_type": "markdown",
   "id": "739502ca",
   "metadata": {
    "slideshow": {
     "slide_type": "slide"
    }
   },
   "source": [
    "# 2. Chisel Hardware Construct"
   ]
  },
  {
   "cell_type": "markdown",
   "id": "e1404d9e",
   "metadata": {
    "cell_style": "center",
    "slideshow": {
     "slide_type": "-"
    }
   },
   "source": [
    "- Hardware\n",
    "    - Module\n",
    "    - IO\n",
    "    - Wire\n",
    "    - Reg\n",
    "- Conditional\n",
    "    - When\n",
    "    - Switch\n",
    "- Enum"
   ]
  },
  {
   "cell_type": "markdown",
   "id": "57cab388",
   "metadata": {
    "slideshow": {
     "slide_type": "slide"
    }
   },
   "source": [
    "## Module"
   ]
  },
  {
   "cell_type": "markdown",
   "id": "97a80fe4",
   "metadata": {
    "cell_style": "split"
   },
   "source": [
    "- inherits from `Module`\n",
    "- contains at least one interface wrapped in a Module’s `IO()` method \n",
    "    + (traditionally stored in a port field named io)\n",
    "- wires together subcircuits in its constructor."
   ]
  },
  {
   "cell_type": "code",
   "execution_count": 226,
   "id": "507775ec",
   "metadata": {
    "cell_style": "split"
   },
   "outputs": [
    {
     "data": {
      "text/plain": [
       "defined \u001b[32mclass\u001b[39m \u001b[36mhello\u001b[39m"
      ]
     },
     "execution_count": 226,
     "metadata": {},
     "output_type": "execute_result"
    }
   ],
   "source": [
    "class hello extends Module"
   ]
  },
  {
   "cell_type": "code",
   "execution_count": 227,
   "id": "427132dd",
   "metadata": {
    "cell_style": "split"
   },
   "outputs": [
    {
     "name": "stdout",
     "output_type": "stream",
     "text": [
      "module hello(\n",
      "  input   clock,\n",
      "  input   reset\n",
      ");\n",
      "endmodule\n"
     ]
    }
   ],
   "source": [
    "println(getVerilog(new hello))"
   ]
  },
  {
   "cell_type": "code",
   "execution_count": 228,
   "id": "f117dced",
   "metadata": {
    "cell_style": "split"
   },
   "outputs": [
    {
     "data": {
      "text/html": [
       "<div width=\"100%\" height=\"100%\" overflow=\"scroll\"><?xml version=\"1.0\" encoding=\"UTF-8\" standalone=\"no\"?>\n",
       "<?xml-stylesheet href=\"styles.css\" type=\"text/css\"?>\n",
       "<!DOCTYPE svg PUBLIC \"-//W3C//DTD SVG 1.1//EN\"\n",
       " \"http://www.w3.org/Graphics/SVG/1.1/DTD/svg11.dtd\">\n",
       "<!-- Generated by graphviz version 2.40.1 (0)\n",
       " -->\n",
       "<!-- Title: hello Pages: 1 -->\n",
       "<svg width=\"95pt\" height=\"153pt\"\n",
       " viewBox=\"0.00 0.00 95.00 153.00\" xmlns=\"http://www.w3.org/2000/svg\" xmlns:xlink=\"http://www.w3.org/1999/xlink\">\n",
       "<g id=\"graph0\" class=\"graph\" transform=\"scale(1 1) rotate(0) translate(4 149)\">\n",
       "<title>hello</title>\n",
       "<polygon fill=\"#ffffff\" stroke=\"transparent\" points=\"-4,4 -4,-149 91,-149 91,4 -4,4\"/>\n",
       "<g id=\"clust1\" class=\"cluster\">\n",
       "<title>cluster_hello</title>\n",
       "<polygon fill=\"#fff8dc\" stroke=\"#000000\" points=\"8,-8 8,-137 79,-137 79,-8 8,-8\"/>\n",
       "<text text-anchor=\"middle\" x=\"43.5\" y=\"-121.8\" font-family=\"Times,serif\" font-size=\"14.00\" fill=\"#000000\">hello</text>\n",
       "</g>\n",
       "<!-- cluster_hello_clock -->\n",
       "<g id=\"node1\" class=\"node\">\n",
       "<title>cluster_hello_clock</title>\n",
       "<polygon fill=\"#cccccc\" stroke=\"#000000\" points=\"71,-106 16,-106 16,-70 71,-70 71,-106\"/>\n",
       "<text text-anchor=\"middle\" x=\"43.5\" y=\"-84.3\" font-family=\"Times,serif\" font-size=\"14.00\" fill=\"#000000\">clock</text>\n",
       "</g>\n",
       "<!-- cluster_hello_reset -->\n",
       "<g id=\"node2\" class=\"node\">\n",
       "<title>cluster_hello_reset</title>\n",
       "<polygon fill=\"#cccccc\" stroke=\"#000000\" points=\"70.5,-52 16.5,-52 16.5,-16 70.5,-16 70.5,-52\"/>\n",
       "<text text-anchor=\"middle\" x=\"43.5\" y=\"-30.3\" font-family=\"Times,serif\" font-size=\"14.00\" fill=\"#000000\">reset</text>\n",
       "</g>\n",
       "</g>\n",
       "</svg>\n",
       "</div>"
      ]
     },
     "metadata": {},
     "output_type": "display_data"
    }
   ],
   "source": [
    "visualize(() => new hello)"
   ]
  },
  {
   "cell_type": "markdown",
   "id": "f5756e31",
   "metadata": {
    "slideshow": {
     "slide_type": "slide"
    }
   },
   "source": [
    "# `Wire`, `Reg`, `IO`"
   ]
  },
  {
   "cell_type": "markdown",
   "id": "e32f5f1b",
   "metadata": {
    "cell_style": "split"
   },
   "source": [
    "- `UInt`, `SInt`, `Bits`, `Bool`, `Bundle`, `Vec`은 Chisel type이며 그 자체는 하드웨어를 나타내지 않음\n",
    "- Chisel type을 `Wire`, `Reg`, `IO`로 감싸면 하드웨어가 생성됨\n",
    "    - Wire(`<ChiselType>`)\n",
    "    - Reg(`<ChiselType>`)\n",
    "    - IO(Direction(`<ChiselType>`))\n",
    "        - IO(Input(`<ChiselType>`))\n",
    "        - IO(Output(`<ChiselType>`))\n",
    "        - IO(`<BundleIO>`)"
   ]
  },
  {
   "cell_type": "markdown",
   "id": "7ef38fb3",
   "metadata": {
    "cell_style": "split"
   },
   "source": [
    "- `=` : 할당 연산자를 통해 인스턴스를 생성 \n",
    "    - ex) `val foo = Wire(UInt(3.W))`\n",
    "- `:=` : 업데이트 연산자를 통해 값을 업데이트 \n",
    "    - ex) `foo := 2.U(3.W)`\n",
    "- `<>` : bulk connection 연산자를 통해 Bundle을 연결"
   ]
  },
  {
   "cell_type": "markdown",
   "id": "5f447d90",
   "metadata": {
    "slideshow": {
     "slide_type": "slide"
    }
   },
   "source": [
    "## IO"
   ]
  },
  {
   "cell_type": "markdown",
   "id": "a62c9ba3",
   "metadata": {
    "cell_style": "split"
   },
   "source": [
    "- IO method는 `Module` 내부에서**만** 사용가능\n",
    "- 반드시 Chisel Type 이어야 함\n",
    "- Hardware에 바인딩 되지 않아야 함  \n",
    "\n",
    "```scala\n",
    "class ExampleModule extends Module{\n",
    "  val io = IO(Direction(Chisel_Type))\n",
    "  val io = IO(Bundle_with_Direction)\n",
    "}\n",
    "```\n",
    "> Direction : Input( ), Output( )  \n",
    "> Bundle_with_Direction : ExampleIO( ), BundleIO( )  "
   ]
  },
  {
   "cell_type": "code",
   "execution_count": 167,
   "id": "c3531a7c",
   "metadata": {
    "cell_style": "split"
   },
   "outputs": [
    {
     "data": {
      "text/plain": [
       "defined \u001b[32mclass\u001b[39m \u001b[36mAdderInBundle\u001b[39m\n",
       "defined \u001b[32mclass\u001b[39m \u001b[36mAdderOutBundle\u001b[39m\n",
       "defined \u001b[32mclass\u001b[39m \u001b[36mAdderIO\u001b[39m\n",
       "defined \u001b[32mclass\u001b[39m \u001b[36mHelloWorld\u001b[39m"
      ]
     },
     "execution_count": 167,
     "metadata": {},
     "output_type": "execute_result"
    }
   ],
   "source": [
    "class AdderInBundle(width: Int) extends Bundle{\n",
    "  val a = UInt(width.W)\n",
    "  val b = UInt(width.W)\n",
    "}\n",
    "\n",
    "class AdderOutBundle(width: Int) extends Bundle{\n",
    "  val z = UInt(width.W)\n",
    "}\n",
    "\n",
    "//direction은 Bundle 내부에서 정의 가능\n",
    "class AdderIO(width: Int) extends Bundle{\n",
    "  val in = Input(new AdderInBundle(width))\n",
    "  val out = Output(new AdderOutBundle(width))\n",
    "}\n",
    "\n",
    "class HelloWorld(width: Int) extends Module{\n",
    "  val io = IO(new AdderIO(width))\n",
    "  io.out.z := io.in.a + io.in.b\n",
    "}"
   ]
  },
  {
   "cell_type": "code",
   "execution_count": 168,
   "id": "c7401741",
   "metadata": {
    "cell_style": "split"
   },
   "outputs": [
    {
     "name": "stdout",
     "output_type": "stream",
     "text": [
      "module HelloWorld(\n",
      "  input        clock,\n",
      "  input        reset,\n",
      "  input  [7:0] io_in_a,\n",
      "  input  [7:0] io_in_b,\n",
      "  output [7:0] io_out_z\n",
      ");\n",
      "  assign io_out_z = io_in_a + io_in_b;\n",
      "endmodule\n"
     ]
    }
   ],
   "source": [
    "println(getVerilog(new HelloWorld(8)))"
   ]
  },
  {
   "cell_type": "code",
   "execution_count": 169,
   "id": "68a203a2",
   "metadata": {
    "cell_style": "split"
   },
   "outputs": [
    {
     "data": {
      "text/html": [
       "<div width=\"100%\" height=\"100%\" overflow=\"scroll\"><?xml version=\"1.0\" encoding=\"UTF-8\" standalone=\"no\"?>\n",
       "<?xml-stylesheet href=\"styles.css\" type=\"text/css\"?>\n",
       "<!DOCTYPE svg PUBLIC \"-//W3C//DTD SVG 1.1//EN\"\n",
       " \"http://www.w3.org/Graphics/SVG/1.1/DTD/svg11.dtd\">\n",
       "<!-- Generated by graphviz version 2.40.1 (0)\n",
       " -->\n",
       "<!-- Title: HelloWorld Pages: 1 -->\n",
       "<svg width=\"639pt\" height=\"261pt\"\n",
       " viewBox=\"0.00 0.00 639.00 261.00\" xmlns=\"http://www.w3.org/2000/svg\" xmlns:xlink=\"http://www.w3.org/1999/xlink\">\n",
       "<g id=\"graph0\" class=\"graph\" transform=\"scale(1 1) rotate(0) translate(4 257)\">\n",
       "<title>HelloWorld</title>\n",
       "<polygon fill=\"#ffffff\" stroke=\"transparent\" points=\"-4,4 -4,-257 635,-257 635,4 -4,4\"/>\n",
       "<g id=\"clust1\" class=\"cluster\">\n",
       "<title>cluster_HelloWorld</title>\n",
       "<polygon fill=\"#fff8dc\" stroke=\"#000000\" points=\"8,-8 8,-245 623,-245 623,-8 8,-8\"/>\n",
       "<text text-anchor=\"middle\" x=\"315.5\" y=\"-229.8\" font-family=\"Times,serif\" font-size=\"14.00\" fill=\"#000000\">HelloWorld</text>\n",
       "</g>\n",
       "<!-- cluster_HelloWorld_clock -->\n",
       "<g id=\"node1\" class=\"node\">\n",
       "<title>cluster_HelloWorld_clock</title>\n",
       "<polygon fill=\"#cccccc\" stroke=\"#000000\" points=\"77,-214 22,-214 22,-178 77,-178 77,-214\"/>\n",
       "<text text-anchor=\"middle\" x=\"49.5\" y=\"-192.3\" font-family=\"Times,serif\" font-size=\"14.00\" fill=\"#000000\">clock</text>\n",
       "</g>\n",
       "<!-- cluster_HelloWorld_reset -->\n",
       "<g id=\"node2\" class=\"node\">\n",
       "<title>cluster_HelloWorld_reset</title>\n",
       "<polygon fill=\"#cccccc\" stroke=\"#000000\" points=\"76.5,-160 22.5,-160 22.5,-124 76.5,-124 76.5,-160\"/>\n",
       "<text text-anchor=\"middle\" x=\"49.5\" y=\"-138.3\" font-family=\"Times,serif\" font-size=\"14.00\" fill=\"#000000\">reset</text>\n",
       "</g>\n",
       "<!-- cluster_HelloWorld_io_in_a -->\n",
       "<g id=\"node3\" class=\"node\">\n",
       "<title>cluster_HelloWorld_io_in_a</title>\n",
       "<polygon fill=\"#cccccc\" stroke=\"#000000\" points=\"82.5,-106 16.5,-106 16.5,-70 82.5,-70 82.5,-106\"/>\n",
       "<text text-anchor=\"middle\" x=\"49.5\" y=\"-84.3\" font-family=\"Times,serif\" font-size=\"14.00\" fill=\"#000000\">io_in_a</text>\n",
       "</g>\n",
       "<!-- op_add_9 -->\n",
       "<g id=\"node7\" class=\"node\">\n",
       "<title>op_add_9</title>\n",
       "<polygon fill=\"#d8bfd8\" stroke=\"transparent\" points=\"127,-41 127,-91 219,-91 219,-41 127,-41\"/>\n",
       "<polygon fill=\"none\" stroke=\"#000000\" points=\"127,-66 127,-91 150,-91 150,-66 127,-66\"/>\n",
       "<text text-anchor=\"start\" x=\"132\" y=\"-74.8\" font-family=\"Times,serif\" font-size=\"14.00\" fill=\"#000000\">●</text>\n",
       "<polygon fill=\"none\" stroke=\"#000000\" points=\"150,-41 150,-91 196,-91 196,-41 150,-41\"/>\n",
       "<text text-anchor=\"start\" x=\"155\" y=\"-62.3\" font-family=\"Times,serif\" font-size=\"14.00\" fill=\"#000000\"> add </text>\n",
       "<polygon fill=\"none\" stroke=\"#000000\" points=\"196,-41 196,-91 219,-91 219,-41 196,-41\"/>\n",
       "<text text-anchor=\"start\" x=\"201\" y=\"-62.3\" font-family=\"Times,serif\" font-size=\"14.00\" fill=\"#000000\">●</text>\n",
       "<polygon fill=\"none\" stroke=\"#000000\" points=\"127,-41 127,-66 150,-66 150,-41 127,-41\"/>\n",
       "<text text-anchor=\"start\" x=\"132\" y=\"-49.8\" font-family=\"Times,serif\" font-size=\"14.00\" fill=\"#000000\">●</text>\n",
       "</g>\n",
       "<!-- cluster_HelloWorld_io_in_a&#45;&gt;op_add_9 -->\n",
       "<g id=\"edge3\" class=\"edge\">\n",
       "<title>cluster_HelloWorld_io_in_a&#45;&gt;op_add_9:in1</title>\n",
       "<path fill=\"none\" stroke=\"#000000\" d=\"M82.5899,-82.4539C93.1876,-81.0214 105.2073,-79.7387 116.8781,-79.2309\"/>\n",
       "<polygon fill=\"#000000\" stroke=\"#000000\" points=\"117.0825,-82.7273 127,-79 116.9227,-75.7291 117.0825,-82.7273\"/>\n",
       "</g>\n",
       "<!-- cluster_HelloWorld_io_in_b -->\n",
       "<g id=\"node4\" class=\"node\">\n",
       "<title>cluster_HelloWorld_io_in_b</title>\n",
       "<polygon fill=\"#cccccc\" stroke=\"#000000\" points=\"83,-52 16,-52 16,-16 83,-16 83,-52\"/>\n",
       "<text text-anchor=\"middle\" x=\"49.5\" y=\"-30.3\" font-family=\"Times,serif\" font-size=\"14.00\" fill=\"#000000\">io_in_b</text>\n",
       "</g>\n",
       "<!-- cluster_HelloWorld_io_in_b&#45;&gt;op_add_9 -->\n",
       "<g id=\"edge1\" class=\"edge\">\n",
       "<title>cluster_HelloWorld_io_in_b&#45;&gt;op_add_9:in2</title>\n",
       "<path fill=\"none\" stroke=\"#000000\" d=\"M83.0173,-45.9251C93.4487,-48.8776 105.2704,-51.4952 116.8858,-52.5297\"/>\n",
       "<polygon fill=\"#000000\" stroke=\"#000000\" points=\"116.8482,-56.0317 127,-53 117.1734,-49.0392 116.8482,-56.0317\"/>\n",
       "</g>\n",
       "<!-- cluster_HelloWorld_io_out_z -->\n",
       "<g id=\"node5\" class=\"node\">\n",
       "<title>cluster_HelloWorld_io_out_z</title>\n",
       "<polygon fill=\"#e0ffff\" stroke=\"#000000\" points=\"615,-71 540,-71 540,-35 615,-35 615,-71\"/>\n",
       "<text text-anchor=\"middle\" x=\"577.5\" y=\"-49.3\" font-family=\"Times,serif\" font-size=\"14.00\" fill=\"#000000\">io_out_z</text>\n",
       "</g>\n",
       "<!-- cluster_HelloWorld__io_out_z_T -->\n",
       "<g id=\"node6\" class=\"node\">\n",
       "<title>cluster_HelloWorld__io_out_z_T</title>\n",
       "<polygon fill=\"none\" stroke=\"#000000\" points=\"363,-84 263,-84 263,-48 363,-48 363,-84\"/>\n",
       "<text text-anchor=\"middle\" x=\"313\" y=\"-62.3\" font-family=\"Times,serif\" font-size=\"14.00\" fill=\"#000000\">_io_out_z_T</text>\n",
       "</g>\n",
       "<!-- op_tail_10 -->\n",
       "<g id=\"node8\" class=\"node\">\n",
       "<title>op_tail_10</title>\n",
       "<polygon fill=\"#d8bfd8\" stroke=\"transparent\" points=\"407,-28 407,-78 496,-78 496,-28 407,-28\"/>\n",
       "<polygon fill=\"none\" stroke=\"#000000\" points=\"407.5,-53 407.5,-78 430.5,-78 430.5,-53 407.5,-53\"/>\n",
       "<text text-anchor=\"start\" x=\"412.5\" y=\"-61.8\" font-family=\"Times,serif\" font-size=\"14.00\" fill=\"#000000\">●</text>\n",
       "<polygon fill=\"none\" stroke=\"#000000\" points=\"430.5,-28 430.5,-78 473.5,-78 473.5,-28 430.5,-28\"/>\n",
       "<text text-anchor=\"start\" x=\"435.5\" y=\"-49.3\" font-family=\"Times,serif\" font-size=\"14.00\" fill=\"#000000\"> tail </text>\n",
       "<polygon fill=\"none\" stroke=\"#000000\" points=\"473.5,-28 473.5,-78 496.5,-78 496.5,-28 473.5,-28\"/>\n",
       "<text text-anchor=\"start\" x=\"478.5\" y=\"-49.3\" font-family=\"Times,serif\" font-size=\"14.00\" fill=\"#000000\">●</text>\n",
       "<polygon fill=\"none\" stroke=\"#000000\" points=\"407.5,-28 407.5,-53 430.5,-53 430.5,-28 407.5,-28\"/>\n",
       "<text text-anchor=\"start\" x=\"414\" y=\"-36.8\" font-family=\"Times,serif\" font-size=\"14.00\" fill=\"#000000\">1</text>\n",
       "</g>\n",
       "<!-- cluster_HelloWorld__io_out_z_T&#45;&gt;op_tail_10 -->\n",
       "<g id=\"edge5\" class=\"edge\">\n",
       "<title>cluster_HelloWorld__io_out_z_T&#45;&gt;op_tail_10:in1</title>\n",
       "<path fill=\"none\" stroke=\"#000000\" d=\"M363.0243,-66C374.0187,-66 385.7857,-66 397.1771,-66\"/>\n",
       "<polygon fill=\"#000000\" stroke=\"#000000\" points=\"397.5,-69.5001 407.5,-66 397.5,-62.5001 397.5,-69.5001\"/>\n",
       "</g>\n",
       "<!-- op_add_9&#45;&gt;cluster_HelloWorld__io_out_z_T -->\n",
       "<g id=\"edge2\" class=\"edge\">\n",
       "<title>op_add_9:out&#45;&gt;cluster_HelloWorld__io_out_z_T</title>\n",
       "<path fill=\"none\" stroke=\"#000000\" d=\"M219,-66C229.8703,-66 241.4477,-66 252.6282,-66\"/>\n",
       "<polygon fill=\"#000000\" stroke=\"#000000\" points=\"252.7529,-69.5001 262.7529,-66 252.7529,-62.5001 252.7529,-69.5001\"/>\n",
       "</g>\n",
       "<!-- op_tail_10&#45;&gt;cluster_HelloWorld_io_out_z -->\n",
       "<g id=\"edge4\" class=\"edge\">\n",
       "<title>op_tail_10:out&#45;&gt;cluster_HelloWorld_io_out_z</title>\n",
       "<path fill=\"none\" stroke=\"#000000\" d=\"M496.5,-53C507.2633,-53 518.8311,-53 529.7602,-53\"/>\n",
       "<polygon fill=\"#000000\" stroke=\"#000000\" points=\"529.9959,-56.5001 539.9959,-53 529.9958,-49.5001 529.9959,-56.5001\"/>\n",
       "</g>\n",
       "</g>\n",
       "</svg>\n",
       "</div>"
      ]
     },
     "metadata": {},
     "output_type": "display_data"
    }
   ],
   "source": [
    "visualize(() => new HelloWorld(8))"
   ]
  },
  {
   "cell_type": "markdown",
   "id": "e93db4d9",
   "metadata": {
    "slideshow": {
     "slide_type": "slide"
    }
   },
   "source": [
    "## Wire"
   ]
  },
  {
   "cell_type": "markdown",
   "id": "b7de28d0",
   "metadata": {
    "cell_style": "split"
   },
   "source": [
    "##### Wire\n",
    "- constructor: `Wire(t: T)`\n",
    "\n",
    "##### WireDefault\n",
    "- constructor: `WireDefault(t: T)`\n"
   ]
  },
  {
   "cell_type": "code",
   "execution_count": null,
   "id": "373199c2",
   "metadata": {
    "cell_style": "split"
   },
   "outputs": [],
   "source": []
  },
  {
   "cell_type": "markdown",
   "id": "338e706c",
   "metadata": {
    "slideshow": {
     "slide_type": "slide"
    }
   },
   "source": [
    "## Reg"
   ]
  },
  {
   "cell_type": "markdown",
   "id": "44379824",
   "metadata": {
    "cell_style": "split"
   },
   "source": [
    "#### Reg\n",
    "- `Reg(t: T): T`\n",
    "\n",
    "#### RegInit\n",
    "- `RegInit(init: T): T`\n",
    "\n",
    "#### RegNext\n",
    "- `RegNext(next: T): T`\n",
    "- `RegNext(next: T, init: T): T`\n",
    "\n",
    "#### RegEnable\n",
    "- `RegEnable(next: T, enable: Bool): T`\n",
    "- `RegEnable(next: T, init: T, enable: Bool): T`\n"
   ]
  },
  {
   "cell_type": "code",
   "execution_count": 173,
   "id": "280cbe8b",
   "metadata": {
    "cell_style": "split"
   },
   "outputs": [
    {
     "data": {
      "text/plain": [
       "defined \u001b[32mclass\u001b[39m \u001b[36mHelloWorld\u001b[39m"
      ]
     },
     "execution_count": 173,
     "metadata": {},
     "output_type": "execute_result"
    }
   ],
   "source": [
    "class HelloWorld extends Module {\n",
    "  val io = IO(new Bundle{\n",
    "    val en = Input(Bool())\n",
    "    val in = Input(UInt(8.W))\n",
    "    val out = Output(UInt(8.W))\n",
    "  })\n",
    "  io.out := RegNext(Mux(io.en, io.in, io.out))\n",
    "}"
   ]
  },
  {
   "cell_type": "code",
   "execution_count": 171,
   "id": "ad4e2bdf",
   "metadata": {
    "cell_style": "split"
   },
   "outputs": [
    {
     "name": "stdout",
     "output_type": "stream",
     "text": [
      "module HelloWorld(\n",
      "  input        clock,\n",
      "  input        reset,\n",
      "  input        io_en,\n",
      "  input  [7:0] io_in,\n",
      "  output [7:0] io_out\n",
      ");\n",
      "  reg [7:0] io_out_REG;\n",
      "  assign io_out = io_out_REG;\n",
      "  always @(posedge clock) begin\n",
      "    if (io_en) begin\n",
      "      io_out_REG <= io_in;\n",
      "    end else begin\n",
      "      io_out_REG <= io_out;\n",
      "    end\n",
      "  end\n",
      "endmodule\n"
     ]
    }
   ],
   "source": [
    "println(getVerilog(new HelloWorld))"
   ]
  },
  {
   "cell_type": "code",
   "execution_count": 172,
   "id": "05fe555c",
   "metadata": {
    "cell_style": "split"
   },
   "outputs": [
    {
     "data": {
      "text/html": [
       "<div width=\"100%\" height=\"100%\" overflow=\"scroll\"><?xml version=\"1.0\" encoding=\"UTF-8\" standalone=\"no\"?>\n",
       "<?xml-stylesheet href=\"styles.css\" type=\"text/css\"?>\n",
       "<!DOCTYPE svg PUBLIC \"-//W3C//DTD SVG 1.1//EN\"\n",
       " \"http://www.w3.org/Graphics/SVG/1.1/DTD/svg11.dtd\">\n",
       "<!-- Generated by graphviz version 2.40.1 (0)\n",
       " -->\n",
       "<!-- Title: HelloWorld Pages: 1 -->\n",
       "<svg width=\"507pt\" height=\"297pt\"\n",
       " viewBox=\"0.00 0.00 507.00 296.71\" xmlns=\"http://www.w3.org/2000/svg\" xmlns:xlink=\"http://www.w3.org/1999/xlink\">\n",
       "<g id=\"graph0\" class=\"graph\" transform=\"scale(1 1) rotate(0) translate(4 292.7115)\">\n",
       "<title>HelloWorld</title>\n",
       "<polygon fill=\"#ffffff\" stroke=\"transparent\" points=\"-4,4 -4,-292.7115 503,-292.7115 503,4 -4,4\"/>\n",
       "<g id=\"clust1\" class=\"cluster\">\n",
       "<title>cluster_HelloWorld</title>\n",
       "<polygon fill=\"#fff8dc\" stroke=\"#000000\" points=\"8,-43.7115 8,-280.7115 491,-280.7115 491,-43.7115 8,-43.7115\"/>\n",
       "<text text-anchor=\"middle\" x=\"249.5\" y=\"-265.5115\" font-family=\"Times,serif\" font-size=\"14.00\" fill=\"#000000\">HelloWorld</text>\n",
       "</g>\n",
       "<!-- cluster_HelloWorld_clock -->\n",
       "<g id=\"node1\" class=\"node\">\n",
       "<title>cluster_HelloWorld_clock</title>\n",
       "<polygon fill=\"#cccccc\" stroke=\"#000000\" points=\"71,-249.7115 16,-249.7115 16,-213.7115 71,-213.7115 71,-249.7115\"/>\n",
       "<text text-anchor=\"middle\" x=\"43.5\" y=\"-228.0115\" font-family=\"Times,serif\" font-size=\"14.00\" fill=\"#000000\">clock</text>\n",
       "</g>\n",
       "<!-- cluster_HelloWorld_reset -->\n",
       "<g id=\"node2\" class=\"node\">\n",
       "<title>cluster_HelloWorld_reset</title>\n",
       "<polygon fill=\"#cccccc\" stroke=\"#000000\" points=\"70.5,-195.7115 16.5,-195.7115 16.5,-159.7115 70.5,-159.7115 70.5,-195.7115\"/>\n",
       "<text text-anchor=\"middle\" x=\"43.5\" y=\"-174.0115\" font-family=\"Times,serif\" font-size=\"14.00\" fill=\"#000000\">reset</text>\n",
       "</g>\n",
       "<!-- cluster_HelloWorld_io_en -->\n",
       "<g id=\"node3\" class=\"node\">\n",
       "<title>cluster_HelloWorld_io_en</title>\n",
       "<polygon fill=\"#cccccc\" stroke=\"#000000\" points=\"70.5,-87.7115 16.5,-87.7115 16.5,-51.7115 70.5,-51.7115 70.5,-87.7115\"/>\n",
       "<text text-anchor=\"middle\" x=\"43.5\" y=\"-66.0115\" font-family=\"Times,serif\" font-size=\"14.00\" fill=\"#000000\">io_en</text>\n",
       "</g>\n",
       "<!-- mux_1306485316 -->\n",
       "<g id=\"node7\" class=\"node\">\n",
       "<title>mux_1306485316</title>\n",
       "<polygon fill=\"#afeeee\" stroke=\"transparent\" points=\"115,-59.7115 115,-109.7115 187,-109.7115 187,-59.7115 115,-59.7115\"/>\n",
       "<polygon fill=\"none\" stroke=\"#000000\" points=\"115,-84.7115 115,-109.7115 138,-109.7115 138,-84.7115 115,-84.7115\"/>\n",
       "<text text-anchor=\"start\" x=\"120\" y=\"-93.5115\" font-family=\"Times,serif\" font-size=\"14.00\" fill=\"#000000\">●</text>\n",
       "<polygon fill=\"none\" stroke=\"#000000\" points=\"138,-59.7115 138,-109.7115 164,-109.7115 164,-59.7115 138,-59.7115\"/>\n",
       "<text text-anchor=\"start\" x=\"143\" y=\"-81.0115\" font-family=\"Times,serif\" font-size=\"14.00\" fill=\"#000000\">a?</text>\n",
       "<polygon fill=\"none\" stroke=\"#000000\" points=\"164,-59.7115 164,-109.7115 187,-109.7115 187,-59.7115 164,-59.7115\"/>\n",
       "<text text-anchor=\"start\" x=\"169\" y=\"-81.0115\" font-family=\"Times,serif\" font-size=\"14.00\" fill=\"#000000\">●</text>\n",
       "<polygon fill=\"none\" stroke=\"#000000\" points=\"115,-59.7115 115,-84.7115 138,-84.7115 138,-59.7115 115,-59.7115\"/>\n",
       "<text text-anchor=\"start\" x=\"120\" y=\"-68.5115\" font-family=\"Times,serif\" font-size=\"14.00\" fill=\"#000000\">●</text>\n",
       "</g>\n",
       "<!-- cluster_HelloWorld_io_en&#45;&gt;mux_1306485316 -->\n",
       "<g id=\"edge3\" class=\"edge\">\n",
       "<title>cluster_HelloWorld_io_en&#45;&gt;mux_1306485316:select</title>\n",
       "<path fill=\"none\" stroke=\"#000000\" d=\"M70.6268,-56.7749C98.492,-44.7819 139.1288,-31.3418 148.8526,-49.7669\"/>\n",
       "<polygon fill=\"#000000\" stroke=\"#000000\" points=\"145.4681,-50.6756 151,-59.7115 152.3104,-49.198 145.4681,-50.6756\"/>\n",
       "</g>\n",
       "<!-- cluster_HelloWorld_io_in -->\n",
       "<g id=\"node4\" class=\"node\">\n",
       "<title>cluster_HelloWorld_io_in</title>\n",
       "<polygon fill=\"#cccccc\" stroke=\"#000000\" points=\"70.5,-141.7115 16.5,-141.7115 16.5,-105.7115 70.5,-105.7115 70.5,-141.7115\"/>\n",
       "<text text-anchor=\"middle\" x=\"43.5\" y=\"-120.0115\" font-family=\"Times,serif\" font-size=\"14.00\" fill=\"#000000\">io_in</text>\n",
       "</g>\n",
       "<!-- cluster_HelloWorld_io_in&#45;&gt;mux_1306485316 -->\n",
       "<g id=\"edge4\" class=\"edge\">\n",
       "<title>cluster_HelloWorld_io_in&#45;&gt;mux_1306485316:in1</title>\n",
       "<path fill=\"none\" stroke=\"#000000\" d=\"M70.5157,-108.8887C80.7075,-104.3271 92.774,-100.071 104.8714,-98.4272\"/>\n",
       "<polygon fill=\"#000000\" stroke=\"#000000\" points=\"105.2716,-101.9078 115,-97.7115 104.7781,-94.9252 105.2716,-101.9078\"/>\n",
       "</g>\n",
       "<!-- cluster_HelloWorld_io_out -->\n",
       "<g id=\"node5\" class=\"node\">\n",
       "<title>cluster_HelloWorld_io_out</title>\n",
       "<polygon fill=\"#e0ffff\" stroke=\"#000000\" points=\"483,-100.7115 423,-100.7115 423,-64.7115 483,-64.7115 483,-100.7115\"/>\n",
       "<text text-anchor=\"middle\" x=\"453\" y=\"-79.0115\" font-family=\"Times,serif\" font-size=\"14.00\" fill=\"#000000\">io_out</text>\n",
       "</g>\n",
       "<!-- cluster_HelloWorld_io_out&#45;&gt;mux_1306485316 -->\n",
       "<g id=\"edge5\" class=\"edge\">\n",
       "<title>cluster_HelloWorld_io_out&#45;&gt;mux_1306485316:in2</title>\n",
       "<path fill=\"none\" stroke=\"#000000\" d=\"M422.8228,-68.1041C344.3218,-31.6427 138.9467,53.312 126.5838,-49.5241\"/>\n",
       "<polygon fill=\"#000000\" stroke=\"#000000\" points=\"123.0779,-49.5276 126,-59.7115 130.0665,-49.9282 123.0779,-49.5276\"/>\n",
       "</g>\n",
       "<!-- struct_cluster_HelloWorld_io_out_REG -->\n",
       "<g id=\"node6\" class=\"node\">\n",
       "<title>struct_cluster_HelloWorld_io_out_REG</title>\n",
       "<polygon fill=\"#ffe4b5\" stroke=\"transparent\" points=\"239,-85.2115 239,-110.2115 379,-110.2115 379,-85.2115 239,-85.2115\"/>\n",
       "<polygon fill=\"none\" stroke=\"#000000\" points=\"239,-84.7115 239,-109.7115 262,-109.7115 262,-84.7115 239,-84.7115\"/>\n",
       "<text text-anchor=\"start\" x=\"244\" y=\"-93.5115\" font-family=\"Times,serif\" font-size=\"14.00\" fill=\"#000000\">●</text>\n",
       "<polygon fill=\"none\" stroke=\"#000000\" points=\"262,-84.7115 262,-109.7115 356,-109.7115 356,-84.7115 262,-84.7115\"/>\n",
       "<text text-anchor=\"start\" x=\"267\" y=\"-93.5115\" font-family=\"Times,serif\" font-size=\"14.00\" fill=\"#000000\">io_out_REG</text>\n",
       "<polygon fill=\"none\" stroke=\"#000000\" points=\"356,-84.7115 356,-109.7115 379,-109.7115 379,-84.7115 356,-84.7115\"/>\n",
       "<text text-anchor=\"start\" x=\"361\" y=\"-93.5115\" font-family=\"Times,serif\" font-size=\"14.00\" fill=\"#000000\">●</text>\n",
       "</g>\n",
       "<!-- struct_cluster_HelloWorld_io_out_REG&#45;&gt;cluster_HelloWorld_io_out -->\n",
       "<g id=\"edge2\" class=\"edge\">\n",
       "<title>struct_cluster_HelloWorld_io_out_REG:out&#45;&gt;cluster_HelloWorld_io_out</title>\n",
       "<path fill=\"none\" stroke=\"#000000\" d=\"M379,-96.7115C390.0975,-96.7115 401.9705,-95.1726 412.885,-93.1152\"/>\n",
       "<polygon fill=\"#000000\" stroke=\"#000000\" points=\"413.9185,-96.4755 422.9991,-91.0172 412.4966,-89.6214 413.9185,-96.4755\"/>\n",
       "</g>\n",
       "<!-- mux_1306485316&#45;&gt;struct_cluster_HelloWorld_io_out_REG -->\n",
       "<g id=\"edge1\" class=\"edge\">\n",
       "<title>mux_1306485316:out&#45;&gt;struct_cluster_HelloWorld_io_out_REG:in</title>\n",
       "<path fill=\"none\" stroke=\"#000000\" d=\"M187,-84.7115C206.8272,-84.7115 213.2687,-93.097 228.7037,-95.8485\"/>\n",
       "<polygon fill=\"#000000\" stroke=\"#000000\" points=\"228.7426,-99.3639 239,-96.7115 229.3273,-92.3884 228.7426,-99.3639\"/>\n",
       "</g>\n",
       "</g>\n",
       "</svg>\n",
       "</div>"
      ]
     },
     "metadata": {},
     "output_type": "display_data"
    }
   ],
   "source": [
    "visualize(() => new HelloWorld)"
   ]
  },
  {
   "cell_type": "markdown",
   "id": "2737256c",
   "metadata": {
    "slideshow": {
     "slide_type": "slide"
    }
   },
   "source": [
    "## When"
   ]
  },
  {
   "cell_type": "markdown",
   "id": "7069b37a",
   "metadata": {
    "slideshow": {
     "slide_type": "slide"
    }
   },
   "source": [
    "## Switch"
   ]
  },
  {
   "cell_type": "markdown",
   "id": "9023cc7a",
   "metadata": {
    "slideshow": {
     "slide_type": "slide"
    }
   },
   "source": [
    "## Enum"
   ]
  },
  {
   "cell_type": "markdown",
   "id": "edfcec99",
   "metadata": {
    "slideshow": {
     "slide_type": "slide"
    }
   },
   "source": [
    "# State Elements"
   ]
  },
  {
   "cell_type": "code",
   "execution_count": null,
   "id": "fa81addb",
   "metadata": {},
   "outputs": [],
   "source": []
  },
  {
   "cell_type": "code",
   "execution_count": null,
   "id": "54c07346",
   "metadata": {},
   "outputs": [],
   "source": []
  },
  {
   "cell_type": "code",
   "execution_count": null,
   "id": "1ce1d0d4",
   "metadata": {},
   "outputs": [],
   "source": []
  },
  {
   "cell_type": "code",
   "execution_count": null,
   "id": "74db8832",
   "metadata": {},
   "outputs": [],
   "source": []
  },
  {
   "cell_type": "code",
   "execution_count": null,
   "id": "b3666691",
   "metadata": {},
   "outputs": [],
   "source": []
  },
  {
   "cell_type": "code",
   "execution_count": null,
   "id": "e07ef5b6",
   "metadata": {},
   "outputs": [],
   "source": []
  }
 ],
 "metadata": {
  "celltoolbar": "Slideshow",
  "kernelspec": {
   "display_name": "Scala",
   "language": "scala",
   "name": "scala"
  },
  "language_info": {
   "codemirror_mode": "text/x-scala",
   "file_extension": ".sc",
   "mimetype": "text/x-scala",
   "name": "scala",
   "nbconvert_exporter": "script",
   "version": "2.13.4"
  }
 },
 "nbformat": 4,
 "nbformat_minor": 5
}
