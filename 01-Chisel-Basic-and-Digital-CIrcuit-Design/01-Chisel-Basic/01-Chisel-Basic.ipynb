{
 "cells": [
  {
   "cell_type": "markdown",
   "id": "6aef4afb",
   "metadata": {
    "cell_style": "center",
    "slideshow": {
     "slide_type": "slide"
    }
   },
   "source": [
    "# Digital System Design with Chisel\n",
    "\n",
    "### Chapter 1 : Chisel 문법 기초\n",
    "\n",
    "##### Dongho Park"
   ]
  },
  {
   "cell_type": "markdown",
   "id": "f73ca714",
   "metadata": {
    "slideshow": {
     "slide_type": "slide"
    }
   },
   "source": [
    "# Chisel 문법 기초\n",
    "## 1. Chisel Type System\n",
    "## 2. Chisel Hardware\n",
    "## 3. Conditional \n",
    "## 4. Operators"
   ]
  },
  {
   "cell_type": "markdown",
   "id": "b9aee1c3",
   "metadata": {
    "slideshow": {
     "slide_type": "slide"
    }
   },
   "source": [
    "# Loading The Chisel Library Into a Notebook"
   ]
  },
  {
   "cell_type": "code",
   "execution_count": 1,
   "id": "b2cf3279",
   "metadata": {},
   "outputs": [
    {
     "data": {
      "text/plain": [
       "\u001b[36mpath\u001b[39m: \u001b[32mString\u001b[39m = \u001b[32m\"/home/parkdongho/dev/Digital-System-Design-with-Chisel/01-Chisel-Basic-and-Digital-CIrcuit-Design/01-Chisel-Basic/../../resource/chisel_deps.sc\"\u001b[39m"
      ]
     },
     "execution_count": 1,
     "metadata": {},
     "output_type": "execute_result"
    }
   ],
   "source": [
    "val path = System.getProperty(\"user.dir\") + \"/../../resource/chisel_deps.sc\"\n",
    "interp.load.module(ammonite.ops.Path(java.nio.file.FileSystems.getDefault().getPath(path)))"
   ]
  },
  {
   "cell_type": "code",
   "execution_count": 2,
   "id": "9457cf27",
   "metadata": {},
   "outputs": [
    {
     "data": {
      "text/plain": [
       "\u001b[32mimport \u001b[39m\u001b[36mchisel3._\n",
       "\u001b[39m\n",
       "\u001b[32mimport \u001b[39m\u001b[36mchisel3.util._\n",
       "\u001b[39m\n",
       "\u001b[32mimport \u001b[39m\u001b[36mchisel3.tester._\n",
       "\u001b[39m\n",
       "\u001b[32mimport \u001b[39m\u001b[36mchisel3.tester.RawTester.test\u001b[39m"
      ]
     },
     "execution_count": 2,
     "metadata": {},
     "output_type": "execute_result"
    }
   ],
   "source": [
    "import chisel3._\n",
    "import chisel3.util._\n",
    "import chisel3.tester._\n",
    "import chisel3.tester.RawTester.test"
   ]
  },
  {
   "cell_type": "markdown",
   "id": "8fba995b",
   "metadata": {
    "slideshow": {
     "slide_type": "slide"
    }
   },
   "source": [
    "# Scala Type"
   ]
  },
  {
   "cell_type": "code",
   "execution_count": 4,
   "id": "f2a1138a",
   "metadata": {
    "cell_style": "center"
   },
   "outputs": [
    {
     "data": {
      "text/plain": [
       "\u001b[36mres3_0\u001b[39m: \u001b[32mInt\u001b[39m = \u001b[32m1\u001b[39m\n",
       "\u001b[36mres3_1\u001b[39m: \u001b[32mDouble\u001b[39m = \u001b[32m1.0\u001b[39m\n",
       "\u001b[36mres3_2\u001b[39m: \u001b[32mBoolean\u001b[39m = true\n",
       "\u001b[36mres3_3\u001b[39m: \u001b[32mInt\u001b[39m = \u001b[32m1\u001b[39m\n",
       "\u001b[36mres3_4\u001b[39m: \u001b[32mLong\u001b[39m = \u001b[32m1L\u001b[39m\n",
       "\u001b[36mres3_5\u001b[39m: \u001b[32mDouble\u001b[39m = \u001b[32m1.0\u001b[39m\n",
       "\u001b[36mres3_6\u001b[39m: \u001b[32mFloat\u001b[39m = \u001b[32m1.0F\u001b[39m\n",
       "\u001b[36mres3_7\u001b[39m: \u001b[32mBoolean\u001b[39m = true\n",
       "\u001b[36ma\u001b[39m: \u001b[32mLong\u001b[39m = \u001b[32m1L\u001b[39m\n",
       "\u001b[36mres3_9\u001b[39m: \u001b[32mLong\u001b[39m = \u001b[32m1L\u001b[39m\n",
       "\u001b[36mres3_10\u001b[39m: \u001b[32mString\u001b[39m = \u001b[32m\"asdasda\"\u001b[39m"
      ]
     },
     "execution_count": 4,
     "metadata": {},
     "output_type": "execute_result"
    }
   ],
   "source": [
    "//scala literal\n",
    "1\n",
    "1.0\n",
    "true\n",
    "\n",
    "1 : Int\n",
    "1 : Long\n",
    "1 : Double\n",
    "1 : Float\n",
    "\n",
    "true : Boolean\n",
    "val a = 1 : Long\n",
    "a\n",
    "\"asdasda\" : String"
   ]
  },
  {
   "cell_type": "markdown",
   "id": "c192d24e",
   "metadata": {
    "slideshow": {
     "slide_type": "slide"
    }
   },
   "source": [
    "# 1. Chisel Type System"
   ]
  },
  {
   "cell_type": "markdown",
   "id": "969e0df3",
   "metadata": {
    "slideshow": {
     "slide_type": "slide"
    }
   },
   "source": [
    "## Chisel Type Overview"
   ]
  },
  {
   "cell_type": "markdown",
   "id": "fdf07fbe",
   "metadata": {
    "cell_style": "split",
    "slideshow": {
     "slide_type": "-"
    }
   },
   "source": [
    "![](img/type_hierarchy.svg)"
   ]
  },
  {
   "cell_type": "markdown",
   "id": "044f338b",
   "metadata": {
    "cell_style": "split"
   },
   "source": [
    "- Element\n",
    "    - Bool\n",
    "    - UInt\n",
    "    - SInt\n",
    "    - FixedPoint <- Next Time\n",
    "- Aggregate\n",
    "    - Vec\n",
    "    - Bundle\n",
    "        - UserType"
   ]
  },
  {
   "cell_type": "markdown",
   "id": "952ca2ec",
   "metadata": {
    "slideshow": {
     "slide_type": "slide"
    }
   },
   "source": [
    "## `Bool`"
   ]
  },
  {
   "cell_type": "markdown",
   "id": "de6507c6",
   "metadata": {
    "cell_style": "split",
    "slideshow": {
     "slide_type": "-"
    }
   },
   "source": [
    "##### Bool\n",
    "- single-bit logic signal\n",
    "- constructor : `Bool()`\n",
    "\n",
    "##### Bool Literal\n",
    "- constructor : `<Boolean>.B`\n",
    "- examples: `true.B`, `false.B`\n",
    "\n",
    "---\n",
    "* `<Bool>` : Chisel `Bool` Type\n",
    "* `<Boolean>` : Scala `Boolean` Type"
   ]
  },
  {
   "cell_type": "code",
   "execution_count": 5,
   "id": "8ec2c378",
   "metadata": {
    "cell_style": "split"
   },
   "outputs": [
    {
     "data": {
      "text/plain": [
       "\u001b[36mres4_0\u001b[39m: \u001b[32mBool\u001b[39m = Bool\n",
       "\u001b[36mboolImplicit\u001b[39m: \u001b[32mBool\u001b[39m = Bool\n",
       "\u001b[36mboolExplicit\u001b[39m: \u001b[32mBool\u001b[39m = Bool"
      ]
     },
     "execution_count": 5,
     "metadata": {},
     "output_type": "execute_result"
    }
   ],
   "source": [
    "// Bool\n",
    "Bool()\n",
    "val boolImplicit = Bool()\n",
    "val boolExplicit: Bool = Bool()"
   ]
  },
  {
   "cell_type": "code",
   "execution_count": 6,
   "id": "ec21a493",
   "metadata": {
    "cell_style": "split"
   },
   "outputs": [
    {
     "data": {
      "text/plain": [
       "\u001b[36mres5_0\u001b[39m: \u001b[32mBoolean\u001b[39m = true\n",
       "\u001b[36mres5_1\u001b[39m: \u001b[32mBoolean\u001b[39m = false\n",
       "\u001b[36mres5_2\u001b[39m: \u001b[32mBool\u001b[39m = Bool(true)\n",
       "\u001b[36mres5_3\u001b[39m: \u001b[32mBool\u001b[39m = Bool(false)\n",
       "\u001b[36mbooleanFoo\u001b[39m: \u001b[32mBoolean\u001b[39m = true\n",
       "\u001b[36mres5_5\u001b[39m: \u001b[32mBool\u001b[39m = Bool(true)\n",
       "\u001b[36mboolLiteral\u001b[39m: \u001b[32mBool\u001b[39m = Bool(true)"
      ]
     },
     "execution_count": 6,
     "metadata": {},
     "output_type": "execute_result"
    }
   ],
   "source": [
    "//Scala Boolean Literal\n",
    "true\n",
    "false\n",
    "\n",
    "// Bool Literal\n",
    "true.B //Bool literal\n",
    "false.B\n",
    "\n",
    "val booleanFoo : Boolean = true //Scala Boolean Type\n",
    "booleanFoo.B //Bool literal\n",
    "\n",
    "val boolLiteral: Bool = booleanFoo.B"
   ]
  },
  {
   "cell_type": "markdown",
   "id": "5d14fe27",
   "metadata": {
    "slideshow": {
     "slide_type": "slide"
    }
   },
   "source": [
    "## `UInt`"
   ]
  },
  {
   "cell_type": "markdown",
   "id": "f9609094",
   "metadata": {
    "cell_style": "split",
    "slideshow": {
     "slide_type": "-"
    }
   },
   "source": [
    "##### UInt\n",
    "- single-bit logic signal\n",
    "- constructor : \n",
    "  + `UInt()`\n",
    "  + `UInt(<Width>)`\n",
    "\n",
    "##### UInt Literal\n",
    "- constructor : \n",
    "  + `<Int>.U`\n",
    "  + `<Int>.U(<Width>)`\n",
    "  \n",
    " \n",
    "---\n",
    "* `<UInt>` : Chisel `UInt` Type\n",
    "* `<Int>` : Scala `Int` Type\n",
    "* `<Width>` : FIRRTL `Width` Type"
   ]
  },
  {
   "cell_type": "code",
   "execution_count": 7,
   "id": "3ec7dd6b",
   "metadata": {
    "cell_style": "split"
   },
   "outputs": [
    {
     "data": {
      "text/plain": [
       "\u001b[36mres6_0\u001b[39m: \u001b[32mUInt\u001b[39m = UInt\n",
       "\u001b[36mres6_1\u001b[39m: \u001b[32mUInt\u001b[39m = UInt<32>\n",
       "\u001b[32mimport \u001b[39m\u001b[36mchisel3.internal.firrtl._\n",
       "\u001b[39m\n",
       "\u001b[36mfooWidth\u001b[39m: \u001b[32mWidth\u001b[39m = \u001b[33mKnownWidth\u001b[39m(value = \u001b[32m64\u001b[39m)\n",
       "\u001b[36mfooUInt\u001b[39m: \u001b[32mUInt\u001b[39m = UInt<64>"
      ]
     },
     "execution_count": 7,
     "metadata": {},
     "output_type": "execute_result"
    }
   ],
   "source": [
    "//UInt\n",
    "UInt()     //UInt, width inferred\n",
    "UInt(32.W) //32bit UInt\n",
    "\n",
    "//Width constructor : <Int>.W\n",
    "import chisel3.internal.firrtl._\n",
    "val fooWidth = 64.W //firrtl Width Literal\n",
    "val fooUInt = UInt(fooWidth)"
   ]
  },
  {
   "cell_type": "code",
   "execution_count": 8,
   "id": "56761359",
   "metadata": {
    "cell_style": "split"
   },
   "outputs": [
    {
     "data": {
      "text/plain": [
       "\u001b[36mres7_0\u001b[39m: \u001b[32mUInt\u001b[39m = UInt<3>(4)\n",
       "\u001b[36mres7_1\u001b[39m: \u001b[32mUInt\u001b[39m = UInt<32>(4)\n",
       "\u001b[36mres7_2\u001b[39m: \u001b[32mUInt\u001b[39m = UInt<64>(4)\n",
       "\u001b[36mfooLiteral\u001b[39m: \u001b[32mUInt\u001b[39m = UInt<64>(4)"
      ]
     },
     "execution_count": 8,
     "metadata": {},
     "output_type": "execute_result"
    }
   ],
   "source": [
    "//UInt Literal\n",
    "4.U\n",
    "4.U(32.W)\n",
    "4.U(fooWidth)\n",
    "val fooLiteral = 4.U(fooWidth)"
   ]
  },
  {
   "cell_type": "markdown",
   "id": "d459dfab",
   "metadata": {
    "slideshow": {
     "slide_type": "slide"
    }
   },
   "source": [
    "## `SInt`"
   ]
  },
  {
   "cell_type": "markdown",
   "id": "ff0f35bb",
   "metadata": {
    "cell_style": "split"
   },
   "source": [
    "##### SInt\n",
    "- single-bit logic signal\n",
    "- constructor : \n",
    "  + `SInt()`\n",
    "  + `SInt(<Width>)`\n",
    "\n",
    "##### SInt Literal\n",
    "- constructor : \n",
    "  + `<Int>.S`\n",
    "  + `<Int>.S(<Width>)`\n",
    "  \n",
    "---\n",
    "* `<SInt>` : Chisel `SInt` Type\n",
    "* `<Int>` : Scala `Int` Type\n",
    "* `<Width>` : FIRRTL `Width` Type"
   ]
  },
  {
   "cell_type": "code",
   "execution_count": 113,
   "id": "3013b7ac",
   "metadata": {
    "cell_style": "split"
   },
   "outputs": [
    {
     "data": {
      "text/plain": [
       "\u001b[36mres112_0\u001b[39m: \u001b[32mSInt\u001b[39m = SInt\n",
       "\u001b[36mres112_1\u001b[39m: \u001b[32mSInt\u001b[39m = SInt<32>\n",
       "\u001b[32mimport \u001b[39m\u001b[36mchisel3.internal.firrtl._\n",
       "\u001b[39m\n",
       "\u001b[36mfooWidth\u001b[39m: \u001b[32mWidth\u001b[39m = \u001b[33mKnownWidth\u001b[39m(value = \u001b[32m64\u001b[39m)\n",
       "\u001b[36mfooUInt\u001b[39m: \u001b[32mSInt\u001b[39m = SInt<64>"
      ]
     },
     "execution_count": 113,
     "metadata": {},
     "output_type": "execute_result"
    }
   ],
   "source": [
    "//UInt\n",
    "SInt()     //UInt, width inferred\n",
    "SInt(32.W) //32bit UInt\n",
    "\n",
    "//Width constructor : <Int>.W\n",
    "import chisel3.internal.firrtl._\n",
    "val fooWidth = 64.W //firrtl Width Literal\n",
    "val fooUInt = SInt(fooWidth)"
   ]
  },
  {
   "cell_type": "code",
   "execution_count": 114,
   "id": "56f50dd4",
   "metadata": {
    "cell_style": "split"
   },
   "outputs": [
    {
     "data": {
      "text/plain": [
       "\u001b[36mres113_0\u001b[39m: \u001b[32mSInt\u001b[39m = SInt<4>(4)\n",
       "\u001b[36mres113_1\u001b[39m: \u001b[32mSInt\u001b[39m = SInt<32>(4)\n",
       "\u001b[36mres113_2\u001b[39m: \u001b[32mSInt\u001b[39m = SInt<64>(4)\n",
       "\u001b[36mfooLiteral\u001b[39m: \u001b[32mSInt\u001b[39m = SInt<64>(4)"
      ]
     },
     "execution_count": 114,
     "metadata": {},
     "output_type": "execute_result"
    }
   ],
   "source": [
    "//SInt Literal\n",
    "4.S\n",
    "4.S(32.W)\n",
    "4.S(fooWidth)\n",
    "val fooLiteral = 4.S(fooWidth)"
   ]
  },
  {
   "cell_type": "markdown",
   "id": "50b66e50",
   "metadata": {
    "slideshow": {
     "slide_type": "slide"
    }
   },
   "source": [
    "# Bundle and Vec\n",
    "\n",
    "\n",
    "- Chisel은 관련 신호를 그룹화하기 위해 `Bundle` 및 `Vec`을 제공함\n",
    "    - `Bundle` : 서로 다른 type의 신호를 명명된 필드로 그룹화\n",
    "    - `Vec` : **같은 type**의 신호(요소)의 색인화 가능한 모음을 나타냄\n",
    "- `Bundle` 및 `Vec`는 새로운 사용자 정의 Chisel type을 생성하고 임의로 중첩될 수 있음"
   ]
  },
  {
   "cell_type": "markdown",
   "id": "faf30e6f",
   "metadata": {
    "slideshow": {
     "slide_type": "slide"
    }
   },
   "source": [
    "## Bundle"
   ]
  },
  {
   "cell_type": "markdown",
   "id": "a798d08d",
   "metadata": {
    "cell_style": "split"
   },
   "source": [
    "- 여러 신호를 그룹화\n",
    "- 전체로서 참조되거나\n",
    "- 이름으로 개별필드에 엑세스 할수 있음\n",
    "- Bundle를 extend(상속)하고 생성자(constructor) 블록 내에서 \n",
    "- 필드를 val로 나열하는 클래스를 정의하여 번들(신호 모음)을 정의할 수 있음\n",
    "- 커스텀 타입을 기술"
   ]
  },
  {
   "cell_type": "markdown",
   "id": "68fd41ac",
   "metadata": {
    "cell_style": "center",
    "slideshow": {
     "slide_type": "slide"
    }
   },
   "source": [
    "## User Defined Type with Bundle"
   ]
  },
  {
   "cell_type": "code",
   "execution_count": 138,
   "id": "3202a6af",
   "metadata": {
    "cell_style": "split"
   },
   "outputs": [
    {
     "data": {
      "text/plain": [
       "defined \u001b[32mclass\u001b[39m \u001b[36mMyBundle\u001b[39m\n",
       "defined \u001b[32mobject\u001b[39m \u001b[36mMyBundle\u001b[39m"
      ]
     },
     "execution_count": 138,
     "metadata": {},
     "output_type": "execute_result"
    }
   ],
   "source": [
    "//custom type\n",
    "class MyBundle(width: Int) extends Bundle{\n",
    "  val a = Bool()\n",
    "  val b = UInt(width.W)\n",
    "  val c = UInt(width.W)\n",
    "}\n",
    "\n",
    "object MyBundle{\n",
    "  def apply(width: Int): MyBundle = {\n",
    "    new MyBundle(width)\n",
    "  }\n",
    "}"
   ]
  },
  {
   "cell_type": "code",
   "execution_count": 139,
   "id": "3931b8b4",
   "metadata": {
    "cell_style": "split"
   },
   "outputs": [
    {
     "data": {
      "text/plain": [
       "\u001b[32mimport \u001b[39m\u001b[36mMyBundle._\n",
       "//custom type with Direction\n",
       "\u001b[39m\n",
       "defined \u001b[32mclass\u001b[39m \u001b[36mMyBundleIO\u001b[39m\n",
       "defined \u001b[32mobject\u001b[39m \u001b[36mMyBundleIO\u001b[39m"
      ]
     },
     "execution_count": 139,
     "metadata": {},
     "output_type": "execute_result"
    }
   ],
   "source": [
    "import MyBundle._\n",
    "//custom type with Direction\n",
    "class MyBundleIO(width: Int) extends Bundle{\n",
    "  val data = Input(MyBundle(width))\n",
    "  val valid = Input(Bool())\n",
    "  val ready = Output(Bool())\n",
    "}\n",
    "\n",
    "object MyBundleIO{\n",
    "  def apply(width: Int): MyBundleIO = {\n",
    "    new MyBundleIO(width)\n",
    "  }\n",
    "}"
   ]
  },
  {
   "cell_type": "code",
   "execution_count": 117,
   "id": "daacf6e9",
   "metadata": {
    "cell_style": "center"
   },
   "outputs": [
    {
     "data": {
      "text/plain": [
       "defined \u001b[32mclass\u001b[39m \u001b[36mCrossBarSwitch\u001b[39m"
      ]
     },
     "execution_count": 117,
     "metadata": {},
     "output_type": "execute_result"
    }
   ],
   "source": [
    "class CrossBarSwitch(width: Int) extends Module{\n",
    "  val ioA = IO(MyBundleIO(width))\n",
    "  val ioB = IO(Flipped(MyBundleIO(width)))\n",
    "  ioB <> ioA\n",
    "}"
   ]
  },
  {
   "cell_type": "code",
   "execution_count": 117,
   "id": "2b49bae1",
   "metadata": {},
   "outputs": [],
   "source": [
    "//println(getVerilog(new CrossBarSwitch(4)))\n",
    "//visualize(() => new CrossBarSwitch(4))"
   ]
  },
  {
   "cell_type": "markdown",
   "id": "9c60d085",
   "metadata": {
    "slideshow": {
     "slide_type": "slide"
    }
   },
   "source": [
    "## Bundle Literal"
   ]
  },
  {
   "cell_type": "code",
   "execution_count": 8,
   "id": "b34d3be7",
   "metadata": {},
   "outputs": [
    {
     "name": "stderr",
     "output_type": "stream",
     "text": [
      "cmd8.sc:3: not found: value MyBundle\n",
      "import MyBundle._\n",
      "       ^cmd8.sc:6: not found: value MyBundleIO\n",
      "  val ioA = IO(MyBundleIO(width))\n",
      "               ^cmd8.sc:7: not found: value MyBundleIO\n",
      "  val ioB = IO(Flipped(MyBundleIO(width)))\n",
      "                       ^cmd8.sc:9: not found: value MyBundle\n",
      "  val ioB_0 = (MyBundle(8)).Lit(_.a -> false.B, _.b -> 0.U, _.c -> 0.U)\n",
      "               ^Compilation Failed"
     ]
    },
    {
     "ename": "",
     "evalue": "",
     "output_type": "error",
     "traceback": [
      "Compilation Failed"
     ]
    }
   ],
   "source": [
    "import chisel3._\n",
    "import chisel3.experimental.BundleLiterals._\n",
    "import MyBundle._\n",
    "\n",
    "class CrossBarSwitch(width: Int) extends Module{\n",
    "  val ioA = IO(MyBundleIO(width))\n",
    "  val ioB = IO(Flipped(MyBundleIO(width)))\n",
    "  ioB <> ioA\n",
    "  val ioB_0 = (MyBundle(8)).Lit(_.a -> false.B, _.b -> 0.U, _.c -> 0.U)\n",
    "}"
   ]
  },
  {
   "cell_type": "markdown",
   "id": "23d7301a",
   "metadata": {
    "slideshow": {
     "slide_type": "slide"
    }
   },
   "source": [
    "## Vec"
   ]
  },
  {
   "cell_type": "markdown",
   "id": "9e1e83c1",
   "metadata": {
    "cell_style": "split"
   },
   "source": [
    "- 동일한 type의 Chisel type 모음을 나타냄\n",
    "- 각 요소는 인덱스로 액세스할 수 있음\n",
    "- 다른 프로그래밍 언어의 배열(Array)과 유사\n",
    "    - Scala에는 이미 `Array`가 있음\n",
    "\n",
    "#### `Vec`의 용도\n",
    "1. 멀티플렉서인 하드웨어의 동적 주소 지정 \n",
    "2. 판독을 다중화하고 기록을 위한 enable 신호를 생성하는 것을 포 함하는 레지스터 파일 \n",
    "3. Module의 포트 수인 경우 매개변수화"
   ]
  },
  {
   "cell_type": "code",
   "execution_count": 8,
   "id": "d749705d",
   "metadata": {
    "cell_style": "split"
   },
   "outputs": [
    {
     "name": "stderr",
     "output_type": "stream",
     "text": [
      "cmd8.sc:3: not found: value MyBundleIO\n",
      "    val in = Vec(3, MyBundleIO(8))\n",
      "                    ^cmd8.sc:4: not found: value MyBundleIO\n",
      "    val out = Flipped(Vec(3, MyBundleIO(8)))\n",
      "                             ^Compilation Failed"
     ]
    },
    {
     "ename": "",
     "evalue": "",
     "output_type": "error",
     "traceback": [
      "Compilation Failed"
     ]
    }
   ],
   "source": [
    "//CrossBar Example\n",
    "class HelloWorld extends Module{\n",
    "  val io = IO(new Bundle{\n",
    "    val in = Vec(3, MyBundleIO(8))\n",
    "    val out = Flipped(Vec(3, MyBundleIO(8)))\n",
    "  })\n",
    "}"
   ]
  },
  {
   "cell_type": "markdown",
   "id": "34c7718d",
   "metadata": {
    "slideshow": {
     "slide_type": "slide"
    }
   },
   "source": [
    "### `Vec`의 활용 1 : 멀티플렉서"
   ]
  },
  {
   "cell_type": "markdown",
   "id": "1375f07d",
   "metadata": {
    "cell_style": "split"
   },
   "source": [
    "- Vec은 Mux를 기술하기 위한 용도로 사용 할 수 있음"
   ]
  },
  {
   "cell_type": "code",
   "execution_count": 3,
   "id": "ee90371d",
   "metadata": {
    "cell_style": "split"
   },
   "outputs": [
    {
     "data": {
      "text/plain": [
       "defined \u001b[32mclass\u001b[39m \u001b[36mHelloWorld\u001b[39m"
      ]
     },
     "execution_count": 3,
     "metadata": {},
     "output_type": "execute_result"
    }
   ],
   "source": [
    "class HelloWorld extends Module{\n",
    "  val io = IO(new Bundle{\n",
    "    val in = Input(Vec(4, UInt(8.W)))\n",
    "    val sel = Input(UInt(2.W))\n",
    "    val out = Output(UInt(8.W))\n",
    "  })\n",
    "  io.out := io.in(io.sel)\n",
    "}"
   ]
  },
  {
   "cell_type": "code",
   "execution_count": 4,
   "id": "64710350",
   "metadata": {
    "cell_style": "split"
   },
   "outputs": [
    {
     "name": "stdout",
     "output_type": "stream",
     "text": [
      "module HelloWorld(\n",
      "  input        clock,\n",
      "  input        reset,\n",
      "  input  [7:0] io_in_0,\n",
      "  input  [7:0] io_in_1,\n",
      "  input  [7:0] io_in_2,\n",
      "  input  [7:0] io_in_3,\n",
      "  input  [1:0] io_sel,\n",
      "  output [7:0] io_out\n",
      ");\n",
      "  wire [7:0] _GEN_1 = 2'h1 == io_sel ? io_in_1 : io_in_0;\n",
      "  wire [7:0] _GEN_2 = 2'h2 == io_sel ? io_in_2 : _GEN_1;\n",
      "  assign io_out = 2'h3 == io_sel ? io_in_3 : _GEN_2;\n",
      "endmodule\n"
     ]
    }
   ],
   "source": [
    "println(getVerilog(new HelloWorld))"
   ]
  },
  {
   "cell_type": "code",
   "execution_count": 5,
   "id": "7e27fc40",
   "metadata": {
    "cell_style": "split"
   },
   "outputs": [
    {
     "data": {
      "text/html": [
       "<div width=\"100%\" height=\"100%\" overflow=\"scroll\"><?xml version=\"1.0\" encoding=\"UTF-8\" standalone=\"no\"?>\n",
       "<?xml-stylesheet href=\"styles.css\" type=\"text/css\"?>\n",
       "<!DOCTYPE svg PUBLIC \"-//W3C//DTD SVG 1.1//EN\"\n",
       " \"http://www.w3.org/Graphics/SVG/1.1/DTD/svg11.dtd\">\n",
       "<!-- Generated by graphviz version 2.40.1 (0)\n",
       " -->\n",
       "<!-- Title: HelloWorld Pages: 1 -->\n",
       "<svg width=\"711pt\" height=\"327pt\"\n",
       " viewBox=\"0.00 0.00 711.00 327.00\" xmlns=\"http://www.w3.org/2000/svg\" xmlns:xlink=\"http://www.w3.org/1999/xlink\">\n",
       "<g id=\"graph0\" class=\"graph\" transform=\"scale(1 1) rotate(0) translate(4 323)\">\n",
       "<title>HelloWorld</title>\n",
       "<polygon fill=\"#ffffff\" stroke=\"transparent\" points=\"-4,4 -4,-323 707,-323 707,4 -4,4\"/>\n",
       "<g id=\"clust1\" class=\"cluster\">\n",
       "<title>cluster_HelloWorld</title>\n",
       "<polygon fill=\"#fff8dc\" stroke=\"#000000\" points=\"8,-8 8,-311 695,-311 695,-8 8,-8\"/>\n",
       "<text text-anchor=\"middle\" x=\"351.5\" y=\"-295.8\" font-family=\"Times,serif\" font-size=\"14.00\" fill=\"#000000\">HelloWorld</text>\n",
       "</g>\n",
       "<!-- cluster_HelloWorld_clock -->\n",
       "<g id=\"node1\" class=\"node\">\n",
       "<title>cluster_HelloWorld_clock</title>\n",
       "<polygon fill=\"#cccccc\" stroke=\"#000000\" points=\"72,-280 17,-280 17,-244 72,-244 72,-280\"/>\n",
       "<text text-anchor=\"middle\" x=\"44.5\" y=\"-258.3\" font-family=\"Times,serif\" font-size=\"14.00\" fill=\"#000000\">clock</text>\n",
       "</g>\n",
       "<!-- cluster_HelloWorld_reset -->\n",
       "<g id=\"node2\" class=\"node\">\n",
       "<title>cluster_HelloWorld_reset</title>\n",
       "<polygon fill=\"#cccccc\" stroke=\"#000000\" points=\"71.5,-226 17.5,-226 17.5,-190 71.5,-190 71.5,-226\"/>\n",
       "<text text-anchor=\"middle\" x=\"44.5\" y=\"-204.3\" font-family=\"Times,serif\" font-size=\"14.00\" fill=\"#000000\">reset</text>\n",
       "</g>\n",
       "<!-- cluster_HelloWorld_io_in_0 -->\n",
       "<g id=\"node3\" class=\"node\">\n",
       "<title>cluster_HelloWorld_io_in_0</title>\n",
       "<polygon fill=\"#cccccc\" stroke=\"#000000\" points=\"192,-52 125,-52 125,-16 192,-16 192,-52\"/>\n",
       "<text text-anchor=\"middle\" x=\"158.5\" y=\"-30.3\" font-family=\"Times,serif\" font-size=\"14.00\" fill=\"#000000\">io_in_0</text>\n",
       "</g>\n",
       "<!-- mux_1722241735 -->\n",
       "<g id=\"node13\" class=\"node\">\n",
       "<title>mux_1722241735</title>\n",
       "<polygon fill=\"#afeeee\" stroke=\"transparent\" points=\"257.5,-20 257.5,-70 329.5,-70 329.5,-20 257.5,-20\"/>\n",
       "<polygon fill=\"none\" stroke=\"#000000\" points=\"257.5,-45 257.5,-70 280.5,-70 280.5,-45 257.5,-45\"/>\n",
       "<text text-anchor=\"start\" x=\"262.5\" y=\"-53.8\" font-family=\"Times,serif\" font-size=\"14.00\" fill=\"#000000\">●</text>\n",
       "<polygon fill=\"none\" stroke=\"#000000\" points=\"280.5,-20 280.5,-70 306.5,-70 306.5,-20 280.5,-20\"/>\n",
       "<text text-anchor=\"start\" x=\"285.5\" y=\"-41.3\" font-family=\"Times,serif\" font-size=\"14.00\" fill=\"#000000\">a?</text>\n",
       "<polygon fill=\"none\" stroke=\"#000000\" points=\"306.5,-20 306.5,-70 329.5,-70 329.5,-20 306.5,-20\"/>\n",
       "<text text-anchor=\"start\" x=\"311.5\" y=\"-41.3\" font-family=\"Times,serif\" font-size=\"14.00\" fill=\"#000000\">●</text>\n",
       "<polygon fill=\"none\" stroke=\"#000000\" points=\"257.5,-20 257.5,-45 280.5,-45 280.5,-20 257.5,-20\"/>\n",
       "<text text-anchor=\"start\" x=\"262.5\" y=\"-28.8\" font-family=\"Times,serif\" font-size=\"14.00\" fill=\"#000000\">●</text>\n",
       "</g>\n",
       "<!-- cluster_HelloWorld_io_in_0&#45;&gt;mux_1722241735 -->\n",
       "<g id=\"edge6\" class=\"edge\">\n",
       "<title>cluster_HelloWorld_io_in_0&#45;&gt;mux_1722241735:in2</title>\n",
       "<path fill=\"none\" stroke=\"#000000\" d=\"M192.4029,-32.9766C208.6062,-32.5595 228.5498,-32.1478 247.443,-32.032\"/>\n",
       "<polygon fill=\"#000000\" stroke=\"#000000\" points=\"247.5112,-35.5319 257.5,-32 247.4889,-28.532 247.5112,-35.5319\"/>\n",
       "</g>\n",
       "<!-- cluster_HelloWorld_io_in_1 -->\n",
       "<g id=\"node4\" class=\"node\">\n",
       "<title>cluster_HelloWorld_io_in_1</title>\n",
       "<polygon fill=\"#cccccc\" stroke=\"#000000\" points=\"192,-182 125,-182 125,-146 192,-146 192,-182\"/>\n",
       "<text text-anchor=\"middle\" x=\"158.5\" y=\"-160.3\" font-family=\"Times,serif\" font-size=\"14.00\" fill=\"#000000\">io_in_1</text>\n",
       "</g>\n",
       "<!-- cluster_HelloWorld_io_in_1&#45;&gt;mux_1722241735 -->\n",
       "<g id=\"edge5\" class=\"edge\">\n",
       "<title>cluster_HelloWorld_io_in_1&#45;&gt;mux_1722241735:in1</title>\n",
       "<path fill=\"none\" stroke=\"#000000\" d=\"M192.2078,-148.5113C197.8042,-145.1502 203.3058,-141.2954 208,-137 229.2799,-117.5278 222.6084,-102.3494 244,-83 249.2851,-78.2194 256.6479,-78.7414 261.9196,-77.6508\"/>\n",
       "<polygon fill=\"#000000\" stroke=\"#000000\" points=\"264.6327,-79.8638 268.5,-70 259.3256,-75.2993 264.6327,-79.8638\"/>\n",
       "</g>\n",
       "<!-- cluster_HelloWorld_io_in_2 -->\n",
       "<g id=\"node5\" class=\"node\">\n",
       "<title>cluster_HelloWorld_io_in_2</title>\n",
       "<polygon fill=\"#cccccc\" stroke=\"#000000\" points=\"327,-204 260,-204 260,-168 327,-168 327,-204\"/>\n",
       "<text text-anchor=\"middle\" x=\"293.5\" y=\"-182.3\" font-family=\"Times,serif\" font-size=\"14.00\" fill=\"#000000\">io_in_2</text>\n",
       "</g>\n",
       "<!-- mux_910419311 -->\n",
       "<g id=\"node11\" class=\"node\">\n",
       "<title>mux_910419311</title>\n",
       "<polygon fill=\"#afeeee\" stroke=\"transparent\" points=\"387,-110 387,-160 459,-160 459,-110 387,-110\"/>\n",
       "<polygon fill=\"none\" stroke=\"#000000\" points=\"387,-135 387,-160 410,-160 410,-135 387,-135\"/>\n",
       "<text text-anchor=\"start\" x=\"392\" y=\"-143.8\" font-family=\"Times,serif\" font-size=\"14.00\" fill=\"#000000\">●</text>\n",
       "<polygon fill=\"none\" stroke=\"#000000\" points=\"410,-110 410,-160 436,-160 436,-110 410,-110\"/>\n",
       "<text text-anchor=\"start\" x=\"415\" y=\"-131.3\" font-family=\"Times,serif\" font-size=\"14.00\" fill=\"#000000\">a?</text>\n",
       "<polygon fill=\"none\" stroke=\"#000000\" points=\"436,-110 436,-160 459,-160 459,-110 436,-110\"/>\n",
       "<text text-anchor=\"start\" x=\"441\" y=\"-131.3\" font-family=\"Times,serif\" font-size=\"14.00\" fill=\"#000000\">●</text>\n",
       "<polygon fill=\"none\" stroke=\"#000000\" points=\"387,-110 387,-135 410,-135 410,-110 387,-110\"/>\n",
       "<text text-anchor=\"start\" x=\"392\" y=\"-118.8\" font-family=\"Times,serif\" font-size=\"14.00\" fill=\"#000000\">●</text>\n",
       "</g>\n",
       "<!-- cluster_HelloWorld_io_in_2&#45;&gt;mux_910419311 -->\n",
       "<g id=\"edge10\" class=\"edge\">\n",
       "<title>cluster_HelloWorld_io_in_2&#45;&gt;mux_910419311:in1</title>\n",
       "<path fill=\"none\" stroke=\"#000000\" d=\"M327.0765,-169.222C343.7888,-161.3487 363.2634,-152.9593 376.8238,-149.562\"/>\n",
       "<polygon fill=\"#000000\" stroke=\"#000000\" points=\"377.6468,-152.9767 387,-148 376.5847,-146.0578 377.6468,-152.9767\"/>\n",
       "</g>\n",
       "<!-- cluster_HelloWorld_io_in_3 -->\n",
       "<g id=\"node6\" class=\"node\">\n",
       "<title>cluster_HelloWorld_io_in_3</title>\n",
       "<polygon fill=\"#cccccc\" stroke=\"#000000\" points=\"456.5,-266 389.5,-266 389.5,-230 456.5,-230 456.5,-266\"/>\n",
       "<text text-anchor=\"middle\" x=\"423\" y=\"-244.3\" font-family=\"Times,serif\" font-size=\"14.00\" fill=\"#000000\">io_in_3</text>\n",
       "</g>\n",
       "<!-- mux_1752909303 -->\n",
       "<g id=\"node9\" class=\"node\">\n",
       "<title>mux_1752909303</title>\n",
       "<polygon fill=\"#afeeee\" stroke=\"transparent\" points=\"511,-186 511,-236 583,-236 583,-186 511,-186\"/>\n",
       "<polygon fill=\"none\" stroke=\"#000000\" points=\"511,-211 511,-236 534,-236 534,-211 511,-211\"/>\n",
       "<text text-anchor=\"start\" x=\"516\" y=\"-219.8\" font-family=\"Times,serif\" font-size=\"14.00\" fill=\"#000000\">●</text>\n",
       "<polygon fill=\"none\" stroke=\"#000000\" points=\"534,-186 534,-236 560,-236 560,-186 534,-186\"/>\n",
       "<text text-anchor=\"start\" x=\"539\" y=\"-207.3\" font-family=\"Times,serif\" font-size=\"14.00\" fill=\"#000000\">a?</text>\n",
       "<polygon fill=\"none\" stroke=\"#000000\" points=\"560,-186 560,-236 583,-236 583,-186 560,-186\"/>\n",
       "<text text-anchor=\"start\" x=\"565\" y=\"-207.3\" font-family=\"Times,serif\" font-size=\"14.00\" fill=\"#000000\">●</text>\n",
       "<polygon fill=\"none\" stroke=\"#000000\" points=\"511,-186 511,-211 534,-211 534,-186 511,-186\"/>\n",
       "<text text-anchor=\"start\" x=\"516\" y=\"-194.8\" font-family=\"Times,serif\" font-size=\"14.00\" fill=\"#000000\">●</text>\n",
       "</g>\n",
       "<!-- cluster_HelloWorld_io_in_3&#45;&gt;mux_1752909303 -->\n",
       "<g id=\"edge3\" class=\"edge\">\n",
       "<title>cluster_HelloWorld_io_in_3&#45;&gt;mux_1752909303:in1</title>\n",
       "<path fill=\"none\" stroke=\"#000000\" d=\"M456.688,-234.3174C469.9377,-229.8962 485.6358,-225.7858 500.9894,-224.4514\"/>\n",
       "<polygon fill=\"#000000\" stroke=\"#000000\" points=\"501.1678,-227.947 511,-224 500.8525,-220.9541 501.1678,-227.947\"/>\n",
       "</g>\n",
       "<!-- cluster_HelloWorld_io_sel -->\n",
       "<g id=\"node7\" class=\"node\">\n",
       "<title>cluster_HelloWorld_io_sel</title>\n",
       "<polygon fill=\"#cccccc\" stroke=\"#000000\" points=\"73,-172 16,-172 16,-136 73,-136 73,-172\"/>\n",
       "<text text-anchor=\"middle\" x=\"44.5\" y=\"-150.3\" font-family=\"Times,serif\" font-size=\"14.00\" fill=\"#000000\">io_sel</text>\n",
       "</g>\n",
       "<!-- op_eq_1 -->\n",
       "<g id=\"node10\" class=\"node\">\n",
       "<title>op_eq_1</title>\n",
       "<polygon fill=\"#d8bfd8\" stroke=\"transparent\" points=\"252,-226 252,-276 335,-276 335,-226 252,-226\"/>\n",
       "<polygon fill=\"none\" stroke=\"#000000\" points=\"252.5,-251 252.5,-276 275.5,-276 275.5,-251 252.5,-251\"/>\n",
       "<text text-anchor=\"start\" x=\"259\" y=\"-259.8\" font-family=\"Times,serif\" font-size=\"14.00\" fill=\"#000000\">3</text>\n",
       "<polygon fill=\"none\" stroke=\"#000000\" points=\"275.5,-226 275.5,-276 312.5,-276 312.5,-226 275.5,-226\"/>\n",
       "<text text-anchor=\"start\" x=\"280.5\" y=\"-247.3\" font-family=\"Times,serif\" font-size=\"14.00\" fill=\"#000000\"> eq </text>\n",
       "<polygon fill=\"none\" stroke=\"#000000\" points=\"312.5,-226 312.5,-276 335.5,-276 335.5,-226 312.5,-226\"/>\n",
       "<text text-anchor=\"start\" x=\"317.5\" y=\"-247.3\" font-family=\"Times,serif\" font-size=\"14.00\" fill=\"#000000\">●</text>\n",
       "<polygon fill=\"none\" stroke=\"#000000\" points=\"252.5,-226 252.5,-251 275.5,-251 275.5,-226 252.5,-226\"/>\n",
       "<text text-anchor=\"start\" x=\"257.5\" y=\"-234.8\" font-family=\"Times,serif\" font-size=\"14.00\" fill=\"#000000\">●</text>\n",
       "</g>\n",
       "<!-- cluster_HelloWorld_io_sel&#45;&gt;op_eq_1 -->\n",
       "<g id=\"edge12\" class=\"edge\">\n",
       "<title>cluster_HelloWorld_io_sel&#45;&gt;op_eq_1:in2</title>\n",
       "<path fill=\"none\" stroke=\"#000000\" d=\"M64.3596,-172.0226C76.4793,-182.1571 92.7301,-194.285 109,-202 165.2798,-228.6871 184.6981,-237.1179 242.4801,-237.9329\"/>\n",
       "<polygon fill=\"#000000\" stroke=\"#000000\" points=\"242.4767,-241.4328 252.5,-238 242.5237,-234.433 242.4767,-241.4328\"/>\n",
       "</g>\n",
       "<!-- op_eq_2 -->\n",
       "<g id=\"node12\" class=\"node\">\n",
       "<title>op_eq_2</title>\n",
       "<polygon fill=\"#d8bfd8\" stroke=\"transparent\" points=\"252,-96 252,-146 335,-146 335,-96 252,-96\"/>\n",
       "<polygon fill=\"none\" stroke=\"#000000\" points=\"252.5,-121 252.5,-146 275.5,-146 275.5,-121 252.5,-121\"/>\n",
       "<text text-anchor=\"start\" x=\"259\" y=\"-129.8\" font-family=\"Times,serif\" font-size=\"14.00\" fill=\"#000000\">2</text>\n",
       "<polygon fill=\"none\" stroke=\"#000000\" points=\"275.5,-96 275.5,-146 312.5,-146 312.5,-96 275.5,-96\"/>\n",
       "<text text-anchor=\"start\" x=\"280.5\" y=\"-117.3\" font-family=\"Times,serif\" font-size=\"14.00\" fill=\"#000000\"> eq </text>\n",
       "<polygon fill=\"none\" stroke=\"#000000\" points=\"312.5,-96 312.5,-146 335.5,-146 335.5,-96 312.5,-96\"/>\n",
       "<text text-anchor=\"start\" x=\"317.5\" y=\"-117.3\" font-family=\"Times,serif\" font-size=\"14.00\" fill=\"#000000\">●</text>\n",
       "<polygon fill=\"none\" stroke=\"#000000\" points=\"252.5,-96 252.5,-121 275.5,-121 275.5,-96 252.5,-96\"/>\n",
       "<text text-anchor=\"start\" x=\"257.5\" y=\"-104.8\" font-family=\"Times,serif\" font-size=\"14.00\" fill=\"#000000\">●</text>\n",
       "</g>\n",
       "<!-- cluster_HelloWorld_io_sel&#45;&gt;op_eq_2 -->\n",
       "<g id=\"edge4\" class=\"edge\">\n",
       "<title>cluster_HelloWorld_io_sel&#45;&gt;op_eq_2:in2</title>\n",
       "<path fill=\"none\" stroke=\"#000000\" d=\"M68.8937,-172.0255C80.4334,-179.4591 94.7793,-187.2108 109,-191 151.5166,-202.3289 170.2456,-213.5966 208,-191 240.548,-171.5196 216.274,-119.1804 242.5899,-109.5381\"/>\n",
       "<polygon fill=\"#000000\" stroke=\"#000000\" points=\"243.1551,-112.9923 252.5,-108 242.0815,-106.0751 243.1551,-112.9923\"/>\n",
       "</g>\n",
       "<!-- op_eq_3 -->\n",
       "<g id=\"node14\" class=\"node\">\n",
       "<title>op_eq_3</title>\n",
       "<polygon fill=\"#d8bfd8\" stroke=\"transparent\" points=\"117,-74 117,-124 200,-124 200,-74 117,-74\"/>\n",
       "<polygon fill=\"none\" stroke=\"#000000\" points=\"117.5,-99 117.5,-124 140.5,-124 140.5,-99 117.5,-99\"/>\n",
       "<text text-anchor=\"start\" x=\"124\" y=\"-107.8\" font-family=\"Times,serif\" font-size=\"14.00\" fill=\"#000000\">1</text>\n",
       "<polygon fill=\"none\" stroke=\"#000000\" points=\"140.5,-74 140.5,-124 177.5,-124 177.5,-74 140.5,-74\"/>\n",
       "<text text-anchor=\"start\" x=\"145.5\" y=\"-95.3\" font-family=\"Times,serif\" font-size=\"14.00\" fill=\"#000000\"> eq </text>\n",
       "<polygon fill=\"none\" stroke=\"#000000\" points=\"177.5,-74 177.5,-124 200.5,-124 200.5,-74 177.5,-74\"/>\n",
       "<text text-anchor=\"start\" x=\"182.5\" y=\"-95.3\" font-family=\"Times,serif\" font-size=\"14.00\" fill=\"#000000\">●</text>\n",
       "<polygon fill=\"none\" stroke=\"#000000\" points=\"117.5,-74 117.5,-99 140.5,-99 140.5,-74 117.5,-74\"/>\n",
       "<text text-anchor=\"start\" x=\"122.5\" y=\"-82.8\" font-family=\"Times,serif\" font-size=\"14.00\" fill=\"#000000\">●</text>\n",
       "</g>\n",
       "<!-- cluster_HelloWorld_io_sel&#45;&gt;op_eq_3 -->\n",
       "<g id=\"edge13\" class=\"edge\">\n",
       "<title>cluster_HelloWorld_io_sel&#45;&gt;op_eq_3:in2</title>\n",
       "<path fill=\"none\" stroke=\"#000000\" d=\"M53.9207,-135.7772C64.3998,-117.9953 83.115,-92.8153 107.4969,-87.1579\"/>\n",
       "<polygon fill=\"#000000\" stroke=\"#000000\" points=\"107.9688,-90.6268 117.5,-86 107.1638,-83.6732 107.9688,-90.6268\"/>\n",
       "</g>\n",
       "<!-- cluster_HelloWorld_io_out -->\n",
       "<g id=\"node8\" class=\"node\">\n",
       "<title>cluster_HelloWorld_io_out</title>\n",
       "<polygon fill=\"#e0ffff\" stroke=\"#000000\" points=\"687,-229 627,-229 627,-193 687,-193 687,-229\"/>\n",
       "<text text-anchor=\"middle\" x=\"657\" y=\"-207.3\" font-family=\"Times,serif\" font-size=\"14.00\" fill=\"#000000\">io_out</text>\n",
       "</g>\n",
       "<!-- mux_1752909303&#45;&gt;cluster_HelloWorld_io_out -->\n",
       "<g id=\"edge7\" class=\"edge\">\n",
       "<title>mux_1752909303:out&#45;&gt;cluster_HelloWorld_io_out</title>\n",
       "<path fill=\"none\" stroke=\"#000000\" d=\"M583,-211C593.9041,-211 605.712,-211 616.6257,-211\"/>\n",
       "<polygon fill=\"#000000\" stroke=\"#000000\" points=\"616.7569,-214.5001 626.7568,-211 616.7568,-207.5001 616.7569,-214.5001\"/>\n",
       "</g>\n",
       "<!-- op_eq_1&#45;&gt;mux_1752909303 -->\n",
       "<g id=\"edge1\" class=\"edge\">\n",
       "<title>op_eq_1:out&#45;&gt;mux_1752909303:select</title>\n",
       "<path fill=\"none\" stroke=\"#000000\" d=\"M335.5,-251C358.9852,-251 357.746,-230.9911 379,-221 430.8241,-196.6386 446.2765,-193.8519 503,-186 517.0741,-184.0518 533.9241,-174.6113 542.0866,-177.0947\"/>\n",
       "<polygon fill=\"#000000\" stroke=\"#000000\" points=\"539.1046,-178.9351 547,-186 545.2336,-175.5534 539.1046,-178.9351\"/>\n",
       "</g>\n",
       "<!-- mux_910419311&#45;&gt;mux_1752909303 -->\n",
       "<g id=\"edge2\" class=\"edge\">\n",
       "<title>mux_910419311:out&#45;&gt;mux_1752909303:in2</title>\n",
       "<path fill=\"none\" stroke=\"#000000\" d=\"M448,-160C448,-189.2504 472.2463,-196.5771 500.7666,-197.7972\"/>\n",
       "<polygon fill=\"#000000\" stroke=\"#000000\" points=\"500.9326,-201.3011 511,-198 501.0714,-194.3024 500.9326,-201.3011\"/>\n",
       "</g>\n",
       "<!-- op_eq_2&#45;&gt;mux_910419311 -->\n",
       "<g id=\"edge11\" class=\"edge\">\n",
       "<title>op_eq_2:out&#45;&gt;mux_910419311:select</title>\n",
       "<path fill=\"none\" stroke=\"#000000\" d=\"M335.5,-121C370.1018,-121 411.8036,-81.8801 421.1023,-99.6786\"/>\n",
       "<polygon fill=\"#000000\" stroke=\"#000000\" points=\"417.7493,-100.7978 423,-110 424.6339,-99.5319 417.7493,-100.7978\"/>\n",
       "</g>\n",
       "<!-- mux_1722241735&#45;&gt;mux_910419311 -->\n",
       "<g id=\"edge8\" class=\"edge\">\n",
       "<title>mux_1722241735:out&#45;&gt;mux_910419311:in2</title>\n",
       "<path fill=\"none\" stroke=\"#000000\" d=\"M318.5,-70C318.5,-82.3268 332.8719,-75.9734 343,-83 361.1158,-95.5682 361.3819,-114.6922 376.7195,-120.3616\"/>\n",
       "<polygon fill=\"#000000\" stroke=\"#000000\" points=\"376.5738,-123.8825 387,-122 377.6755,-116.9697 376.5738,-123.8825\"/>\n",
       "</g>\n",
       "<!-- op_eq_3&#45;&gt;mux_1722241735 -->\n",
       "<g id=\"edge9\" class=\"edge\">\n",
       "<title>op_eq_3:out&#45;&gt;mux_1722241735:select</title>\n",
       "<path fill=\"none\" stroke=\"#000000\" d=\"M200.5,-99C221.0997,-99 224.3489,-89.1789 244,-83 261.2911,-77.5631 282.4575,-86.9801 290.3429,-79.52\"/>\n",
       "<polygon fill=\"#000000\" stroke=\"#000000\" points=\"293.6743,-80.5934 293.5,-70 287.0302,-78.39 293.6743,-80.5934\"/>\n",
       "</g>\n",
       "</g>\n",
       "</svg>\n",
       "</div>"
      ]
     },
     "metadata": {},
     "output_type": "display_data"
    }
   ],
   "source": [
    "visualize(() => new HelloWorld)"
   ]
  },
  {
   "cell_type": "markdown",
   "id": "374c03ab",
   "metadata": {
    "slideshow": {
     "slide_type": "slide"
    }
   },
   "source": [
    "### `Vec`의 활용 2 : 레지스터 파일"
   ]
  },
  {
   "cell_type": "markdown",
   "id": "b1ab698a",
   "metadata": {
    "slideshow": {
     "slide_type": "slide"
    }
   },
   "source": [
    "### `Vec`의 활용 3 : Module 포트 수 매개변수화"
   ]
  },
  {
   "cell_type": "markdown",
   "id": "2c0af8de",
   "metadata": {
    "slideshow": {
     "slide_type": "slide"
    }
   },
   "source": [
    "## `MixedVec` (Chisel 3.2+)"
   ]
  },
  {
   "cell_type": "markdown",
   "id": "7115f579",
   "metadata": {
    "cell_style": "split"
   },
   "source": []
  },
  {
   "cell_type": "code",
   "execution_count": 146,
   "id": "4fd3aa07",
   "metadata": {
    "cell_style": "split"
   },
   "outputs": [
    {
     "data": {
      "text/plain": [
       "\u001b[32mimport \u001b[39m\u001b[36mchisel3.util.MixedVec\n",
       "\u001b[39m\n",
       "defined \u001b[32mclass\u001b[39m \u001b[36mModuleMixedVec\u001b[39m"
      ]
     },
     "execution_count": 146,
     "metadata": {},
     "output_type": "execute_result"
    }
   ],
   "source": [
    "import chisel3.util.MixedVec\n",
    "class ModuleMixedVec extends Module {\n",
    "  val io = IO(new Bundle {\n",
    "    val x = Input(UInt(3.W))\n",
    "    val y = Input(UInt(10.W))\n",
    "    val vec = Output(MixedVec(UInt(3.W), UInt(10.W)))\n",
    "  })\n",
    "  io.vec(0) := io.x\n",
    "  io.vec(1) := io.y\n",
    "}"
   ]
  },
  {
   "cell_type": "markdown",
   "id": "48896807",
   "metadata": {
    "slideshow": {
     "slide_type": "slide"
    }
   },
   "source": [
    "## 고급주제: Type Class를 활용한 User Defined Type System\n",
    "\n",
    "### Part D - 03 Advanced Type"
   ]
  },
  {
   "cell_type": "markdown",
   "id": "739502ca",
   "metadata": {
    "slideshow": {
     "slide_type": "slide"
    }
   },
   "source": [
    "# 2. Chisel Hardware Construct"
   ]
  },
  {
   "cell_type": "markdown",
   "id": "e1404d9e",
   "metadata": {
    "cell_style": "center",
    "slideshow": {
     "slide_type": "-"
    }
   },
   "source": [
    "- Hardware\n",
    "    - Module\n",
    "    - IO\n",
    "    - Wire\n",
    "    - Reg\n",
    "- Conditional\n",
    "    - When\n",
    "    - Switch\n",
    "- Enum"
   ]
  },
  {
   "cell_type": "markdown",
   "id": "57cab388",
   "metadata": {
    "slideshow": {
     "slide_type": "slide"
    }
   },
   "source": [
    "## Module"
   ]
  },
  {
   "cell_type": "markdown",
   "id": "97a80fe4",
   "metadata": {
    "cell_style": "split"
   },
   "source": [
    "- inherits from `Module`\n",
    "- contains at least one interface wrapped in a Module’s `IO()` method \n",
    "    + (traditionally stored in a port field named io)\n",
    "- wires together subcircuits in its constructor."
   ]
  },
  {
   "cell_type": "code",
   "execution_count": 9,
   "id": "507775ec",
   "metadata": {
    "cell_style": "split"
   },
   "outputs": [
    {
     "data": {
      "text/plain": [
       "defined \u001b[32mclass\u001b[39m \u001b[36mhello\u001b[39m"
      ]
     },
     "execution_count": 9,
     "metadata": {},
     "output_type": "execute_result"
    }
   ],
   "source": [
    "class hello extends Module"
   ]
  },
  {
   "cell_type": "code",
   "execution_count": 124,
   "id": "427132dd",
   "metadata": {
    "cell_style": "split"
   },
   "outputs": [
    {
     "name": "stdout",
     "output_type": "stream",
     "text": [
      "module hello(\n",
      "  input   clock,\n",
      "  input   reset\n",
      ");\n",
      "endmodule\n"
     ]
    }
   ],
   "source": [
    "println(getVerilog(new hello))"
   ]
  },
  {
   "cell_type": "code",
   "execution_count": 125,
   "id": "f117dced",
   "metadata": {
    "cell_style": "split"
   },
   "outputs": [
    {
     "data": {
      "text/html": [
       "<div width=\"100%\" height=\"100%\" overflow=\"scroll\"><?xml version=\"1.0\" encoding=\"UTF-8\" standalone=\"no\"?>\n",
       "<?xml-stylesheet href=\"styles.css\" type=\"text/css\"?>\n",
       "<!DOCTYPE svg PUBLIC \"-//W3C//DTD SVG 1.1//EN\"\n",
       " \"http://www.w3.org/Graphics/SVG/1.1/DTD/svg11.dtd\">\n",
       "<!-- Generated by graphviz version 2.40.1 (0)\n",
       " -->\n",
       "<!-- Title: hello Pages: 1 -->\n",
       "<svg width=\"95pt\" height=\"153pt\"\n",
       " viewBox=\"0.00 0.00 95.00 153.00\" xmlns=\"http://www.w3.org/2000/svg\" xmlns:xlink=\"http://www.w3.org/1999/xlink\">\n",
       "<g id=\"graph0\" class=\"graph\" transform=\"scale(1 1) rotate(0) translate(4 149)\">\n",
       "<title>hello</title>\n",
       "<polygon fill=\"#ffffff\" stroke=\"transparent\" points=\"-4,4 -4,-149 91,-149 91,4 -4,4\"/>\n",
       "<g id=\"clust1\" class=\"cluster\">\n",
       "<title>cluster_hello</title>\n",
       "<polygon fill=\"#fff8dc\" stroke=\"#000000\" points=\"8,-8 8,-137 79,-137 79,-8 8,-8\"/>\n",
       "<text text-anchor=\"middle\" x=\"43.5\" y=\"-121.8\" font-family=\"Times,serif\" font-size=\"14.00\" fill=\"#000000\">hello</text>\n",
       "</g>\n",
       "<!-- cluster_hello_clock -->\n",
       "<g id=\"node1\" class=\"node\">\n",
       "<title>cluster_hello_clock</title>\n",
       "<polygon fill=\"#cccccc\" stroke=\"#000000\" points=\"71,-106 16,-106 16,-70 71,-70 71,-106\"/>\n",
       "<text text-anchor=\"middle\" x=\"43.5\" y=\"-84.3\" font-family=\"Times,serif\" font-size=\"14.00\" fill=\"#000000\">clock</text>\n",
       "</g>\n",
       "<!-- cluster_hello_reset -->\n",
       "<g id=\"node2\" class=\"node\">\n",
       "<title>cluster_hello_reset</title>\n",
       "<polygon fill=\"#cccccc\" stroke=\"#000000\" points=\"70.5,-52 16.5,-52 16.5,-16 70.5,-16 70.5,-52\"/>\n",
       "<text text-anchor=\"middle\" x=\"43.5\" y=\"-30.3\" font-family=\"Times,serif\" font-size=\"14.00\" fill=\"#000000\">reset</text>\n",
       "</g>\n",
       "</g>\n",
       "</svg>\n",
       "</div>"
      ]
     },
     "metadata": {},
     "output_type": "display_data"
    }
   ],
   "source": [
    "visualize(() => new hello)"
   ]
  },
  {
   "cell_type": "markdown",
   "id": "f5756e31",
   "metadata": {
    "slideshow": {
     "slide_type": "slide"
    }
   },
   "source": [
    "# `Wire`, `Reg`, `IO`"
   ]
  },
  {
   "cell_type": "markdown",
   "id": "e32f5f1b",
   "metadata": {
    "cell_style": "split"
   },
   "source": [
    "- `UInt`, `SInt`, `Bits`, `Bool`, `Bundle`, `Vec`은 Chisel type이며 그 자체는 하드웨어를 나타내지 않음\n",
    "- Chisel type을 `Wire`, `Reg`, `IO`로 감싸면 하드웨어가 생성됨\n",
    "    - Wire(`<ChiselType>`)\n",
    "    - Reg(`<ChiselType>`)\n",
    "    - IO(Direction(`<ChiselType>`))\n",
    "        - IO(Input(`<ChiselType>`))\n",
    "        - IO(Output(`<ChiselType>`))\n",
    "        - IO(`<BundleIO>`)"
   ]
  },
  {
   "cell_type": "markdown",
   "id": "7ef38fb3",
   "metadata": {
    "cell_style": "split"
   },
   "source": [
    "- `=` : 할당 연산자를 통해 인스턴스를 생성 \n",
    "    - ex) `val foo = Wire(UInt(3.W))`\n",
    "- `:=` : 업데이트 연산자를 통해 값을 업데이트 \n",
    "    - ex) `foo := 2.U(3.W)`\n",
    "- `<>` : bulk connection 연산자를 통해 Bundle을 연결"
   ]
  },
  {
   "cell_type": "markdown",
   "id": "5f447d90",
   "metadata": {
    "slideshow": {
     "slide_type": "slide"
    }
   },
   "source": [
    "## IO"
   ]
  },
  {
   "cell_type": "markdown",
   "id": "a62c9ba3",
   "metadata": {
    "cell_style": "split"
   },
   "source": [
    "- IO method는 `Module` 내부에서**만** 사용가능\n",
    "- 반드시 Chisel Type 이어야 함\n",
    "- Hardware에 바인딩 되지 않아야 함  \n",
    "\n",
    "```scala\n",
    "class ExampleModule extends Module{\n",
    "  val io = IO(Direction(Chisel_Type))\n",
    "  val io = IO(Bundle_with_Direction)\n",
    "}\n",
    "```\n",
    "> Direction : Input( ), Output( )  \n",
    "> Bundle_with_Direction : ExampleIO( ), BundleIO( )  "
   ]
  },
  {
   "cell_type": "code",
   "execution_count": 126,
   "id": "c3531a7c",
   "metadata": {
    "cell_style": "split"
   },
   "outputs": [
    {
     "data": {
      "text/plain": [
       "defined \u001b[32mclass\u001b[39m \u001b[36mAdderInBundle\u001b[39m\n",
       "defined \u001b[32mclass\u001b[39m \u001b[36mAdderOutBundle\u001b[39m\n",
       "defined \u001b[32mclass\u001b[39m \u001b[36mAdderIO\u001b[39m\n",
       "defined \u001b[32mclass\u001b[39m \u001b[36mHelloWorld\u001b[39m"
      ]
     },
     "execution_count": 126,
     "metadata": {},
     "output_type": "execute_result"
    }
   ],
   "source": [
    "class AdderInBundle(width: Int) extends Bundle{\n",
    "  val a = UInt(width.W)\n",
    "  val b = UInt(width.W)\n",
    "}\n",
    "\n",
    "class AdderOutBundle(width: Int) extends Bundle{\n",
    "  val z = UInt(width.W)\n",
    "}\n",
    "\n",
    "//direction은 Bundle 내부에서 정의 가능\n",
    "class AdderIO(width: Int) extends Bundle{\n",
    "  val in = Input(new AdderInBundle(width))\n",
    "  val out = Output(new AdderOutBundle(width))\n",
    "}\n",
    "\n",
    "class HelloWorld(width: Int) extends Module{\n",
    "  val io = IO(new AdderIO(width))\n",
    "  io.out.z := io.in.a + io.in.b\n",
    "}"
   ]
  },
  {
   "cell_type": "code",
   "execution_count": 127,
   "id": "c7401741",
   "metadata": {
    "cell_style": "split"
   },
   "outputs": [
    {
     "name": "stdout",
     "output_type": "stream",
     "text": [
      "module HelloWorld(\n",
      "  input        clock,\n",
      "  input        reset,\n",
      "  input  [7:0] io_in_a,\n",
      "  input  [7:0] io_in_b,\n",
      "  output [7:0] io_out_z\n",
      ");\n",
      "  assign io_out_z = io_in_a + io_in_b;\n",
      "endmodule\n"
     ]
    }
   ],
   "source": [
    "println(getVerilog(new HelloWorld(8)))"
   ]
  },
  {
   "cell_type": "code",
   "execution_count": 128,
   "id": "68a203a2",
   "metadata": {
    "cell_style": "split"
   },
   "outputs": [
    {
     "data": {
      "text/html": [
       "<div width=\"100%\" height=\"100%\" overflow=\"scroll\"><?xml version=\"1.0\" encoding=\"UTF-8\" standalone=\"no\"?>\n",
       "<?xml-stylesheet href=\"styles.css\" type=\"text/css\"?>\n",
       "<!DOCTYPE svg PUBLIC \"-//W3C//DTD SVG 1.1//EN\"\n",
       " \"http://www.w3.org/Graphics/SVG/1.1/DTD/svg11.dtd\">\n",
       "<!-- Generated by graphviz version 2.40.1 (0)\n",
       " -->\n",
       "<!-- Title: HelloWorld Pages: 1 -->\n",
       "<svg width=\"639pt\" height=\"261pt\"\n",
       " viewBox=\"0.00 0.00 639.00 261.00\" xmlns=\"http://www.w3.org/2000/svg\" xmlns:xlink=\"http://www.w3.org/1999/xlink\">\n",
       "<g id=\"graph0\" class=\"graph\" transform=\"scale(1 1) rotate(0) translate(4 257)\">\n",
       "<title>HelloWorld</title>\n",
       "<polygon fill=\"#ffffff\" stroke=\"transparent\" points=\"-4,4 -4,-257 635,-257 635,4 -4,4\"/>\n",
       "<g id=\"clust1\" class=\"cluster\">\n",
       "<title>cluster_HelloWorld</title>\n",
       "<polygon fill=\"#fff8dc\" stroke=\"#000000\" points=\"8,-8 8,-245 623,-245 623,-8 8,-8\"/>\n",
       "<text text-anchor=\"middle\" x=\"315.5\" y=\"-229.8\" font-family=\"Times,serif\" font-size=\"14.00\" fill=\"#000000\">HelloWorld</text>\n",
       "</g>\n",
       "<!-- cluster_HelloWorld_clock -->\n",
       "<g id=\"node1\" class=\"node\">\n",
       "<title>cluster_HelloWorld_clock</title>\n",
       "<polygon fill=\"#cccccc\" stroke=\"#000000\" points=\"77,-214 22,-214 22,-178 77,-178 77,-214\"/>\n",
       "<text text-anchor=\"middle\" x=\"49.5\" y=\"-192.3\" font-family=\"Times,serif\" font-size=\"14.00\" fill=\"#000000\">clock</text>\n",
       "</g>\n",
       "<!-- cluster_HelloWorld_reset -->\n",
       "<g id=\"node2\" class=\"node\">\n",
       "<title>cluster_HelloWorld_reset</title>\n",
       "<polygon fill=\"#cccccc\" stroke=\"#000000\" points=\"76.5,-160 22.5,-160 22.5,-124 76.5,-124 76.5,-160\"/>\n",
       "<text text-anchor=\"middle\" x=\"49.5\" y=\"-138.3\" font-family=\"Times,serif\" font-size=\"14.00\" fill=\"#000000\">reset</text>\n",
       "</g>\n",
       "<!-- cluster_HelloWorld_io_in_a -->\n",
       "<g id=\"node3\" class=\"node\">\n",
       "<title>cluster_HelloWorld_io_in_a</title>\n",
       "<polygon fill=\"#cccccc\" stroke=\"#000000\" points=\"82.5,-106 16.5,-106 16.5,-70 82.5,-70 82.5,-106\"/>\n",
       "<text text-anchor=\"middle\" x=\"49.5\" y=\"-84.3\" font-family=\"Times,serif\" font-size=\"14.00\" fill=\"#000000\">io_in_a</text>\n",
       "</g>\n",
       "<!-- op_add_36 -->\n",
       "<g id=\"node7\" class=\"node\">\n",
       "<title>op_add_36</title>\n",
       "<polygon fill=\"#d8bfd8\" stroke=\"transparent\" points=\"127,-41 127,-91 219,-91 219,-41 127,-41\"/>\n",
       "<polygon fill=\"none\" stroke=\"#000000\" points=\"127,-66 127,-91 150,-91 150,-66 127,-66\"/>\n",
       "<text text-anchor=\"start\" x=\"132\" y=\"-74.8\" font-family=\"Times,serif\" font-size=\"14.00\" fill=\"#000000\">●</text>\n",
       "<polygon fill=\"none\" stroke=\"#000000\" points=\"150,-41 150,-91 196,-91 196,-41 150,-41\"/>\n",
       "<text text-anchor=\"start\" x=\"155\" y=\"-62.3\" font-family=\"Times,serif\" font-size=\"14.00\" fill=\"#000000\"> add </text>\n",
       "<polygon fill=\"none\" stroke=\"#000000\" points=\"196,-41 196,-91 219,-91 219,-41 196,-41\"/>\n",
       "<text text-anchor=\"start\" x=\"201\" y=\"-62.3\" font-family=\"Times,serif\" font-size=\"14.00\" fill=\"#000000\">●</text>\n",
       "<polygon fill=\"none\" stroke=\"#000000\" points=\"127,-41 127,-66 150,-66 150,-41 127,-41\"/>\n",
       "<text text-anchor=\"start\" x=\"132\" y=\"-49.8\" font-family=\"Times,serif\" font-size=\"14.00\" fill=\"#000000\">●</text>\n",
       "</g>\n",
       "<!-- cluster_HelloWorld_io_in_a&#45;&gt;op_add_36 -->\n",
       "<g id=\"edge2\" class=\"edge\">\n",
       "<title>cluster_HelloWorld_io_in_a&#45;&gt;op_add_36:in1</title>\n",
       "<path fill=\"none\" stroke=\"#000000\" d=\"M82.5899,-82.4539C93.1876,-81.0214 105.2073,-79.7387 116.8781,-79.2309\"/>\n",
       "<polygon fill=\"#000000\" stroke=\"#000000\" points=\"117.0825,-82.7273 127,-79 116.9227,-75.7291 117.0825,-82.7273\"/>\n",
       "</g>\n",
       "<!-- cluster_HelloWorld_io_in_b -->\n",
       "<g id=\"node4\" class=\"node\">\n",
       "<title>cluster_HelloWorld_io_in_b</title>\n",
       "<polygon fill=\"#cccccc\" stroke=\"#000000\" points=\"83,-52 16,-52 16,-16 83,-16 83,-52\"/>\n",
       "<text text-anchor=\"middle\" x=\"49.5\" y=\"-30.3\" font-family=\"Times,serif\" font-size=\"14.00\" fill=\"#000000\">io_in_b</text>\n",
       "</g>\n",
       "<!-- cluster_HelloWorld_io_in_b&#45;&gt;op_add_36 -->\n",
       "<g id=\"edge1\" class=\"edge\">\n",
       "<title>cluster_HelloWorld_io_in_b&#45;&gt;op_add_36:in2</title>\n",
       "<path fill=\"none\" stroke=\"#000000\" d=\"M83.0173,-45.9251C93.4487,-48.8776 105.2704,-51.4952 116.8858,-52.5297\"/>\n",
       "<polygon fill=\"#000000\" stroke=\"#000000\" points=\"116.8482,-56.0317 127,-53 117.1734,-49.0392 116.8482,-56.0317\"/>\n",
       "</g>\n",
       "<!-- cluster_HelloWorld_io_out_z -->\n",
       "<g id=\"node5\" class=\"node\">\n",
       "<title>cluster_HelloWorld_io_out_z</title>\n",
       "<polygon fill=\"#e0ffff\" stroke=\"#000000\" points=\"615,-71 540,-71 540,-35 615,-35 615,-71\"/>\n",
       "<text text-anchor=\"middle\" x=\"577.5\" y=\"-49.3\" font-family=\"Times,serif\" font-size=\"14.00\" fill=\"#000000\">io_out_z</text>\n",
       "</g>\n",
       "<!-- cluster_HelloWorld__io_out_z_T -->\n",
       "<g id=\"node6\" class=\"node\">\n",
       "<title>cluster_HelloWorld__io_out_z_T</title>\n",
       "<polygon fill=\"none\" stroke=\"#000000\" points=\"363,-84 263,-84 263,-48 363,-48 363,-84\"/>\n",
       "<text text-anchor=\"middle\" x=\"313\" y=\"-62.3\" font-family=\"Times,serif\" font-size=\"14.00\" fill=\"#000000\">_io_out_z_T</text>\n",
       "</g>\n",
       "<!-- op_tail_37 -->\n",
       "<g id=\"node8\" class=\"node\">\n",
       "<title>op_tail_37</title>\n",
       "<polygon fill=\"#d8bfd8\" stroke=\"transparent\" points=\"407,-28 407,-78 496,-78 496,-28 407,-28\"/>\n",
       "<polygon fill=\"none\" stroke=\"#000000\" points=\"407.5,-53 407.5,-78 430.5,-78 430.5,-53 407.5,-53\"/>\n",
       "<text text-anchor=\"start\" x=\"412.5\" y=\"-61.8\" font-family=\"Times,serif\" font-size=\"14.00\" fill=\"#000000\">●</text>\n",
       "<polygon fill=\"none\" stroke=\"#000000\" points=\"430.5,-28 430.5,-78 473.5,-78 473.5,-28 430.5,-28\"/>\n",
       "<text text-anchor=\"start\" x=\"435.5\" y=\"-49.3\" font-family=\"Times,serif\" font-size=\"14.00\" fill=\"#000000\"> tail </text>\n",
       "<polygon fill=\"none\" stroke=\"#000000\" points=\"473.5,-28 473.5,-78 496.5,-78 496.5,-28 473.5,-28\"/>\n",
       "<text text-anchor=\"start\" x=\"478.5\" y=\"-49.3\" font-family=\"Times,serif\" font-size=\"14.00\" fill=\"#000000\">●</text>\n",
       "<polygon fill=\"none\" stroke=\"#000000\" points=\"407.5,-28 407.5,-53 430.5,-53 430.5,-28 407.5,-28\"/>\n",
       "<text text-anchor=\"start\" x=\"414\" y=\"-36.8\" font-family=\"Times,serif\" font-size=\"14.00\" fill=\"#000000\">1</text>\n",
       "</g>\n",
       "<!-- cluster_HelloWorld__io_out_z_T&#45;&gt;op_tail_37 -->\n",
       "<g id=\"edge5\" class=\"edge\">\n",
       "<title>cluster_HelloWorld__io_out_z_T&#45;&gt;op_tail_37:in1</title>\n",
       "<path fill=\"none\" stroke=\"#000000\" d=\"M363.0243,-66C374.0187,-66 385.7857,-66 397.1771,-66\"/>\n",
       "<polygon fill=\"#000000\" stroke=\"#000000\" points=\"397.5,-69.5001 407.5,-66 397.5,-62.5001 397.5,-69.5001\"/>\n",
       "</g>\n",
       "<!-- op_add_36&#45;&gt;cluster_HelloWorld__io_out_z_T -->\n",
       "<g id=\"edge3\" class=\"edge\">\n",
       "<title>op_add_36:out&#45;&gt;cluster_HelloWorld__io_out_z_T</title>\n",
       "<path fill=\"none\" stroke=\"#000000\" d=\"M219,-66C229.8703,-66 241.4477,-66 252.6282,-66\"/>\n",
       "<polygon fill=\"#000000\" stroke=\"#000000\" points=\"252.7529,-69.5001 262.7529,-66 252.7529,-62.5001 252.7529,-69.5001\"/>\n",
       "</g>\n",
       "<!-- op_tail_37&#45;&gt;cluster_HelloWorld_io_out_z -->\n",
       "<g id=\"edge4\" class=\"edge\">\n",
       "<title>op_tail_37:out&#45;&gt;cluster_HelloWorld_io_out_z</title>\n",
       "<path fill=\"none\" stroke=\"#000000\" d=\"M496.5,-53C507.2633,-53 518.8311,-53 529.7602,-53\"/>\n",
       "<polygon fill=\"#000000\" stroke=\"#000000\" points=\"529.9959,-56.5001 539.9959,-53 529.9958,-49.5001 529.9959,-56.5001\"/>\n",
       "</g>\n",
       "</g>\n",
       "</svg>\n",
       "</div>"
      ]
     },
     "metadata": {},
     "output_type": "display_data"
    }
   ],
   "source": [
    "visualize(() => new HelloWorld(8))"
   ]
  },
  {
   "cell_type": "markdown",
   "id": "e93db4d9",
   "metadata": {
    "slideshow": {
     "slide_type": "slide"
    }
   },
   "source": [
    "## Wire"
   ]
  },
  {
   "cell_type": "markdown",
   "id": "b7de28d0",
   "metadata": {
    "cell_style": "split"
   },
   "source": [
    "##### Wire\n",
    "- constructor: `Wire(t: T)`\n",
    "\n",
    "##### WireDefault\n",
    "- constructor: `WireDefault(t: T)`\n"
   ]
  },
  {
   "cell_type": "code",
   "execution_count": null,
   "id": "373199c2",
   "metadata": {
    "cell_style": "split"
   },
   "outputs": [],
   "source": []
  },
  {
   "cell_type": "markdown",
   "id": "338e706c",
   "metadata": {
    "slideshow": {
     "slide_type": "slide"
    }
   },
   "source": [
    "## Reg"
   ]
  },
  {
   "cell_type": "markdown",
   "id": "44379824",
   "metadata": {
    "cell_style": "split"
   },
   "source": [
    "#### Reg\n",
    "- `Reg(t: T): T`\n",
    "\n",
    "#### RegInit\n",
    "- `RegInit(init: T): T`\n",
    "\n",
    "#### RegNext\n",
    "- `RegNext(next: T): T`\n",
    "- `RegNext(next: T, init: T): T`\n",
    "\n",
    "#### RegEnable\n",
    "- `RegEnable(next: T, enable: Bool): T`\n",
    "- `RegEnable(next: T, init: T, enable: Bool): T`\n"
   ]
  },
  {
   "cell_type": "code",
   "execution_count": 129,
   "id": "280cbe8b",
   "metadata": {
    "cell_style": "split"
   },
   "outputs": [
    {
     "data": {
      "text/plain": [
       "defined \u001b[32mclass\u001b[39m \u001b[36mHelloWorld\u001b[39m"
      ]
     },
     "execution_count": 129,
     "metadata": {},
     "output_type": "execute_result"
    }
   ],
   "source": [
    "class HelloWorld extends Module {\n",
    "  val io = IO(new Bundle{\n",
    "    val en = Input(Bool())\n",
    "    val in = Input(UInt(8.W))\n",
    "    val out = Output(UInt(8.W))\n",
    "  })\n",
    "  io.out := RegNext(Mux(io.en, io.in, io.out))\n",
    "}"
   ]
  },
  {
   "cell_type": "code",
   "execution_count": 130,
   "id": "ad4e2bdf",
   "metadata": {
    "cell_style": "split"
   },
   "outputs": [
    {
     "name": "stdout",
     "output_type": "stream",
     "text": [
      "module HelloWorld(\n",
      "  input        clock,\n",
      "  input        reset,\n",
      "  input        io_en,\n",
      "  input  [7:0] io_in,\n",
      "  output [7:0] io_out\n",
      ");\n",
      "  reg [7:0] io_out_REG;\n",
      "  assign io_out = io_out_REG;\n",
      "  always @(posedge clock) begin\n",
      "    if (io_en) begin\n",
      "      io_out_REG <= io_in;\n",
      "    end else begin\n",
      "      io_out_REG <= io_out;\n",
      "    end\n",
      "  end\n",
      "endmodule\n"
     ]
    }
   ],
   "source": [
    "println(getVerilog(new HelloWorld))"
   ]
  },
  {
   "cell_type": "code",
   "execution_count": 131,
   "id": "05fe555c",
   "metadata": {
    "cell_style": "split"
   },
   "outputs": [
    {
     "data": {
      "text/html": [
       "<div width=\"100%\" height=\"100%\" overflow=\"scroll\"><?xml version=\"1.0\" encoding=\"UTF-8\" standalone=\"no\"?>\n",
       "<?xml-stylesheet href=\"styles.css\" type=\"text/css\"?>\n",
       "<!DOCTYPE svg PUBLIC \"-//W3C//DTD SVG 1.1//EN\"\n",
       " \"http://www.w3.org/Graphics/SVG/1.1/DTD/svg11.dtd\">\n",
       "<!-- Generated by graphviz version 2.40.1 (0)\n",
       " -->\n",
       "<!-- Title: HelloWorld Pages: 1 -->\n",
       "<svg width=\"507pt\" height=\"297pt\"\n",
       " viewBox=\"0.00 0.00 507.00 296.71\" xmlns=\"http://www.w3.org/2000/svg\" xmlns:xlink=\"http://www.w3.org/1999/xlink\">\n",
       "<g id=\"graph0\" class=\"graph\" transform=\"scale(1 1) rotate(0) translate(4 292.7115)\">\n",
       "<title>HelloWorld</title>\n",
       "<polygon fill=\"#ffffff\" stroke=\"transparent\" points=\"-4,4 -4,-292.7115 503,-292.7115 503,4 -4,4\"/>\n",
       "<g id=\"clust1\" class=\"cluster\">\n",
       "<title>cluster_HelloWorld</title>\n",
       "<polygon fill=\"#fff8dc\" stroke=\"#000000\" points=\"8,-43.7115 8,-280.7115 491,-280.7115 491,-43.7115 8,-43.7115\"/>\n",
       "<text text-anchor=\"middle\" x=\"249.5\" y=\"-265.5115\" font-family=\"Times,serif\" font-size=\"14.00\" fill=\"#000000\">HelloWorld</text>\n",
       "</g>\n",
       "<!-- cluster_HelloWorld_clock -->\n",
       "<g id=\"node1\" class=\"node\">\n",
       "<title>cluster_HelloWorld_clock</title>\n",
       "<polygon fill=\"#cccccc\" stroke=\"#000000\" points=\"71,-249.7115 16,-249.7115 16,-213.7115 71,-213.7115 71,-249.7115\"/>\n",
       "<text text-anchor=\"middle\" x=\"43.5\" y=\"-228.0115\" font-family=\"Times,serif\" font-size=\"14.00\" fill=\"#000000\">clock</text>\n",
       "</g>\n",
       "<!-- cluster_HelloWorld_reset -->\n",
       "<g id=\"node2\" class=\"node\">\n",
       "<title>cluster_HelloWorld_reset</title>\n",
       "<polygon fill=\"#cccccc\" stroke=\"#000000\" points=\"70.5,-195.7115 16.5,-195.7115 16.5,-159.7115 70.5,-159.7115 70.5,-195.7115\"/>\n",
       "<text text-anchor=\"middle\" x=\"43.5\" y=\"-174.0115\" font-family=\"Times,serif\" font-size=\"14.00\" fill=\"#000000\">reset</text>\n",
       "</g>\n",
       "<!-- cluster_HelloWorld_io_en -->\n",
       "<g id=\"node3\" class=\"node\">\n",
       "<title>cluster_HelloWorld_io_en</title>\n",
       "<polygon fill=\"#cccccc\" stroke=\"#000000\" points=\"70.5,-87.7115 16.5,-87.7115 16.5,-51.7115 70.5,-51.7115 70.5,-87.7115\"/>\n",
       "<text text-anchor=\"middle\" x=\"43.5\" y=\"-66.0115\" font-family=\"Times,serif\" font-size=\"14.00\" fill=\"#000000\">io_en</text>\n",
       "</g>\n",
       "<!-- mux_1306485316 -->\n",
       "<g id=\"node7\" class=\"node\">\n",
       "<title>mux_1306485316</title>\n",
       "<polygon fill=\"#afeeee\" stroke=\"transparent\" points=\"115,-59.7115 115,-109.7115 187,-109.7115 187,-59.7115 115,-59.7115\"/>\n",
       "<polygon fill=\"none\" stroke=\"#000000\" points=\"115,-84.7115 115,-109.7115 138,-109.7115 138,-84.7115 115,-84.7115\"/>\n",
       "<text text-anchor=\"start\" x=\"120\" y=\"-93.5115\" font-family=\"Times,serif\" font-size=\"14.00\" fill=\"#000000\">●</text>\n",
       "<polygon fill=\"none\" stroke=\"#000000\" points=\"138,-59.7115 138,-109.7115 164,-109.7115 164,-59.7115 138,-59.7115\"/>\n",
       "<text text-anchor=\"start\" x=\"143\" y=\"-81.0115\" font-family=\"Times,serif\" font-size=\"14.00\" fill=\"#000000\">a?</text>\n",
       "<polygon fill=\"none\" stroke=\"#000000\" points=\"164,-59.7115 164,-109.7115 187,-109.7115 187,-59.7115 164,-59.7115\"/>\n",
       "<text text-anchor=\"start\" x=\"169\" y=\"-81.0115\" font-family=\"Times,serif\" font-size=\"14.00\" fill=\"#000000\">●</text>\n",
       "<polygon fill=\"none\" stroke=\"#000000\" points=\"115,-59.7115 115,-84.7115 138,-84.7115 138,-59.7115 115,-59.7115\"/>\n",
       "<text text-anchor=\"start\" x=\"120\" y=\"-68.5115\" font-family=\"Times,serif\" font-size=\"14.00\" fill=\"#000000\">●</text>\n",
       "</g>\n",
       "<!-- cluster_HelloWorld_io_en&#45;&gt;mux_1306485316 -->\n",
       "<g id=\"edge3\" class=\"edge\">\n",
       "<title>cluster_HelloWorld_io_en&#45;&gt;mux_1306485316:select</title>\n",
       "<path fill=\"none\" stroke=\"#000000\" d=\"M70.6268,-56.7749C98.492,-44.7819 139.1288,-31.3418 148.8526,-49.7669\"/>\n",
       "<polygon fill=\"#000000\" stroke=\"#000000\" points=\"145.4681,-50.6756 151,-59.7115 152.3104,-49.198 145.4681,-50.6756\"/>\n",
       "</g>\n",
       "<!-- cluster_HelloWorld_io_in -->\n",
       "<g id=\"node4\" class=\"node\">\n",
       "<title>cluster_HelloWorld_io_in</title>\n",
       "<polygon fill=\"#cccccc\" stroke=\"#000000\" points=\"70.5,-141.7115 16.5,-141.7115 16.5,-105.7115 70.5,-105.7115 70.5,-141.7115\"/>\n",
       "<text text-anchor=\"middle\" x=\"43.5\" y=\"-120.0115\" font-family=\"Times,serif\" font-size=\"14.00\" fill=\"#000000\">io_in</text>\n",
       "</g>\n",
       "<!-- cluster_HelloWorld_io_in&#45;&gt;mux_1306485316 -->\n",
       "<g id=\"edge4\" class=\"edge\">\n",
       "<title>cluster_HelloWorld_io_in&#45;&gt;mux_1306485316:in1</title>\n",
       "<path fill=\"none\" stroke=\"#000000\" d=\"M70.5157,-108.8887C80.7075,-104.3271 92.774,-100.071 104.8714,-98.4272\"/>\n",
       "<polygon fill=\"#000000\" stroke=\"#000000\" points=\"105.2716,-101.9078 115,-97.7115 104.7781,-94.9252 105.2716,-101.9078\"/>\n",
       "</g>\n",
       "<!-- cluster_HelloWorld_io_out -->\n",
       "<g id=\"node5\" class=\"node\">\n",
       "<title>cluster_HelloWorld_io_out</title>\n",
       "<polygon fill=\"#e0ffff\" stroke=\"#000000\" points=\"483,-100.7115 423,-100.7115 423,-64.7115 483,-64.7115 483,-100.7115\"/>\n",
       "<text text-anchor=\"middle\" x=\"453\" y=\"-79.0115\" font-family=\"Times,serif\" font-size=\"14.00\" fill=\"#000000\">io_out</text>\n",
       "</g>\n",
       "<!-- cluster_HelloWorld_io_out&#45;&gt;mux_1306485316 -->\n",
       "<g id=\"edge5\" class=\"edge\">\n",
       "<title>cluster_HelloWorld_io_out&#45;&gt;mux_1306485316:in2</title>\n",
       "<path fill=\"none\" stroke=\"#000000\" d=\"M422.8228,-68.1041C344.3218,-31.6427 138.9467,53.312 126.5838,-49.5241\"/>\n",
       "<polygon fill=\"#000000\" stroke=\"#000000\" points=\"123.0779,-49.5276 126,-59.7115 130.0665,-49.9282 123.0779,-49.5276\"/>\n",
       "</g>\n",
       "<!-- struct_cluster_HelloWorld_io_out_REG -->\n",
       "<g id=\"node6\" class=\"node\">\n",
       "<title>struct_cluster_HelloWorld_io_out_REG</title>\n",
       "<polygon fill=\"#ffe4b5\" stroke=\"transparent\" points=\"239,-85.2115 239,-110.2115 379,-110.2115 379,-85.2115 239,-85.2115\"/>\n",
       "<polygon fill=\"none\" stroke=\"#000000\" points=\"239,-84.7115 239,-109.7115 262,-109.7115 262,-84.7115 239,-84.7115\"/>\n",
       "<text text-anchor=\"start\" x=\"244\" y=\"-93.5115\" font-family=\"Times,serif\" font-size=\"14.00\" fill=\"#000000\">●</text>\n",
       "<polygon fill=\"none\" stroke=\"#000000\" points=\"262,-84.7115 262,-109.7115 356,-109.7115 356,-84.7115 262,-84.7115\"/>\n",
       "<text text-anchor=\"start\" x=\"267\" y=\"-93.5115\" font-family=\"Times,serif\" font-size=\"14.00\" fill=\"#000000\">io_out_REG</text>\n",
       "<polygon fill=\"none\" stroke=\"#000000\" points=\"356,-84.7115 356,-109.7115 379,-109.7115 379,-84.7115 356,-84.7115\"/>\n",
       "<text text-anchor=\"start\" x=\"361\" y=\"-93.5115\" font-family=\"Times,serif\" font-size=\"14.00\" fill=\"#000000\">●</text>\n",
       "</g>\n",
       "<!-- struct_cluster_HelloWorld_io_out_REG&#45;&gt;cluster_HelloWorld_io_out -->\n",
       "<g id=\"edge2\" class=\"edge\">\n",
       "<title>struct_cluster_HelloWorld_io_out_REG:out&#45;&gt;cluster_HelloWorld_io_out</title>\n",
       "<path fill=\"none\" stroke=\"#000000\" d=\"M379,-96.7115C390.0975,-96.7115 401.9705,-95.1726 412.885,-93.1152\"/>\n",
       "<polygon fill=\"#000000\" stroke=\"#000000\" points=\"413.9185,-96.4755 422.9991,-91.0172 412.4966,-89.6214 413.9185,-96.4755\"/>\n",
       "</g>\n",
       "<!-- mux_1306485316&#45;&gt;struct_cluster_HelloWorld_io_out_REG -->\n",
       "<g id=\"edge1\" class=\"edge\">\n",
       "<title>mux_1306485316:out&#45;&gt;struct_cluster_HelloWorld_io_out_REG:in</title>\n",
       "<path fill=\"none\" stroke=\"#000000\" d=\"M187,-84.7115C206.8272,-84.7115 213.2687,-93.097 228.7037,-95.8485\"/>\n",
       "<polygon fill=\"#000000\" stroke=\"#000000\" points=\"228.7426,-99.3639 239,-96.7115 229.3273,-92.3884 228.7426,-99.3639\"/>\n",
       "</g>\n",
       "</g>\n",
       "</svg>\n",
       "</div>"
      ]
     },
     "metadata": {},
     "output_type": "display_data"
    }
   ],
   "source": [
    "visualize(() => new HelloWorld)"
   ]
  },
  {
   "cell_type": "markdown",
   "id": "2737256c",
   "metadata": {
    "slideshow": {
     "slide_type": "slide"
    }
   },
   "source": [
    "## When"
   ]
  },
  {
   "cell_type": "markdown",
   "id": "7ce0f31b",
   "metadata": {
    "cell_style": "split"
   },
   "source": [
    "verilog의 if문과 동일\n",
    "```scala\n",
    "when(<Chisel-Bool>) {\n",
    "  // run if condition1 true and skip rest\n",
    "} .elsewhen(<Chisel-Bool>) {\n",
    "  // run if condition2 true and skip rest\n",
    "} .otherwise {\n",
    "  // run if none of the above ran\n",
    "}\n",
    "```"
   ]
  },
  {
   "cell_type": "code",
   "execution_count": 135,
   "id": "e4d7dac2",
   "metadata": {
    "cell_style": "split"
   },
   "outputs": [
    {
     "data": {
      "text/plain": [
       "defined \u001b[32mclass\u001b[39m \u001b[36mHelloWorld\u001b[39m"
      ]
     },
     "execution_count": 135,
     "metadata": {},
     "output_type": "execute_result"
    }
   ],
   "source": [
    "class HelloWorld extends Module {\n",
    "  val io = IO(new Bundle{\n",
    "    val en = Input(Bool())\n",
    "    val in = Input(UInt(8.W))\n",
    "    val out = Output(UInt(8.W))\n",
    "  })\n",
    "  \n",
    "  val outReg = RegInit(0.U(8.W))\n",
    "  io.out := outReg\n",
    "  \n",
    "  when(io.en){\n",
    "    when(outReg === 0.U) {\n",
    "      outReg := io.in\n",
    "    } .otherwise {\n",
    "      outReg := 2.U\n",
    "    }\n",
    "  }\n",
    "  \n",
    "}"
   ]
  },
  {
   "cell_type": "code",
   "execution_count": 136,
   "id": "4d2dc41d",
   "metadata": {
    "cell_style": "split"
   },
   "outputs": [
    {
     "name": "stdout",
     "output_type": "stream",
     "text": [
      "module HelloWorld(\n",
      "  input        clock,\n",
      "  input        reset,\n",
      "  input        io_en,\n",
      "  input  [7:0] io_in,\n",
      "  output [7:0] io_out\n",
      ");\n",
      "  reg [7:0] outReg;\n",
      "  assign io_out = outReg;\n",
      "  always @(posedge clock) begin\n",
      "    if (reset) begin\n",
      "      outReg <= 8'h0;\n",
      "    end else if (io_en) begin\n",
      "      if (outReg == 8'h0) begin\n",
      "        outReg <= io_in;\n",
      "      end else begin\n",
      "        outReg <= 8'h2;\n",
      "      end\n",
      "    end\n",
      "  end\n",
      "endmodule\n"
     ]
    }
   ],
   "source": [
    "println(getVerilog(new HelloWorld))"
   ]
  },
  {
   "cell_type": "code",
   "execution_count": 137,
   "id": "37b1a462",
   "metadata": {
    "cell_style": "split"
   },
   "outputs": [
    {
     "data": {
      "text/html": [
       "<div width=\"100%\" height=\"100%\" overflow=\"scroll\"><?xml version=\"1.0\" encoding=\"UTF-8\" standalone=\"no\"?>\n",
       "<?xml-stylesheet href=\"styles.css\" type=\"text/css\"?>\n",
       "<!DOCTYPE svg PUBLIC \"-//W3C//DTD SVG 1.1//EN\"\n",
       " \"http://www.w3.org/Graphics/SVG/1.1/DTD/svg11.dtd\">\n",
       "<!-- Generated by graphviz version 2.40.1 (0)\n",
       " -->\n",
       "<!-- Title: HelloWorld Pages: 1 -->\n",
       "<svg width=\"852pt\" height=\"255pt\"\n",
       " viewBox=\"0.00 0.00 852.00 255.16\" xmlns=\"http://www.w3.org/2000/svg\" xmlns:xlink=\"http://www.w3.org/1999/xlink\">\n",
       "<g id=\"graph0\" class=\"graph\" transform=\"scale(1 1) rotate(0) translate(4 251.1638)\">\n",
       "<title>HelloWorld</title>\n",
       "<polygon fill=\"#ffffff\" stroke=\"transparent\" points=\"-4,4 -4,-251.1638 848,-251.1638 848,4 -4,4\"/>\n",
       "<g id=\"clust1\" class=\"cluster\">\n",
       "<title>cluster_HelloWorld</title>\n",
       "<polygon fill=\"#fff8dc\" stroke=\"#000000\" points=\"8,-48.1638 8,-239.1638 836,-239.1638 836,-48.1638 8,-48.1638\"/>\n",
       "<text text-anchor=\"middle\" x=\"422\" y=\"-223.9638\" font-family=\"Times,serif\" font-size=\"14.00\" fill=\"#000000\">HelloWorld</text>\n",
       "</g>\n",
       "<!-- cluster_HelloWorld_clock -->\n",
       "<g id=\"node1\" class=\"node\">\n",
       "<title>cluster_HelloWorld_clock</title>\n",
       "<polygon fill=\"#cccccc\" stroke=\"#000000\" points=\"71,-186.1638 16,-186.1638 16,-150.1638 71,-150.1638 71,-186.1638\"/>\n",
       "<text text-anchor=\"middle\" x=\"43.5\" y=\"-164.4638\" font-family=\"Times,serif\" font-size=\"14.00\" fill=\"#000000\">clock</text>\n",
       "</g>\n",
       "<!-- cluster_HelloWorld_reset -->\n",
       "<g id=\"node2\" class=\"node\">\n",
       "<title>cluster_HelloWorld_reset</title>\n",
       "<polygon fill=\"#cccccc\" stroke=\"#000000\" points=\"70.5,-107.1638 16.5,-107.1638 16.5,-71.1638 70.5,-71.1638 70.5,-107.1638\"/>\n",
       "<text text-anchor=\"middle\" x=\"43.5\" y=\"-85.4638\" font-family=\"Times,serif\" font-size=\"14.00\" fill=\"#000000\">reset</text>\n",
       "</g>\n",
       "<!-- mux_34148100 -->\n",
       "<g id=\"node9\" class=\"node\">\n",
       "<title>mux_34148100</title>\n",
       "<polygon fill=\"#afeeee\" stroke=\"transparent\" points=\"115,-64.1638 115,-114.1638 187,-114.1638 187,-64.1638 115,-64.1638\"/>\n",
       "<polygon fill=\"none\" stroke=\"#000000\" points=\"115,-89.1638 115,-114.1638 138,-114.1638 138,-89.1638 115,-89.1638\"/>\n",
       "<text text-anchor=\"start\" x=\"121.5\" y=\"-97.9638\" font-family=\"Times,serif\" font-size=\"14.00\" fill=\"#000000\">0</text>\n",
       "<polygon fill=\"none\" stroke=\"#000000\" points=\"138,-64.1638 138,-114.1638 164,-114.1638 164,-64.1638 138,-64.1638\"/>\n",
       "<text text-anchor=\"start\" x=\"143\" y=\"-85.4638\" font-family=\"Times,serif\" font-size=\"14.00\" fill=\"#000000\">a?</text>\n",
       "<polygon fill=\"none\" stroke=\"#000000\" points=\"164,-64.1638 164,-114.1638 187,-114.1638 187,-64.1638 164,-64.1638\"/>\n",
       "<text text-anchor=\"start\" x=\"169\" y=\"-85.4638\" font-family=\"Times,serif\" font-size=\"14.00\" fill=\"#000000\">●</text>\n",
       "<polygon fill=\"none\" stroke=\"#000000\" points=\"115,-64.1638 115,-89.1638 138,-89.1638 138,-64.1638 115,-64.1638\"/>\n",
       "<text text-anchor=\"start\" x=\"120\" y=\"-72.9638\" font-family=\"Times,serif\" font-size=\"14.00\" fill=\"#000000\">●</text>\n",
       "</g>\n",
       "<!-- cluster_HelloWorld_reset&#45;&gt;mux_34148100 -->\n",
       "<g id=\"edge8\" class=\"edge\">\n",
       "<title>cluster_HelloWorld_reset&#45;&gt;mux_34148100:select</title>\n",
       "<path fill=\"none\" stroke=\"#000000\" d=\"M70.6268,-72.2101C98.492,-56.1196 139.1288,-36.794 148.8526,-54.2929\"/>\n",
       "<polygon fill=\"#000000\" stroke=\"#000000\" points=\"145.4542,-55.1363 151,-64.1638 152.2942,-53.6483 145.4542,-55.1363\"/>\n",
       "</g>\n",
       "<!-- cluster_HelloWorld_io_en -->\n",
       "<g id=\"node3\" class=\"node\">\n",
       "<title>cluster_HelloWorld_io_en</title>\n",
       "<polygon fill=\"#cccccc\" stroke=\"#000000\" points=\"687,-132.1638 633,-132.1638 633,-96.1638 687,-96.1638 687,-132.1638\"/>\n",
       "<text text-anchor=\"middle\" x=\"660\" y=\"-110.4638\" font-family=\"Times,serif\" font-size=\"14.00\" fill=\"#000000\">io_en</text>\n",
       "</g>\n",
       "<!-- mux_1373815236 -->\n",
       "<g id=\"node10\" class=\"node\">\n",
       "<title>mux_1373815236</title>\n",
       "<polygon fill=\"#afeeee\" stroke=\"transparent\" points=\"748,-77.1638 748,-127.1638 820,-127.1638 820,-77.1638 748,-77.1638\"/>\n",
       "<polygon fill=\"none\" stroke=\"#000000\" points=\"748,-102.1638 748,-127.1638 771,-127.1638 771,-102.1638 748,-102.1638\"/>\n",
       "<text text-anchor=\"start\" x=\"753\" y=\"-110.9638\" font-family=\"Times,serif\" font-size=\"14.00\" fill=\"#000000\">●</text>\n",
       "<polygon fill=\"none\" stroke=\"#000000\" points=\"771,-77.1638 771,-127.1638 797,-127.1638 797,-77.1638 771,-77.1638\"/>\n",
       "<text text-anchor=\"start\" x=\"776\" y=\"-98.4638\" font-family=\"Times,serif\" font-size=\"14.00\" fill=\"#000000\">a?</text>\n",
       "<polygon fill=\"none\" stroke=\"#000000\" points=\"797,-77.1638 797,-127.1638 820,-127.1638 820,-77.1638 797,-77.1638\"/>\n",
       "<text text-anchor=\"start\" x=\"802\" y=\"-98.4638\" font-family=\"Times,serif\" font-size=\"14.00\" fill=\"#000000\">●</text>\n",
       "<polygon fill=\"none\" stroke=\"#000000\" points=\"748,-77.1638 748,-102.1638 771,-102.1638 771,-77.1638 748,-77.1638\"/>\n",
       "<text text-anchor=\"start\" x=\"753\" y=\"-85.9638\" font-family=\"Times,serif\" font-size=\"14.00\" fill=\"#000000\">●</text>\n",
       "</g>\n",
       "<!-- cluster_HelloWorld_io_en&#45;&gt;mux_1373815236 -->\n",
       "<g id=\"edge1\" class=\"edge\">\n",
       "<title>cluster_HelloWorld_io_en&#45;&gt;mux_1373815236:select</title>\n",
       "<path fill=\"none\" stroke=\"#000000\" d=\"M687.2123,-127.6399C720.0066,-142.5517 771.9997,-161.4725 782.2225,-137.1415\"/>\n",
       "<polygon fill=\"#000000\" stroke=\"#000000\" points=\"785.6918,-137.6226 784,-127.1638 778.8003,-136.3949 785.6918,-137.6226\"/>\n",
       "</g>\n",
       "<!-- cluster_HelloWorld_io_in -->\n",
       "<g id=\"node4\" class=\"node\">\n",
       "<title>cluster_HelloWorld_io_in</title>\n",
       "<polygon fill=\"#cccccc\" stroke=\"#000000\" points=\"580,-208.1638 526,-208.1638 526,-172.1638 580,-172.1638 580,-208.1638\"/>\n",
       "<text text-anchor=\"middle\" x=\"553\" y=\"-186.4638\" font-family=\"Times,serif\" font-size=\"14.00\" fill=\"#000000\">io_in</text>\n",
       "</g>\n",
       "<!-- mux_568415760 -->\n",
       "<g id=\"node11\" class=\"node\">\n",
       "<title>mux_568415760</title>\n",
       "<polygon fill=\"#afeeee\" stroke=\"transparent\" points=\"624,-154.1638 624,-204.1638 696,-204.1638 696,-154.1638 624,-154.1638\"/>\n",
       "<polygon fill=\"none\" stroke=\"#000000\" points=\"624,-179.1638 624,-204.1638 647,-204.1638 647,-179.1638 624,-179.1638\"/>\n",
       "<text text-anchor=\"start\" x=\"629\" y=\"-187.9638\" font-family=\"Times,serif\" font-size=\"14.00\" fill=\"#000000\">●</text>\n",
       "<polygon fill=\"none\" stroke=\"#000000\" points=\"647,-154.1638 647,-204.1638 673,-204.1638 673,-154.1638 647,-154.1638\"/>\n",
       "<text text-anchor=\"start\" x=\"652\" y=\"-175.4638\" font-family=\"Times,serif\" font-size=\"14.00\" fill=\"#000000\">a?</text>\n",
       "<polygon fill=\"none\" stroke=\"#000000\" points=\"673,-154.1638 673,-204.1638 696,-204.1638 696,-154.1638 673,-154.1638\"/>\n",
       "<text text-anchor=\"start\" x=\"678\" y=\"-175.4638\" font-family=\"Times,serif\" font-size=\"14.00\" fill=\"#000000\">●</text>\n",
       "<polygon fill=\"none\" stroke=\"#000000\" points=\"624,-154.1638 624,-179.1638 647,-179.1638 647,-154.1638 624,-154.1638\"/>\n",
       "<text text-anchor=\"start\" x=\"630.5\" y=\"-162.9638\" font-family=\"Times,serif\" font-size=\"14.00\" fill=\"#000000\">2</text>\n",
       "</g>\n",
       "<!-- cluster_HelloWorld_io_in&#45;&gt;mux_568415760 -->\n",
       "<g id=\"edge4\" class=\"edge\">\n",
       "<title>cluster_HelloWorld_io_in&#45;&gt;mux_568415760:in1</title>\n",
       "<path fill=\"none\" stroke=\"#000000\" d=\"M580.3045,-191.2924C590.5121,-191.6432 602.438,-191.9726 613.9933,-192.1039\"/>\n",
       "<polygon fill=\"#000000\" stroke=\"#000000\" points=\"613.9792,-195.6038 624,-192.1638 614.0212,-188.6039 613.9792,-195.6038\"/>\n",
       "</g>\n",
       "<!-- cluster_HelloWorld_io_out -->\n",
       "<g id=\"node5\" class=\"node\">\n",
       "<title>cluster_HelloWorld_io_out</title>\n",
       "<polygon fill=\"#e0ffff\" stroke=\"#000000\" points=\"470.5,-208.1638 410.5,-208.1638 410.5,-172.1638 470.5,-172.1638 470.5,-208.1638\"/>\n",
       "<text text-anchor=\"middle\" x=\"440.5\" y=\"-186.4638\" font-family=\"Times,serif\" font-size=\"14.00\" fill=\"#000000\">io_out</text>\n",
       "</g>\n",
       "<!-- struct_cluster_HelloWorld_outReg -->\n",
       "<g id=\"node6\" class=\"node\">\n",
       "<title>struct_cluster_HelloWorld_outReg</title>\n",
       "<polygon fill=\"#ffe4b5\" stroke=\"transparent\" points=\"239,-103.6638 239,-128.6638 347,-128.6638 347,-103.6638 239,-103.6638\"/>\n",
       "<polygon fill=\"none\" stroke=\"#000000\" points=\"239,-103.1638 239,-128.1638 262,-128.1638 262,-103.1638 239,-103.1638\"/>\n",
       "<text text-anchor=\"start\" x=\"244\" y=\"-111.9638\" font-family=\"Times,serif\" font-size=\"14.00\" fill=\"#000000\">●</text>\n",
       "<polygon fill=\"none\" stroke=\"#000000\" points=\"262,-103.1638 262,-128.1638 324,-128.1638 324,-103.1638 262,-103.1638\"/>\n",
       "<text text-anchor=\"start\" x=\"267\" y=\"-111.9638\" font-family=\"Times,serif\" font-size=\"14.00\" fill=\"#000000\">outReg</text>\n",
       "<polygon fill=\"none\" stroke=\"#000000\" points=\"324,-103.1638 324,-128.1638 347,-128.1638 347,-103.1638 324,-103.1638\"/>\n",
       "<text text-anchor=\"start\" x=\"329\" y=\"-111.9638\" font-family=\"Times,serif\" font-size=\"14.00\" fill=\"#000000\">●</text>\n",
       "</g>\n",
       "<!-- struct_cluster_HelloWorld_outReg&#45;&gt;cluster_HelloWorld_io_out -->\n",
       "<g id=\"edge2\" class=\"edge\">\n",
       "<title>struct_cluster_HelloWorld_outReg:out&#45;&gt;cluster_HelloWorld_io_out</title>\n",
       "<path fill=\"none\" stroke=\"#000000\" d=\"M347,-115.1638C375.9401,-115.1638 368.2104,-145.3266 391,-163.1638 394.3388,-165.777 397.9647,-168.2789 401.6851,-170.6322\"/>\n",
       "<polygon fill=\"#000000\" stroke=\"#000000\" points=\"400.0616,-173.7387 410.4467,-175.8364 403.6364,-167.7203 400.0616,-173.7387\"/>\n",
       "</g>\n",
       "<!-- op_eq_39 -->\n",
       "<g id=\"node8\" class=\"node\">\n",
       "<title>op_eq_39</title>\n",
       "<polygon fill=\"#d8bfd8\" stroke=\"transparent\" points=\"399,-100.1638 399,-150.1638 482,-150.1638 482,-100.1638 399,-100.1638\"/>\n",
       "<polygon fill=\"none\" stroke=\"#000000\" points=\"399.5,-125.1638 399.5,-150.1638 422.5,-150.1638 422.5,-125.1638 399.5,-125.1638\"/>\n",
       "<text text-anchor=\"start\" x=\"404.5\" y=\"-133.9638\" font-family=\"Times,serif\" font-size=\"14.00\" fill=\"#000000\">●</text>\n",
       "<polygon fill=\"none\" stroke=\"#000000\" points=\"422.5,-100.1638 422.5,-150.1638 459.5,-150.1638 459.5,-100.1638 422.5,-100.1638\"/>\n",
       "<text text-anchor=\"start\" x=\"427.5\" y=\"-121.4638\" font-family=\"Times,serif\" font-size=\"14.00\" fill=\"#000000\"> eq </text>\n",
       "<polygon fill=\"none\" stroke=\"#000000\" points=\"459.5,-100.1638 459.5,-150.1638 482.5,-150.1638 482.5,-100.1638 459.5,-100.1638\"/>\n",
       "<text text-anchor=\"start\" x=\"464.5\" y=\"-121.4638\" font-family=\"Times,serif\" font-size=\"14.00\" fill=\"#000000\">●</text>\n",
       "<polygon fill=\"none\" stroke=\"#000000\" points=\"399.5,-100.1638 399.5,-125.1638 422.5,-125.1638 422.5,-100.1638 399.5,-100.1638\"/>\n",
       "<text text-anchor=\"start\" x=\"406\" y=\"-108.9638\" font-family=\"Times,serif\" font-size=\"14.00\" fill=\"#000000\">0</text>\n",
       "</g>\n",
       "<!-- struct_cluster_HelloWorld_outReg&#45;&gt;op_eq_39 -->\n",
       "<g id=\"edge11\" class=\"edge\">\n",
       "<title>struct_cluster_HelloWorld_outReg:out&#45;&gt;op_eq_39:in1</title>\n",
       "<path fill=\"none\" stroke=\"#000000\" d=\"M347,-115.1638C368.6929,-115.1638 373.038,-131.8424 389.5808,-136.7939\"/>\n",
       "<polygon fill=\"#000000\" stroke=\"#000000\" points=\"389.1152,-140.2627 399.5,-138.1638 390.0729,-133.3285 389.1152,-140.2627\"/>\n",
       "</g>\n",
       "<!-- struct_cluster_HelloWorld_outReg&#45;&gt;mux_1373815236 -->\n",
       "<g id=\"edge6\" class=\"edge\">\n",
       "<title>struct_cluster_HelloWorld_outReg:out&#45;&gt;mux_1373815236:in2</title>\n",
       "<path fill=\"none\" stroke=\"#000000\" d=\"M347,-115.1638C370.1794,-115.1638 368.745,-93.6444 391,-87.1638 524.5634,-48.27 564.9248,-84.0046 704,-87.1638 719.7483,-87.5215 725.9669,-88.5986 737.9953,-89.0056\"/>\n",
       "<polygon fill=\"#000000\" stroke=\"#000000\" points=\"737.9459,-92.5052 748,-89.1638 738.0566,-85.5061 737.9459,-92.5052\"/>\n",
       "</g>\n",
       "<!-- cluster_HelloWorld__T -->\n",
       "<g id=\"node7\" class=\"node\">\n",
       "<title>cluster_HelloWorld__T</title>\n",
       "<polygon fill=\"none\" stroke=\"#000000\" points=\"580,-148.1638 526,-148.1638 526,-112.1638 580,-112.1638 580,-148.1638\"/>\n",
       "<text text-anchor=\"middle\" x=\"553\" y=\"-126.4638\" font-family=\"Times,serif\" font-size=\"14.00\" fill=\"#000000\">_T</text>\n",
       "</g>\n",
       "<!-- cluster_HelloWorld__T&#45;&gt;mux_568415760 -->\n",
       "<g id=\"edge3\" class=\"edge\">\n",
       "<title>cluster_HelloWorld__T&#45;&gt;mux_568415760:select</title>\n",
       "<path fill=\"none\" stroke=\"#000000\" d=\"M580.0006,-134.8979C603.0311,-139.0725 634.8265,-145.1905 650.4927,-149.794\"/>\n",
       "<polygon fill=\"#000000\" stroke=\"#000000\" points=\"649.4521,-153.1677 660,-154.1638 652.3755,-146.8073 649.4521,-153.1677\"/>\n",
       "</g>\n",
       "<!-- op_eq_39&#45;&gt;cluster_HelloWorld__T -->\n",
       "<g id=\"edge9\" class=\"edge\">\n",
       "<title>op_eq_39:out&#45;&gt;cluster_HelloWorld__T</title>\n",
       "<path fill=\"none\" stroke=\"#000000\" d=\"M482.5,-125.1638C493.2672,-125.1638 504.9363,-125.7512 515.6239,-126.5234\"/>\n",
       "<polygon fill=\"#000000\" stroke=\"#000000\" points=\"515.6684,-130.038 525.9146,-127.3423 516.2238,-123.06 515.6684,-130.038\"/>\n",
       "</g>\n",
       "<!-- mux_34148100&#45;&gt;struct_cluster_HelloWorld_outReg -->\n",
       "<g id=\"edge7\" class=\"edge\">\n",
       "<title>mux_34148100:out&#45;&gt;struct_cluster_HelloWorld_outReg:in</title>\n",
       "<path fill=\"none\" stroke=\"#000000\" d=\"M187,-89.1638C209.0035,-89.1638 212.5032,-108.0179 229.0134,-113.6152\"/>\n",
       "<polygon fill=\"#000000\" stroke=\"#000000\" points=\"228.5818,-117.09 239,-115.1638 229.6544,-110.1727 228.5818,-117.09\"/>\n",
       "</g>\n",
       "<!-- mux_1373815236&#45;&gt;mux_34148100 -->\n",
       "<g id=\"edge10\" class=\"edge\">\n",
       "<title>mux_1373815236:out&#45;&gt;mux_34148100:in2</title>\n",
       "<path fill=\"none\" stroke=\"#000000\" d=\"M809,-77.1638C809,36.9607 667.1245,-57.1638 553,-57.1638 440.5,-57.1638 440.5,-57.1638 440.5,-57.1638 304.2375,-57.1638 134.8484,68.9899 126.3344,-54.0346\"/>\n",
       "<polygon fill=\"#000000\" stroke=\"#000000\" points=\"122.832,-54.0537 126,-64.1638 129.8282,-54.2847 122.832,-54.0537\"/>\n",
       "</g>\n",
       "<!-- mux_568415760&#45;&gt;mux_1373815236 -->\n",
       "<g id=\"edge5\" class=\"edge\">\n",
       "<title>mux_568415760:out&#45;&gt;mux_1373815236:in1</title>\n",
       "<path fill=\"none\" stroke=\"#000000\" d=\"M685,-154.1638C685,-152.5719 721.4557,-130.1124 738.927,-120.0172\"/>\n",
       "<polygon fill=\"#000000\" stroke=\"#000000\" points=\"740.8332,-122.9669 748,-115.1638 737.5314,-116.7945 740.8332,-122.9669\"/>\n",
       "</g>\n",
       "</g>\n",
       "</svg>\n",
       "</div>"
      ]
     },
     "metadata": {},
     "output_type": "display_data"
    }
   ],
   "source": [
    "visualize(() => new HelloWorld)"
   ]
  },
  {
   "cell_type": "markdown",
   "id": "7069b37a",
   "metadata": {
    "slideshow": {
     "slide_type": "slide"
    }
   },
   "source": [
    "## Switch"
   ]
  },
  {
   "cell_type": "markdown",
   "id": "5bd9fd53",
   "metadata": {
    "cell_style": "split"
   },
   "source": [
    "verilog의 case문과 동일\n",
    "\n",
    "```scala\n",
    "switch(x) {\n",
    "  is(value1) {\n",
    "    // run if x === value1\n",
    "  } is(value2) {\n",
    "    // run if x === value2\n",
    "  } \n",
    "}\n",
    "```"
   ]
  },
  {
   "cell_type": "markdown",
   "id": "9023cc7a",
   "metadata": {
    "slideshow": {
     "slide_type": "slide"
    }
   },
   "source": [
    "## Enum"
   ]
  },
  {
   "cell_type": "code",
   "execution_count": null,
   "id": "fa81addb",
   "metadata": {},
   "outputs": [],
   "source": []
  },
  {
   "cell_type": "code",
   "execution_count": null,
   "id": "54c07346",
   "metadata": {},
   "outputs": [],
   "source": []
  },
  {
   "cell_type": "code",
   "execution_count": null,
   "id": "1ce1d0d4",
   "metadata": {},
   "outputs": [],
   "source": []
  },
  {
   "cell_type": "code",
   "execution_count": null,
   "id": "74db8832",
   "metadata": {},
   "outputs": [],
   "source": []
  },
  {
   "cell_type": "code",
   "execution_count": null,
   "id": "b3666691",
   "metadata": {},
   "outputs": [],
   "source": []
  },
  {
   "cell_type": "code",
   "execution_count": null,
   "id": "e07ef5b6",
   "metadata": {},
   "outputs": [],
   "source": []
  }
 ],
 "metadata": {
  "celltoolbar": "Slideshow",
  "kernelspec": {
   "display_name": "Scala",
   "language": "scala",
   "name": "scala"
  },
  "language_info": {
   "codemirror_mode": "text/x-scala",
   "file_extension": ".sc",
   "mimetype": "text/x-scala",
   "name": "scala",
   "nbconvert_exporter": "script",
   "version": "2.13.4"
  }
 },
 "nbformat": 4,
 "nbformat_minor": 5
}
