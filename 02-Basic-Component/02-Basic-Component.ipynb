{
 "cells": [
  {
   "cell_type": "markdown",
   "id": "6aef4afb",
   "metadata": {
    "cell_style": "center",
    "slideshow": {
     "slide_type": "slide"
    }
   },
   "source": [
    "# Digital System Design with Chisel\n",
    "\n",
    "### Chapter 2 : Basic Components\n",
    "\n",
    "##### Dongho Park"
   ]
  },
  {
   "cell_type": "markdown",
   "id": "b9aee1c3",
   "metadata": {
    "slideshow": {
     "slide_type": "slide"
    }
   },
   "source": [
    "# Loading The Chisel Library Into a Notebook"
   ]
  },
  {
   "cell_type": "code",
   "execution_count": 161,
   "id": "b2cf3279",
   "metadata": {},
   "outputs": [
    {
     "data": {
      "text/plain": [
       "\u001b[36mpath\u001b[39m: \u001b[32mString\u001b[39m = \u001b[32m\"/home/parkdongho/dev/Digital-System-Design-with-Chisel/02-Basic-Component/../resource/chisel_deps.sc\"\u001b[39m"
      ]
     },
     "execution_count": 161,
     "metadata": {},
     "output_type": "execute_result"
    }
   ],
   "source": [
    "val path = System.getProperty(\"user.dir\") + \"/../resource/chisel_deps.sc\"\n",
    "interp.load.module(ammonite.ops.Path(java.nio.file.FileSystems.getDefault().getPath(path)))"
   ]
  },
  {
   "cell_type": "code",
   "execution_count": 162,
   "id": "9457cf27",
   "metadata": {},
   "outputs": [
    {
     "data": {
      "text/plain": [
       "\u001b[32mimport \u001b[39m\u001b[36mchisel3._\n",
       "\u001b[39m\n",
       "\u001b[32mimport \u001b[39m\u001b[36mchisel3.util._\n",
       "\u001b[39m\n",
       "\u001b[32mimport \u001b[39m\u001b[36mchisel3.tester._\n",
       "\u001b[39m\n",
       "\u001b[32mimport \u001b[39m\u001b[36mchisel3.tester.RawTester.test\u001b[39m"
      ]
     },
     "execution_count": 162,
     "metadata": {},
     "output_type": "execute_result"
    }
   ],
   "source": [
    "import chisel3._\n",
    "import chisel3.util._\n",
    "import chisel3.tester._\n",
    "import chisel3.tester.RawTester.test"
   ]
  },
  {
   "cell_type": "markdown",
   "id": "8fba995b",
   "metadata": {
    "slideshow": {
     "slide_type": "slide"
    }
   },
   "source": [
    "# Scala Type"
   ]
  },
  {
   "cell_type": "code",
   "execution_count": 3,
   "id": "f2a1138a",
   "metadata": {
    "cell_style": "center"
   },
   "outputs": [
    {
     "data": {
      "text/plain": [
       "\u001b[36mres2_0\u001b[39m: \u001b[32mInt\u001b[39m = \u001b[32m1\u001b[39m\n",
       "\u001b[36mres2_1\u001b[39m: \u001b[32mInt\u001b[39m = \u001b[32m1\u001b[39m\n",
       "\u001b[36mres2_2\u001b[39m: \u001b[32mFloat\u001b[39m = \u001b[32m1.0F\u001b[39m\n",
       "\u001b[36mres2_3\u001b[39m: \u001b[32mLong\u001b[39m = \u001b[32m1L\u001b[39m\n",
       "\u001b[36mres2_4\u001b[39m: \u001b[32mBoolean\u001b[39m = true\n",
       "\u001b[36ma\u001b[39m: \u001b[32mLong\u001b[39m = \u001b[32m1L\u001b[39m\n",
       "\u001b[36mres2_6\u001b[39m: \u001b[32mLong\u001b[39m = \u001b[32m1L\u001b[39m\n",
       "\u001b[36mres2_7\u001b[39m: \u001b[32mString\u001b[39m = \u001b[32m\"asdasda\"\u001b[39m"
      ]
     },
     "execution_count": 3,
     "metadata": {},
     "output_type": "execute_result"
    }
   ],
   "source": [
    "1\n",
    "1 : Int\n",
    "1 : Float\n",
    "1 : Long\n",
    "true : Boolean\n",
    "val a = 1 : Long\n",
    "a\n",
    "\"asdasda\" : String"
   ]
  },
  {
   "cell_type": "markdown",
   "id": "c192d24e",
   "metadata": {
    "slideshow": {
     "slide_type": "slide"
    }
   },
   "source": [
    "# Chisel Type"
   ]
  },
  {
   "cell_type": "markdown",
   "id": "952ca2ec",
   "metadata": {
    "slideshow": {
     "slide_type": "slide"
    }
   },
   "source": [
    "## `Bool`"
   ]
  },
  {
   "cell_type": "markdown",
   "id": "de6507c6",
   "metadata": {
    "cell_style": "split",
    "slideshow": {
     "slide_type": "-"
    }
   },
   "source": [
    "##### Bool\n",
    "- single-bit logic signal\n",
    "- constructor : `Bool()`\n",
    "\n",
    "##### Bool Literal\n",
    "- constructor : `<Boolean>.B`\n",
    "- examples: `true.B`, `false.B`"
   ]
  },
  {
   "cell_type": "code",
   "execution_count": 4,
   "id": "8ec2c378",
   "metadata": {
    "cell_style": "split"
   },
   "outputs": [
    {
     "data": {
      "text/plain": [
       "\u001b[36mres3_0\u001b[39m: \u001b[32mBool\u001b[39m = Bool\n",
       "\u001b[36mboolExplicit\u001b[39m: \u001b[32mBool\u001b[39m = Bool\n",
       "\u001b[36mboolImplicit\u001b[39m: \u001b[32mBool\u001b[39m = Bool"
      ]
     },
     "execution_count": 4,
     "metadata": {},
     "output_type": "execute_result"
    }
   ],
   "source": [
    "// Bool\n",
    "Bool()\n",
    "val boolExplicit: Bool = Bool()\n",
    "val boolImplicit = Bool()"
   ]
  },
  {
   "cell_type": "code",
   "execution_count": 5,
   "id": "ec21a493",
   "metadata": {
    "cell_style": "split"
   },
   "outputs": [
    {
     "data": {
      "text/plain": [
       "\u001b[36mres4_0\u001b[39m: \u001b[32mBool\u001b[39m = Bool(false)\n",
       "\u001b[36mres4_1\u001b[39m: \u001b[32mBool\u001b[39m = Bool(true)\n",
       "\u001b[36mboolean\u001b[39m: \u001b[32mBoolean\u001b[39m = true\n",
       "\u001b[36mres4_3\u001b[39m: \u001b[32mBool\u001b[39m = Bool(true)\n",
       "\u001b[36mboolLiteral\u001b[39m: \u001b[32mBool\u001b[39m = Bool(true)"
      ]
     },
     "execution_count": 5,
     "metadata": {},
     "output_type": "execute_result"
    }
   ],
   "source": [
    "// Bool Literal\n",
    "false.B //Bool literal\n",
    "true.B\n",
    "val boolean : Boolean = true //scala Boolean Type\n",
    "boolean.B //Bool literal\n",
    "val boolLiteral: Bool = boolean.B"
   ]
  },
  {
   "cell_type": "markdown",
   "id": "5d14fe27",
   "metadata": {
    "slideshow": {
     "slide_type": "slide"
    }
   },
   "source": [
    "## `UInt`"
   ]
  },
  {
   "cell_type": "markdown",
   "id": "f9609094",
   "metadata": {
    "cell_style": "split",
    "slideshow": {
     "slide_type": "-"
    }
   },
   "source": [
    "##### UInt\n",
    "- single-bit logic signal\n",
    "- constructor : \n",
    "  + `UInt()`\n",
    "  + `UInt(<Width>)`\n",
    "\n",
    "##### UInt Literal\n",
    "- constructor : \n",
    "  + `<Int>.U`\n",
    "  + `<Int>.U(<Width>)`"
   ]
  },
  {
   "cell_type": "code",
   "execution_count": 6,
   "id": "3ec7dd6b",
   "metadata": {
    "cell_style": "split"
   },
   "outputs": [
    {
     "data": {
      "text/plain": [
       "\u001b[36mres5_0\u001b[39m: \u001b[32mUInt\u001b[39m = UInt\n",
       "\u001b[36mres5_1\u001b[39m: \u001b[32mUInt\u001b[39m = UInt<32>\n",
       "\u001b[32mimport \u001b[39m\u001b[36mchisel3.internal.firrtl._\n",
       "\u001b[39m\n",
       "\u001b[36mfooWidth\u001b[39m: \u001b[32mWidth\u001b[39m = \u001b[33mKnownWidth\u001b[39m(value = \u001b[32m64\u001b[39m)\n",
       "\u001b[36mfooUInt\u001b[39m: \u001b[32mUInt\u001b[39m = UInt<64>"
      ]
     },
     "execution_count": 6,
     "metadata": {},
     "output_type": "execute_result"
    }
   ],
   "source": [
    "//UInt\n",
    "UInt()     //UInt, width inferred\n",
    "UInt(32.W) //32bit UInt\n",
    "\n",
    "//Width constructor : <Int>.W\n",
    "import chisel3.internal.firrtl._\n",
    "val fooWidth = 64.W //firrtl Width Literal\n",
    "val fooUInt = UInt(fooWidth)"
   ]
  },
  {
   "cell_type": "code",
   "execution_count": 7,
   "id": "56761359",
   "metadata": {
    "cell_style": "split"
   },
   "outputs": [
    {
     "data": {
      "text/plain": [
       "\u001b[36mres6_0\u001b[39m: \u001b[32mUInt\u001b[39m = UInt<3>(4)\n",
       "\u001b[36mres6_1\u001b[39m: \u001b[32mUInt\u001b[39m = UInt<32>(4)\n",
       "\u001b[36mres6_2\u001b[39m: \u001b[32mUInt\u001b[39m = UInt<64>(4)\n",
       "\u001b[36mfooLiteral\u001b[39m: \u001b[32mUInt\u001b[39m = UInt<64>(4)"
      ]
     },
     "execution_count": 7,
     "metadata": {},
     "output_type": "execute_result"
    }
   ],
   "source": [
    "//UInt Literal\n",
    "4.U\n",
    "4.U(32.W)\n",
    "4.U(fooWidth)\n",
    "val fooLiteral = 4.U(fooWidth)"
   ]
  },
  {
   "cell_type": "markdown",
   "id": "d459dfab",
   "metadata": {
    "slideshow": {
     "slide_type": "slide"
    }
   },
   "source": [
    "## `SInt`"
   ]
  },
  {
   "cell_type": "markdown",
   "id": "ff0f35bb",
   "metadata": {
    "cell_style": "split"
   },
   "source": [
    "##### SInt\n",
    "- single-bit logic signal\n",
    "- constructor : \n",
    "  + `SInt()`\n",
    "  + `SInt(<Width>)`\n",
    "\n",
    "##### SInt Literal\n",
    "- constructor : \n",
    "  + `<Int>.S`\n",
    "  + `<Int>.S(<Width>)`"
   ]
  },
  {
   "cell_type": "code",
   "execution_count": 8,
   "id": "3013b7ac",
   "metadata": {
    "cell_style": "split"
   },
   "outputs": [
    {
     "data": {
      "text/plain": [
       "\u001b[36mres7_0\u001b[39m: \u001b[32mSInt\u001b[39m = SInt\n",
       "\u001b[36mres7_1\u001b[39m: \u001b[32mSInt\u001b[39m = SInt<32>\n",
       "\u001b[32mimport \u001b[39m\u001b[36mchisel3.internal.firrtl._\n",
       "\u001b[39m\n",
       "\u001b[36mfooWidth\u001b[39m: \u001b[32mWidth\u001b[39m = \u001b[33mKnownWidth\u001b[39m(value = \u001b[32m64\u001b[39m)\n",
       "\u001b[36mfooUInt\u001b[39m: \u001b[32mSInt\u001b[39m = SInt<64>"
      ]
     },
     "execution_count": 8,
     "metadata": {},
     "output_type": "execute_result"
    }
   ],
   "source": [
    "//UInt\n",
    "SInt()     //UInt, width inferred\n",
    "SInt(32.W) //32bit UInt\n",
    "\n",
    "//Width constructor : <Int>.W\n",
    "import chisel3.internal.firrtl._\n",
    "val fooWidth = 64.W //firrtl Width Literal\n",
    "val fooUInt = SInt(fooWidth)"
   ]
  },
  {
   "cell_type": "code",
   "execution_count": 9,
   "id": "56f50dd4",
   "metadata": {
    "cell_style": "split"
   },
   "outputs": [
    {
     "data": {
      "text/plain": [
       "\u001b[36mres8_0\u001b[39m: \u001b[32mSInt\u001b[39m = SInt<4>(4)\n",
       "\u001b[36mres8_1\u001b[39m: \u001b[32mSInt\u001b[39m = SInt<32>(4)\n",
       "\u001b[36mres8_2\u001b[39m: \u001b[32mSInt\u001b[39m = SInt<64>(4)\n",
       "\u001b[36mfooLiteral\u001b[39m: \u001b[32mSInt\u001b[39m = SInt<64>(4)"
      ]
     },
     "execution_count": 9,
     "metadata": {},
     "output_type": "execute_result"
    }
   ],
   "source": [
    "//SInt Literal\n",
    "4.S\n",
    "4.S(32.W)\n",
    "4.S(fooWidth)\n",
    "val fooLiteral = 4.S(fooWidth)"
   ]
  },
  {
   "cell_type": "markdown",
   "id": "739502ca",
   "metadata": {
    "slideshow": {
     "slide_type": "slide"
    }
   },
   "source": [
    "# Basic Chisel Constructs"
   ]
  },
  {
   "cell_type": "markdown",
   "id": "e1404d9e",
   "metadata": {
    "cell_style": "center",
    "slideshow": {
     "slide_type": "-"
    }
   },
   "source": [
    "- Module\n",
    "    - IO\n",
    "    - Wire\n",
    "    - Reg\n",
    "- Conditional\n",
    "    - When\n",
    "    - Switch\n",
    "- Enum"
   ]
  },
  {
   "cell_type": "markdown",
   "id": "57cab388",
   "metadata": {
    "slideshow": {
     "slide_type": "slide"
    }
   },
   "source": [
    "## Module"
   ]
  },
  {
   "cell_type": "markdown",
   "id": "97a80fe4",
   "metadata": {
    "cell_style": "split"
   },
   "source": [
    "- inherits from `Module`\n",
    "- contains at least one interface wrapped in a Module’s IO() method (traditionally stored in a port field named io)\n",
    "- wires together subcircuits in its constructor."
   ]
  },
  {
   "cell_type": "code",
   "execution_count": 128,
   "id": "507775ec",
   "metadata": {
    "cell_style": "split"
   },
   "outputs": [
    {
     "data": {
      "text/plain": [
       "defined \u001b[32mclass\u001b[39m \u001b[36mhello\u001b[39m"
      ]
     },
     "execution_count": 128,
     "metadata": {},
     "output_type": "execute_result"
    }
   ],
   "source": [
    "class hello extends Module"
   ]
  },
  {
   "cell_type": "code",
   "execution_count": 129,
   "id": "427132dd",
   "metadata": {
    "cell_style": "split"
   },
   "outputs": [
    {
     "name": "stdout",
     "output_type": "stream",
     "text": [
      "module hello(\n",
      "  input   clock,\n",
      "  input   reset\n",
      ");\n",
      "endmodule\n"
     ]
    }
   ],
   "source": [
    "println(getVerilog(new hello))"
   ]
  },
  {
   "cell_type": "code",
   "execution_count": 130,
   "id": "f117dced",
   "metadata": {
    "cell_style": "split"
   },
   "outputs": [
    {
     "data": {
      "text/html": [
       "<div width=\"100%\" height=\"100%\" overflow=\"scroll\"><?xml version=\"1.0\" encoding=\"UTF-8\" standalone=\"no\"?>\n",
       "<?xml-stylesheet href=\"styles.css\" type=\"text/css\"?>\n",
       "<!DOCTYPE svg PUBLIC \"-//W3C//DTD SVG 1.1//EN\"\n",
       " \"http://www.w3.org/Graphics/SVG/1.1/DTD/svg11.dtd\">\n",
       "<!-- Generated by graphviz version 2.40.1 (0)\n",
       " -->\n",
       "<!-- Title: hello Pages: 1 -->\n",
       "<svg width=\"95pt\" height=\"153pt\"\n",
       " viewBox=\"0.00 0.00 95.00 153.00\" xmlns=\"http://www.w3.org/2000/svg\" xmlns:xlink=\"http://www.w3.org/1999/xlink\">\n",
       "<g id=\"graph0\" class=\"graph\" transform=\"scale(1 1) rotate(0) translate(4 149)\">\n",
       "<title>hello</title>\n",
       "<polygon fill=\"#ffffff\" stroke=\"transparent\" points=\"-4,4 -4,-149 91,-149 91,4 -4,4\"/>\n",
       "<g id=\"clust1\" class=\"cluster\">\n",
       "<title>cluster_hello</title>\n",
       "<polygon fill=\"#fff8dc\" stroke=\"#000000\" points=\"8,-8 8,-137 79,-137 79,-8 8,-8\"/>\n",
       "<text text-anchor=\"middle\" x=\"43.5\" y=\"-121.8\" font-family=\"Times,serif\" font-size=\"14.00\" fill=\"#000000\">hello</text>\n",
       "</g>\n",
       "<!-- cluster_hello_clock -->\n",
       "<g id=\"node1\" class=\"node\">\n",
       "<title>cluster_hello_clock</title>\n",
       "<polygon fill=\"#cccccc\" stroke=\"#000000\" points=\"71,-106 16,-106 16,-70 71,-70 71,-106\"/>\n",
       "<text text-anchor=\"middle\" x=\"43.5\" y=\"-84.3\" font-family=\"Times,serif\" font-size=\"14.00\" fill=\"#000000\">clock</text>\n",
       "</g>\n",
       "<!-- cluster_hello_reset -->\n",
       "<g id=\"node2\" class=\"node\">\n",
       "<title>cluster_hello_reset</title>\n",
       "<polygon fill=\"#cccccc\" stroke=\"#000000\" points=\"70.5,-52 16.5,-52 16.5,-16 70.5,-16 70.5,-52\"/>\n",
       "<text text-anchor=\"middle\" x=\"43.5\" y=\"-30.3\" font-family=\"Times,serif\" font-size=\"14.00\" fill=\"#000000\">reset</text>\n",
       "</g>\n",
       "</g>\n",
       "</svg>\n",
       "</div>"
      ]
     },
     "metadata": {},
     "output_type": "display_data"
    }
   ],
   "source": [
    "visualize(() => new hello)"
   ]
  },
  {
   "cell_type": "markdown",
   "id": "f5756e31",
   "metadata": {
    "slideshow": {
     "slide_type": "slide"
    }
   },
   "source": [
    "## Port"
   ]
  },
  {
   "cell_type": "markdown",
   "id": "a62c9ba3",
   "metadata": {
    "cell_style": "split"
   },
   "source": [
    "- IO must be"
   ]
  },
  {
   "cell_type": "code",
   "execution_count": 163,
   "id": "c3531a7c",
   "metadata": {
    "cell_style": "split"
   },
   "outputs": [
    {
     "data": {
      "text/plain": [
       "defined \u001b[32mclass\u001b[39m \u001b[36mhello\u001b[39m"
      ]
     },
     "execution_count": 163,
     "metadata": {},
     "output_type": "execute_result"
    }
   ],
   "source": [
    "class hello extends Module{\n",
    "  val ioA = IO(Input(SInt(4.W)))\n",
    "  val ioB = IO(Input(SInt(4.W)))\n",
    "  val ioZ = IO(Output(SInt(4.W)))\n",
    "    \n",
    "  ioZ := ioA + ioB\n",
    "  \n",
    "}"
   ]
  },
  {
   "cell_type": "code",
   "execution_count": 164,
   "id": "c7401741",
   "metadata": {
    "cell_style": "split"
   },
   "outputs": [
    {
     "name": "stdout",
     "output_type": "stream",
     "text": [
      "module hello(\n",
      "  input        clock,\n",
      "  input        reset,\n",
      "  input  [3:0] ioA,\n",
      "  input  [3:0] ioB,\n",
      "  output [3:0] ioZ\n",
      ");\n",
      "  assign ioZ = $signed(ioA) + $signed(ioB);\n",
      "endmodule\n"
     ]
    }
   ],
   "source": [
    "println(getVerilog(new hello))"
   ]
  },
  {
   "cell_type": "code",
   "execution_count": 165,
   "id": "68a203a2",
   "metadata": {
    "cell_style": "split"
   },
   "outputs": [
    {
     "data": {
      "text/html": [
       "<div width=\"100%\" height=\"100%\" overflow=\"scroll\"><?xml version=\"1.0\" encoding=\"UTF-8\" standalone=\"no\"?>\n",
       "<?xml-stylesheet href=\"styles.css\" type=\"text/css\"?>\n",
       "<!DOCTYPE svg PUBLIC \"-//W3C//DTD SVG 1.1//EN\"\n",
       " \"http://www.w3.org/Graphics/SVG/1.1/DTD/svg11.dtd\">\n",
       "<!-- Generated by graphviz version 2.40.1 (0)\n",
       " -->\n",
       "<!-- Title: hello Pages: 1 -->\n",
       "<svg width=\"850pt\" height=\"261pt\"\n",
       " viewBox=\"0.00 0.00 850.00 261.00\" xmlns=\"http://www.w3.org/2000/svg\" xmlns:xlink=\"http://www.w3.org/1999/xlink\">\n",
       "<g id=\"graph0\" class=\"graph\" transform=\"scale(1 1) rotate(0) translate(4 257)\">\n",
       "<title>hello</title>\n",
       "<polygon fill=\"#ffffff\" stroke=\"transparent\" points=\"-4,4 -4,-257 846,-257 846,4 -4,4\"/>\n",
       "<g id=\"clust1\" class=\"cluster\">\n",
       "<title>cluster_hello</title>\n",
       "<polygon fill=\"#fff8dc\" stroke=\"#000000\" points=\"8,-8 8,-245 834,-245 834,-8 8,-8\"/>\n",
       "<text text-anchor=\"middle\" x=\"421\" y=\"-229.8\" font-family=\"Times,serif\" font-size=\"14.00\" fill=\"#000000\">hello</text>\n",
       "</g>\n",
       "<!-- cluster_hello_clock -->\n",
       "<g id=\"node1\" class=\"node\">\n",
       "<title>cluster_hello_clock</title>\n",
       "<polygon fill=\"#cccccc\" stroke=\"#000000\" points=\"71,-214 16,-214 16,-178 71,-178 71,-214\"/>\n",
       "<text text-anchor=\"middle\" x=\"43.5\" y=\"-192.3\" font-family=\"Times,serif\" font-size=\"14.00\" fill=\"#000000\">clock</text>\n",
       "</g>\n",
       "<!-- cluster_hello_reset -->\n",
       "<g id=\"node2\" class=\"node\">\n",
       "<title>cluster_hello_reset</title>\n",
       "<polygon fill=\"#cccccc\" stroke=\"#000000\" points=\"70.5,-160 16.5,-160 16.5,-124 70.5,-124 70.5,-160\"/>\n",
       "<text text-anchor=\"middle\" x=\"43.5\" y=\"-138.3\" font-family=\"Times,serif\" font-size=\"14.00\" fill=\"#000000\">reset</text>\n",
       "</g>\n",
       "<!-- cluster_hello_ioA -->\n",
       "<g id=\"node3\" class=\"node\">\n",
       "<title>cluster_hello_ioA</title>\n",
       "<polygon fill=\"#cccccc\" stroke=\"#000000\" points=\"70.5,-106 16.5,-106 16.5,-70 70.5,-70 70.5,-106\"/>\n",
       "<text text-anchor=\"middle\" x=\"43.5\" y=\"-84.3\" font-family=\"Times,serif\" font-size=\"14.00\" fill=\"#000000\">ioA</text>\n",
       "</g>\n",
       "<!-- op_add_59 -->\n",
       "<g id=\"node7\" class=\"node\">\n",
       "<title>op_add_59</title>\n",
       "<polygon fill=\"#d8bfd8\" stroke=\"transparent\" points=\"115,-41 115,-91 207,-91 207,-41 115,-41\"/>\n",
       "<polygon fill=\"none\" stroke=\"#000000\" points=\"115,-66 115,-91 138,-91 138,-66 115,-66\"/>\n",
       "<text text-anchor=\"start\" x=\"120\" y=\"-74.8\" font-family=\"Times,serif\" font-size=\"14.00\" fill=\"#000000\">●</text>\n",
       "<polygon fill=\"none\" stroke=\"#000000\" points=\"138,-41 138,-91 184,-91 184,-41 138,-41\"/>\n",
       "<text text-anchor=\"start\" x=\"143\" y=\"-62.3\" font-family=\"Times,serif\" font-size=\"14.00\" fill=\"#000000\"> add </text>\n",
       "<polygon fill=\"none\" stroke=\"#000000\" points=\"184,-41 184,-91 207,-91 207,-41 184,-41\"/>\n",
       "<text text-anchor=\"start\" x=\"189\" y=\"-62.3\" font-family=\"Times,serif\" font-size=\"14.00\" fill=\"#000000\">●</text>\n",
       "<polygon fill=\"none\" stroke=\"#000000\" points=\"115,-41 115,-66 138,-66 138,-41 115,-41\"/>\n",
       "<text text-anchor=\"start\" x=\"120\" y=\"-49.8\" font-family=\"Times,serif\" font-size=\"14.00\" fill=\"#000000\">●</text>\n",
       "</g>\n",
       "<!-- cluster_hello_ioA&#45;&gt;op_add_59 -->\n",
       "<g id=\"edge6\" class=\"edge\">\n",
       "<title>cluster_hello_ioA&#45;&gt;op_add_59:in1</title>\n",
       "<path fill=\"none\" stroke=\"#000000\" d=\"M70.5609,-82.9737C80.8719,-81.3792 92.9854,-79.8741 104.7756,-79.274\"/>\n",
       "<polygon fill=\"#000000\" stroke=\"#000000\" points=\"105.0974,-82.7667 115,-79 104.9098,-75.7692 105.0974,-82.7667\"/>\n",
       "</g>\n",
       "<!-- cluster_hello_ioB -->\n",
       "<g id=\"node4\" class=\"node\">\n",
       "<title>cluster_hello_ioB</title>\n",
       "<polygon fill=\"#cccccc\" stroke=\"#000000\" points=\"70.5,-52 16.5,-52 16.5,-16 70.5,-16 70.5,-52\"/>\n",
       "<text text-anchor=\"middle\" x=\"43.5\" y=\"-30.3\" font-family=\"Times,serif\" font-size=\"14.00\" fill=\"#000000\">ioB</text>\n",
       "</g>\n",
       "<!-- cluster_hello_ioB&#45;&gt;op_add_59 -->\n",
       "<g id=\"edge4\" class=\"edge\">\n",
       "<title>cluster_hello_ioB&#45;&gt;op_add_59:in2</title>\n",
       "<path fill=\"none\" stroke=\"#000000\" d=\"M70.5561,-44.7216C80.861,-48.0886 93.0188,-51.2474 105.0105,-52.4683\"/>\n",
       "<polygon fill=\"#000000\" stroke=\"#000000\" points=\"104.8281,-55.9634 115,-53 105.2002,-48.9733 104.8281,-55.9634\"/>\n",
       "</g>\n",
       "<!-- cluster_hello_ioZ -->\n",
       "<g id=\"node5\" class=\"node\">\n",
       "<title>cluster_hello_ioZ</title>\n",
       "<polygon fill=\"#e0ffff\" stroke=\"#000000\" points=\"826,-71 772,-71 772,-35 826,-35 826,-71\"/>\n",
       "<text text-anchor=\"middle\" x=\"799\" y=\"-49.3\" font-family=\"Times,serif\" font-size=\"14.00\" fill=\"#000000\">ioZ</text>\n",
       "</g>\n",
       "<!-- cluster_hello__ioZ_T -->\n",
       "<g id=\"node6\" class=\"node\">\n",
       "<title>cluster_hello__ioZ_T</title>\n",
       "<polygon fill=\"none\" stroke=\"#000000\" points=\"315,-84 251,-84 251,-48 315,-48 315,-84\"/>\n",
       "<text text-anchor=\"middle\" x=\"283\" y=\"-62.3\" font-family=\"Times,serif\" font-size=\"14.00\" fill=\"#000000\">_ioZ_T</text>\n",
       "</g>\n",
       "<!-- op_tail_60 -->\n",
       "<g id=\"node9\" class=\"node\">\n",
       "<title>op_tail_60</title>\n",
       "<polygon fill=\"#d8bfd8\" stroke=\"transparent\" points=\"359,-28 359,-78 448,-78 448,-28 359,-28\"/>\n",
       "<polygon fill=\"none\" stroke=\"#000000\" points=\"359.5,-53 359.5,-78 382.5,-78 382.5,-53 359.5,-53\"/>\n",
       "<text text-anchor=\"start\" x=\"364.5\" y=\"-61.8\" font-family=\"Times,serif\" font-size=\"14.00\" fill=\"#000000\">●</text>\n",
       "<polygon fill=\"none\" stroke=\"#000000\" points=\"382.5,-28 382.5,-78 425.5,-78 425.5,-28 382.5,-28\"/>\n",
       "<text text-anchor=\"start\" x=\"387.5\" y=\"-49.3\" font-family=\"Times,serif\" font-size=\"14.00\" fill=\"#000000\"> tail </text>\n",
       "<polygon fill=\"none\" stroke=\"#000000\" points=\"425.5,-28 425.5,-78 448.5,-78 448.5,-28 425.5,-28\"/>\n",
       "<text text-anchor=\"start\" x=\"430.5\" y=\"-49.3\" font-family=\"Times,serif\" font-size=\"14.00\" fill=\"#000000\">●</text>\n",
       "<polygon fill=\"none\" stroke=\"#000000\" points=\"359.5,-28 359.5,-53 382.5,-53 382.5,-28 359.5,-28\"/>\n",
       "<text text-anchor=\"start\" x=\"366\" y=\"-36.8\" font-family=\"Times,serif\" font-size=\"14.00\" fill=\"#000000\">1</text>\n",
       "</g>\n",
       "<!-- cluster_hello__ioZ_T&#45;&gt;op_tail_60 -->\n",
       "<g id=\"edge3\" class=\"edge\">\n",
       "<title>cluster_hello__ioZ_T&#45;&gt;op_tail_60:in1</title>\n",
       "<path fill=\"none\" stroke=\"#000000\" d=\"M315.0098,-66C325.6075,-66 337.6868,-66 349.3756,-66\"/>\n",
       "<polygon fill=\"#000000\" stroke=\"#000000\" points=\"349.5,-69.5001 359.5,-66 349.5,-62.5001 349.5,-69.5001\"/>\n",
       "</g>\n",
       "<!-- op_add_59&#45;&gt;cluster_hello__ioZ_T -->\n",
       "<g id=\"edge2\" class=\"edge\">\n",
       "<title>op_add_59:out&#45;&gt;cluster_hello__ioZ_T</title>\n",
       "<path fill=\"none\" stroke=\"#000000\" d=\"M207,-66C217.8988,-66 229.6768,-66 240.6319,-66\"/>\n",
       "<polygon fill=\"#000000\" stroke=\"#000000\" points=\"240.8276,-69.5001 250.8276,-66 240.8275,-62.5001 240.8276,-69.5001\"/>\n",
       "</g>\n",
       "<!-- cluster_hello__ioZ_T_1 -->\n",
       "<g id=\"node8\" class=\"node\">\n",
       "<title>cluster_hello__ioZ_T_1</title>\n",
       "<polygon fill=\"none\" stroke=\"#000000\" points=\"572,-71 492,-71 492,-35 572,-35 572,-71\"/>\n",
       "<text text-anchor=\"middle\" x=\"532\" y=\"-49.3\" font-family=\"Times,serif\" font-size=\"14.00\" fill=\"#000000\">_ioZ_T_1</text>\n",
       "</g>\n",
       "<!-- op_asSInt_61 -->\n",
       "<g id=\"node10\" class=\"node\">\n",
       "<title>op_asSInt_61</title>\n",
       "<polygon fill=\"#d8bfd8\" stroke=\"transparent\" points=\"616,-41.5 616,-66.5 728,-66.5 728,-41.5 616,-41.5\"/>\n",
       "<polygon fill=\"none\" stroke=\"#000000\" points=\"616,-41 616,-66 639,-66 639,-41 616,-41\"/>\n",
       "<text text-anchor=\"start\" x=\"621\" y=\"-49.8\" font-family=\"Times,serif\" font-size=\"14.00\" fill=\"#000000\">●</text>\n",
       "<polygon fill=\"none\" stroke=\"#000000\" points=\"639,-41 639,-66 705,-66 705,-41 639,-41\"/>\n",
       "<text text-anchor=\"start\" x=\"644\" y=\"-49.8\" font-family=\"Times,serif\" font-size=\"14.00\" fill=\"#000000\"> asSInt </text>\n",
       "<polygon fill=\"none\" stroke=\"#000000\" points=\"705,-41 705,-66 728,-66 728,-41 705,-41\"/>\n",
       "<text text-anchor=\"start\" x=\"710\" y=\"-49.8\" font-family=\"Times,serif\" font-size=\"14.00\" fill=\"#000000\">●</text>\n",
       "</g>\n",
       "<!-- cluster_hello__ioZ_T_1&#45;&gt;op_asSInt_61 -->\n",
       "<g id=\"edge7\" class=\"edge\">\n",
       "<title>cluster_hello__ioZ_T_1&#45;&gt;op_asSInt_61:in1</title>\n",
       "<path fill=\"none\" stroke=\"#000000\" d=\"M572.1633,-53C582.7945,-53 594.4654,-53 605.7662,-53\"/>\n",
       "<polygon fill=\"#000000\" stroke=\"#000000\" points=\"606,-56.5001 616,-53 606,-49.5001 606,-56.5001\"/>\n",
       "</g>\n",
       "<!-- op_tail_60&#45;&gt;cluster_hello__ioZ_T_1 -->\n",
       "<g id=\"edge1\" class=\"edge\">\n",
       "<title>op_tail_60:out&#45;&gt;cluster_hello__ioZ_T_1</title>\n",
       "<path fill=\"none\" stroke=\"#000000\" d=\"M448.5,-53C459.1561,-53 470.5771,-53 481.4452,-53\"/>\n",
       "<polygon fill=\"#000000\" stroke=\"#000000\" points=\"481.6527,-56.5001 491.6527,-53 481.6527,-49.5001 481.6527,-56.5001\"/>\n",
       "</g>\n",
       "<!-- op_asSInt_61&#45;&gt;cluster_hello_ioZ -->\n",
       "<g id=\"edge5\" class=\"edge\">\n",
       "<title>op_asSInt_61:out&#45;&gt;cluster_hello_ioZ</title>\n",
       "<path fill=\"none\" stroke=\"#000000\" d=\"M728,-53C738.9291,-53 750.8045,-53 761.6597,-53\"/>\n",
       "<polygon fill=\"#000000\" stroke=\"#000000\" points=\"761.6905,-56.5001 771.6905,-53 761.6904,-49.5001 761.6905,-56.5001\"/>\n",
       "</g>\n",
       "</g>\n",
       "</svg>\n",
       "</div>"
      ]
     },
     "metadata": {},
     "output_type": "display_data"
    }
   ],
   "source": [
    "visualize(() => new hello)"
   ]
  },
  {
   "cell_type": "markdown",
   "id": "fcf88eb3",
   "metadata": {
    "slideshow": {
     "slide_type": "slide"
    }
   },
   "source": [
    "## Bundle"
   ]
  },
  {
   "cell_type": "code",
   "execution_count": 166,
   "id": "ddcbe55f",
   "metadata": {
    "cell_style": "split"
   },
   "outputs": [
    {
     "data": {
      "text/plain": [
       "defined \u001b[32mclass\u001b[39m \u001b[36mMuxBundleIO\u001b[39m"
      ]
     },
     "execution_count": 166,
     "metadata": {},
     "output_type": "execute_result"
    }
   ],
   "source": [
    "class MuxBundleIO extends Bundle{\n",
    "  val a = Input(UInt(4.W))\n",
    "  val b = Input(UInt(4.W))\n",
    "  val z = Output(UInt(4.W))\n",
    "}"
   ]
  },
  {
   "cell_type": "code",
   "execution_count": 167,
   "id": "5ed6a8b0",
   "metadata": {
    "cell_style": "split"
   },
   "outputs": [
    {
     "name": "stdout",
     "output_type": "stream",
     "text": [
      "module hello(\n",
      "  input        clock,\n",
      "  input        reset,\n",
      "  input  [3:0] ioA,\n",
      "  input  [3:0] ioB,\n",
      "  output [3:0] ioZ\n",
      ");\n",
      "  assign ioZ = $signed(ioA) + $signed(ioB);\n",
      "endmodule\n"
     ]
    },
    {
     "data": {
      "text/plain": [
       "defined \u001b[32mclass\u001b[39m \u001b[36mHelloWorld\u001b[39m"
      ]
     },
     "execution_count": 167,
     "metadata": {},
     "output_type": "execute_result"
    }
   ],
   "source": [
    "class HelloWorld extends Module{\n",
    "  val io = IO(new MuxBundleIO)\n",
    "  io.z := io.a + io.b\n",
    "}\n",
    "\n",
    "println(getVerilog(new hello))"
   ]
  },
  {
   "cell_type": "markdown",
   "id": "e93db4d9",
   "metadata": {
    "slideshow": {
     "slide_type": "slide"
    }
   },
   "source": [
    "## Wire"
   ]
  },
  {
   "cell_type": "markdown",
   "id": "b7de28d0",
   "metadata": {
    "cell_style": "split"
   },
   "source": [
    "##### Wire\n",
    "- constructor:\n",
    "  + `Wire(<ChiselType>)`\n",
    "      + `Wire(SInt(<Width>))`\n",
    "      + `Wire(SInt())`\n",
    "\n",
    "##### WireInit\n",
    "- constructor\n",
    "  + `WireDefault()`\n"
   ]
  },
  {
   "cell_type": "code",
   "execution_count": 154,
   "id": "373199c2",
   "metadata": {
    "cell_style": "split"
   },
   "outputs": [
    {
     "data": {
      "text/plain": [
       "defined \u001b[32mclass\u001b[39m \u001b[36mhello\u001b[39m\n",
       "defined \u001b[32mobject\u001b[39m \u001b[36mhello\u001b[39m"
      ]
     },
     "execution_count": 154,
     "metadata": {},
     "output_type": "execute_result"
    }
   ],
   "source": [
    "class hello extends Module{\n",
    "  val a     = Wire(SInt(3.W))\n",
    "  val aImpl = Wire(SInt())\n",
    "  val aInit     = WireDefault(0.S(3.W))\n",
    "  val aInitImpl = WireDefault(0.S)\n",
    "}\n",
    "\n",
    "object hello{\n",
    "  val a = new hello\n",
    "}"
   ]
  },
  {
   "cell_type": "markdown",
   "id": "338e706c",
   "metadata": {
    "slideshow": {
     "slide_type": "slide"
    }
   },
   "source": [
    "## Reg"
   ]
  },
  {
   "cell_type": "markdown",
   "id": "2737256c",
   "metadata": {
    "slideshow": {
     "slide_type": "slide"
    }
   },
   "source": [
    "## When"
   ]
  },
  {
   "cell_type": "markdown",
   "id": "7069b37a",
   "metadata": {
    "slideshow": {
     "slide_type": "slide"
    }
   },
   "source": [
    "## Switch"
   ]
  },
  {
   "cell_type": "markdown",
   "id": "9023cc7a",
   "metadata": {
    "slideshow": {
     "slide_type": "slide"
    }
   },
   "source": [
    "## Enum"
   ]
  },
  {
   "cell_type": "markdown",
   "id": "edfcec99",
   "metadata": {
    "slideshow": {
     "slide_type": "slide"
    }
   },
   "source": [
    "# State Elements"
   ]
  },
  {
   "cell_type": "markdown",
   "id": "66a07e83",
   "metadata": {
    "slideshow": {
     "slide_type": "slide"
    }
   },
   "source": [
    "# Modules"
   ]
  },
  {
   "cell_type": "code",
   "execution_count": null,
   "id": "fa81addb",
   "metadata": {},
   "outputs": [],
   "source": []
  },
  {
   "cell_type": "code",
   "execution_count": null,
   "id": "54c07346",
   "metadata": {},
   "outputs": [],
   "source": []
  },
  {
   "cell_type": "code",
   "execution_count": null,
   "id": "1ce1d0d4",
   "metadata": {},
   "outputs": [],
   "source": []
  },
  {
   "cell_type": "code",
   "execution_count": null,
   "id": "74db8832",
   "metadata": {},
   "outputs": [],
   "source": []
  },
  {
   "cell_type": "code",
   "execution_count": null,
   "id": "b3666691",
   "metadata": {},
   "outputs": [],
   "source": []
  },
  {
   "cell_type": "code",
   "execution_count": null,
   "id": "e07ef5b6",
   "metadata": {},
   "outputs": [],
   "source": []
  }
 ],
 "metadata": {
  "celltoolbar": "Slideshow",
  "kernelspec": {
   "display_name": "Scala",
   "language": "scala",
   "name": "scala"
  },
  "language_info": {
   "codemirror_mode": "text/x-scala",
   "file_extension": ".sc",
   "mimetype": "text/x-scala",
   "name": "scala",
   "nbconvert_exporter": "script",
   "version": "2.13.4"
  }
 },
 "nbformat": 4,
 "nbformat_minor": 5
}
